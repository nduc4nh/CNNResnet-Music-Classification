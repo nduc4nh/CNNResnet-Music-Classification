{
 "cells": [
  {
   "cell_type": "code",
   "execution_count": null,
   "metadata": {},
   "outputs": [],
   "source": [
    "import numpy as np\n",
    "import keras \n",
    "import tensorflow as tf\n",
    "import pickle\n",
    "import os"
   ]
  },
  {
   "cell_type": "code",
   "execution_count": null,
   "metadata": {},
   "outputs": [],
   "source": [
    "#https://drive.google.com/file/d/13R2Y_8HK2tid2MrsD3MG99KZdR2DZjiu/view?usp=sharing\n",
    "#Download the training data in Google drive and set the path\n",
    "path = ''"
   ]
  },
  {
   "cell_type": "code",
   "execution_count": null,
   "metadata": {},
   "outputs": [],
   "source": [
    "join = os.path.join"
   ]
  },
  {
   "cell_type": "code",
   "execution_count": null,
   "metadata": {
    "id": "5C4-8UE1mvIB"
   },
   "outputs": [],
   "source": [
    "with open(join(path,'cheo'),'rb') as f:\n",
    "    cheo = pickle.load(f)\n",
    "cheo = cheo.reshape([cheo.shape[0],cheo.shape[2],cheo.shape[1]])"
   ]
  },
  {
   "cell_type": "code",
   "execution_count": null,
   "metadata": {
    "id": "ReQlGU9OnJZs"
   },
   "outputs": [],
   "source": [
    "with open(join(path,'quanho'),'rb') as f:\n",
    "    quanho = pickle.load(f)\n",
    "quanho = quanho.reshape([quanho.shape[0],quanho.shape[2],quanho.shape[1]])"
   ]
  },
  {
   "cell_type": "code",
   "execution_count": null,
   "metadata": {
    "id": "jyrCBihgnJeR"
   },
   "outputs": [],
   "source": [
    "with open(join(path,'xam'),'rb') as f:\n",
    "    xam = pickle5.load(f)\n",
    "xam = xam.reshape([xam.shape[0],xam.shape[2],xam.shape[1]])"
   ]
  },
  {
   "cell_type": "code",
   "execution_count": null,
   "metadata": {
    "id": "TlQRS7O_nJjF"
   },
   "outputs": [],
   "source": [
    "with open(join(path,'catru'),'rb') as f:\n",
    "    catru = pickle5.load(f)\n",
    "catru = catru.reshape([catru.shape[0],catru.shape[2],catru.shape[1]])"
   ]
  },
  {
   "cell_type": "code",
   "execution_count": null,
   "metadata": {
    "id": "tidtp2pNoqgx"
   },
   "outputs": [],
   "source": [
    "y_cheo = np.ones((cheo.shape[0],))\n",
    "y_quanho = np.ones((quanho.shape[0],))*3/4\n",
    "y_xam = np.ones((xam.shape[0],))*1/2\n",
    "y_catru = np.ones((catru.shape[0],))*1/4\n"
   ]
  },
  {
   "cell_type": "code",
   "execution_count": null,
   "metadata": {
    "id": "95vs4F20w_1V"
   },
   "outputs": [],
   "source": [
    "y_cheo1 = np.ones((cheo.shape[0],))\n",
    "y_quanho1 = np.ones((quanho.shape[0],))*2\n",
    "y_xam1 = np.ones((xam.shape[0],))*3\n",
    "y_catru1 = np.ones((catru.shape[0],))*4\n"
   ]
  },
  {
   "cell_type": "code",
   "execution_count": null,
   "metadata": {
    "id": "3kFIy5fwrkRY"
   },
   "outputs": [],
   "source": [
    "X = np.concatenate([cheo,quanho,xam,catru])\n",
    "y = np.concatenate([y_cheo,y_quanho,y_xam,y_catru])\n",
    "y1 = np.concatenate([y_cheo1,y_quanho1,y_xam1,y_catru1])"
   ]
  },
  {
   "cell_type": "code",
   "execution_count": null,
   "metadata": {
    "id": "meKkRD6dsOuG"
   },
   "outputs": [],
   "source": [
    "del cheo, quanho, xam, catru"
   ]
  },
  {
   "cell_type": "code",
   "execution_count": null,
   "metadata": {
    "id": "_yggIyb9gBl4"
   },
   "outputs": [],
   "source": [
    "l = X.shape[0]\n",
    "train_l = l*1//4\n",
    "train_idx = [i for i in range(train_l)]\n",
    "valid_idx = [i for i in range(train_l,2*train_l)]\n",
    "test_idx = [i for i in range(2*train_l,l)]"
   ]
  },
  {
   "cell_type": "code",
   "execution_count": null,
   "metadata": {
    "id": "Q75nobU57sP-"
   },
   "outputs": [],
   "source": [
    "tmp = [i for i in range(l)]\n",
    "np.random.shuffle(tmp)"
   ]
  },
  {
   "cell_type": "code",
   "execution_count": null,
   "metadata": {
    "id": "DXmAte8m8ZhL"
   },
   "outputs": [],
   "source": [
    "X = X[tmp,:]\n",
    "y = y[tmp]\n",
    "y1 = y1[tmp]"
   ]
  },
  {
   "cell_type": "code",
   "execution_count": null,
   "metadata": {
    "id": "gB9t_riB-TEg"
   },
   "outputs": [],
   "source": [
    "X_train = X[train_idx,:]\n",
    "X_valid = X[valid_idx,:]\n",
    "X_test = X[test_idx,:]"
   ]
  },
  {
   "cell_type": "code",
   "execution_count": null,
   "metadata": {
    "id": "Tknd5AbQ-uCG"
   },
   "outputs": [],
   "source": [
    "y_train = y[train_idx]\n",
    "y_valid = y[valid_idx]\n",
    "y_test = y[test_idx]\n",
    "y_train1 = y1[train_idx]\n",
    "y_valid1 = y1[valid_idx]\n",
    "y_test1 = y1[test_idx]"
   ]
  },
  {
   "cell_type": "code",
   "execution_count": null,
   "metadata": {
    "id": "4a2JuRartJOD"
   },
   "outputs": [],
   "source": [
    "def make_one_hot(x,num = 4):\n",
    "    return [0 if i != int(x) - 1 else 1 for i in range(num)]"
   ]
  },
  {
   "cell_type": "code",
   "execution_count": null,
   "metadata": {
    "id": "6EKzxLBAtzSk"
   },
   "outputs": [],
   "source": [
    "y_train_1hot = np.array([make_one_hot(ele) for ele in y_train1])\n",
    "y_test_1hot = np.array([make_one_hot(ele) for ele in y_test1])\n",
    "y_valid_1hot = np.array([make_one_hot(ele) for ele in y_valid1])\n"
   ]
  },
  {
   "cell_type": "code",
   "execution_count": null,
   "metadata": {
    "colab": {
     "base_uri": "https://localhost:8080/"
    },
    "id": "M3SVzOfG0CEe",
    "outputId": "021e2f9e-233a-461d-c9f2-d8a754f8028c"
   },
   "outputs": [
    {
     "data": {
      "text/plain": [
       "array([0.75, 0.75, 0.75, ..., 0.5 , 1.  , 1.  ])"
      ]
     },
     "execution_count": 22,
     "metadata": {
      "tags": []
     },
     "output_type": "execute_result"
    }
   ],
   "source": [
    "y_train"
   ]
  },
  {
   "cell_type": "code",
   "execution_count": null,
   "metadata": {
    "id": "AAcZ5dsk4vy9"
   },
   "outputs": [],
   "source": [
    "del X,y"
   ]
  },
  {
   "cell_type": "code",
   "execution_count": null,
   "metadata": {
    "id": "9tF8UzJm30gw"
   },
   "outputs": [],
   "source": [
    "del X_test"
   ]
  },
  {
   "cell_type": "markdown",
   "metadata": {
    "id": "nVdDfURns5Wb"
   },
   "source": [
    "## One-hot Model 11\n"
   ]
  },
  {
   "cell_type": "code",
   "execution_count": null,
   "metadata": {
    "id": "nILY_xtAZ27N"
   },
   "outputs": [],
   "source": [
    "class Dropout(layers.Dropout):\n",
    "    def get_config(self):\n",
    "        config = super().get_config().copy()\n",
    "        config.update({\n",
    "            'rate': 0.5,\n",
    "        })\n",
    "        return config"
   ]
  },
  {
   "cell_type": "code",
   "execution_count": null,
   "metadata": {
    "id": "LmCxFpekuHHc"
   },
   "outputs": [],
   "source": [
    "model_1hot = tf.keras.Sequential(\n",
    "      [\n",
    "        layers.Conv1D(64,3,3),layers.BatchNormalization(),layers.LeakyReLU(),\n",
    "        layers.Conv1D(64,3,1),layers.BatchNormalization(),layers.LeakyReLU(),\n",
    "        layers.MaxPool1D(3,3),\n",
    "        layers.Conv1D(64,3,1),layers.BatchNormalization(),layers.LeakyReLU(),\n",
    "        layers.MaxPool1D(3,3),\n",
    "        layers.Conv1D(128,3,1),layers.BatchNormalization(),layers.LeakyReLU(),\n",
    "        layers.MaxPool1D(3,3),\n",
    "        layers.Conv1D(128,3,1),layers.BatchNormalization(),layers.LeakyReLU(),\n",
    "        layers.MaxPool1D(3,3),\n",
    "        layers.Conv1D(128,3,1),layers.BatchNormalization(),layers.LeakyReLU(),\n",
    "        layers.MaxPool1D(3,3),\n",
    "        layers.Conv1D(256,3,1),layers.BatchNormalization(),layers.LeakyReLU(),\n",
    "        layers.MaxPool1D(3,3),\n",
    "        layers.Flatten(),\n",
    "        Dropout(0.5),\n",
    "        layers.Dense(4, activation='softmax'),\n",
    "      ]\n",
    ")\n",
    "\n"
   ]
  },
  {
   "cell_type": "code",
   "execution_count": null,
   "metadata": {
    "id": "Qa_jNjQ_uHHn"
   },
   "outputs": [],
   "source": [
    "optimizer = keras.optimizers.Adam(learning_rate=0.00001)\n",
    "model_1hot.compile(optimizer=optimizer,\n",
    "              loss='categorical_crossentropy',\n",
    "              metrics=['accuracy']\n",
    "              )"
   ]
  },
  {
   "cell_type": "code",
   "execution_count": null,
   "metadata": {
    "id": "y4CnyrXcuHHn"
   },
   "outputs": [],
   "source": [
    "\n",
    "model_1hot.build(input_shape=(None,110250,1))\n"
   ]
  },
  {
   "cell_type": "code",
   "execution_count": null,
   "metadata": {
    "id": "MUhq7xl2Wvwo"
   },
   "outputs": [],
   "source": [
    "model_1hot.save('model_h5_conv1d_11.h5')"
   ]
  },
  {
   "cell_type": "code",
   "execution_count": null,
   "metadata": {
    "colab": {
     "base_uri": "https://localhost:8080/"
    },
    "id": "EqRcinmZuHHn",
    "outputId": "319a927c-8a79-48a5-9238-1fa905fd5279"
   },
   "outputs": [
    {
     "name": "stdout",
     "output_type": "stream",
     "text": [
      "Model: \"sequential\"\n",
      "_________________________________________________________________\n",
      "Layer (type)                 Output Shape              Param #   \n",
      "=================================================================\n",
      "conv1d_7 (Conv1D)            (None, 36750, 64)         256       \n",
      "_________________________________________________________________\n",
      "batch_normalization_7 (Batch (None, 36750, 64)         256       \n",
      "_________________________________________________________________\n",
      "leaky_re_lu_7 (LeakyReLU)    (None, 36750, 64)         0         \n",
      "_________________________________________________________________\n",
      "conv1d_8 (Conv1D)            (None, 36748, 64)         12352     \n",
      "_________________________________________________________________\n",
      "batch_normalization_8 (Batch (None, 36748, 64)         256       \n",
      "_________________________________________________________________\n",
      "leaky_re_lu_8 (LeakyReLU)    (None, 36748, 64)         0         \n",
      "_________________________________________________________________\n",
      "max_pooling1d_6 (MaxPooling1 (None, 12249, 64)         0         \n",
      "_________________________________________________________________\n",
      "conv1d_9 (Conv1D)            (None, 12247, 64)         12352     \n",
      "_________________________________________________________________\n",
      "batch_normalization_9 (Batch (None, 12247, 64)         256       \n",
      "_________________________________________________________________\n",
      "leaky_re_lu_9 (LeakyReLU)    (None, 12247, 64)         0         \n",
      "_________________________________________________________________\n",
      "max_pooling1d_7 (MaxPooling1 (None, 4082, 64)          0         \n",
      "_________________________________________________________________\n",
      "conv1d_10 (Conv1D)           (None, 4080, 128)         24704     \n",
      "_________________________________________________________________\n",
      "batch_normalization_10 (Batc (None, 4080, 128)         512       \n",
      "_________________________________________________________________\n",
      "leaky_re_lu_10 (LeakyReLU)   (None, 4080, 128)         0         \n",
      "_________________________________________________________________\n",
      "max_pooling1d_8 (MaxPooling1 (None, 1360, 128)         0         \n",
      "_________________________________________________________________\n",
      "conv1d_11 (Conv1D)           (None, 1358, 128)         49280     \n",
      "_________________________________________________________________\n",
      "batch_normalization_11 (Batc (None, 1358, 128)         512       \n",
      "_________________________________________________________________\n",
      "leaky_re_lu_11 (LeakyReLU)   (None, 1358, 128)         0         \n",
      "_________________________________________________________________\n",
      "max_pooling1d_9 (MaxPooling1 (None, 452, 128)          0         \n",
      "_________________________________________________________________\n",
      "conv1d_12 (Conv1D)           (None, 450, 128)          49280     \n",
      "_________________________________________________________________\n",
      "batch_normalization_12 (Batc (None, 450, 128)          512       \n",
      "_________________________________________________________________\n",
      "leaky_re_lu_12 (LeakyReLU)   (None, 450, 128)          0         \n",
      "_________________________________________________________________\n",
      "max_pooling1d_10 (MaxPooling (None, 150, 128)          0         \n",
      "_________________________________________________________________\n",
      "conv1d_13 (Conv1D)           (None, 148, 256)          98560     \n",
      "_________________________________________________________________\n",
      "batch_normalization_13 (Batc (None, 148, 256)          1024      \n",
      "_________________________________________________________________\n",
      "leaky_re_lu_13 (LeakyReLU)   (None, 148, 256)          0         \n",
      "_________________________________________________________________\n",
      "max_pooling1d_11 (MaxPooling (None, 49, 256)           0         \n",
      "_________________________________________________________________\n",
      "flatten_1 (Flatten)          (None, 12544)             0         \n",
      "_________________________________________________________________\n",
      "dropout (Dropout)            (None, 12544)             0         \n",
      "_________________________________________________________________\n",
      "dense (Dense)                (None, 4)                 50180     \n",
      "=================================================================\n",
      "Total params: 300,292\n",
      "Trainable params: 298,628\n",
      "Non-trainable params: 1,664\n",
      "_________________________________________________________________\n"
     ]
    }
   ],
   "source": [
    "model_1hot.summary()"
   ]
  },
  {
   "cell_type": "code",
   "execution_count": null,
   "metadata": {
    "colab": {
     "base_uri": "https://localhost:8080/",
     "height": 341
    },
    "id": "6NLA1qG-uHHn",
    "outputId": "1cb90493-6aac-4396-d4cd-f34f83cc5bd9"
   },
   "outputs": [],
   "source": [
    "model_1hot.fit(X_train,y_train_1hot,validation_data=(X_valid, y_valid_1hot),batch_size = 64,epochs = 50)"
   ]
  },
  {
   "cell_type": "code",
   "execution_count": null,
   "metadata": {
    "id": "b925ofpk3Q7w"
   },
   "outputs": [],
   "source": [
    "model = tf.keras.Sequential(\n",
    "      [\n",
    "        layers.Conv1D(64,3,3),layers.BatchNormalization(),layers.LeakyReLU(),\n",
    "        layers.Conv1D(64,3,1),layers.BatchNormalization(),layers.LeakyReLU(),\n",
    "        layers.MaxPool1D(3,3),\n",
    "        layers.Conv1D(64,3,1),layers.BatchNormalization(),layers.LeakyReLU(),\n",
    "        layers.MaxPool1D(3,3),\n",
    "        layers.Conv1D(128,3,1),layers.BatchNormalization(),layers.LeakyReLU(),\n",
    "        layers.MaxPool1D(3,3),\n",
    "        layers.Conv1D(128,3,1),layers.BatchNormalization(),layers.LeakyReLU(),\n",
    "        layers.MaxPool1D(3,3),\n",
    "        layers.Conv1D(128,3,1),layers.BatchNormalization(),layers.LeakyReLU(),\n",
    "        layers.MaxPool1D(3,3),\n",
    "        layers.Conv1D(256,3,1),layers.BatchNormalization(),layers.LeakyReLU(),\n",
    "        layers.MaxPool1D(3,3),\n",
    "        layers.Flatten(),\n",
    "        keras.layers.Dropout(0.5),\n",
    "        layers.Dense(4, activation='softmax')\n",
    "      ]\n",
    ")"
   ]
  },
  {
   "cell_type": "code",
   "execution_count": null,
   "metadata": {
    "id": "0UbOmO-t3Re1"
   },
   "outputs": [],
   "source": [
    "optimizer = keras.optimizers.Adam(learning_rate=0.0000001)\n",
    "model.compile(optimizer=optimizer,\n",
    "              loss='sparse_categorical_crossentropy',\n",
    "              metrics=['accuracy']\n",
    "              )"
   ]
  },
  {
   "cell_type": "code",
   "execution_count": null,
   "metadata": {
    "id": "QL1Pcxh_3TgJ"
   },
   "outputs": [],
   "source": [
    "model.build(input_shape=(None,110250,1))"
   ]
  },
  {
   "cell_type": "code",
   "execution_count": null,
   "metadata": {
    "id": "wgaKVEOU3Uh4"
   },
   "outputs": [],
   "source": [
    "model.summary()"
   ]
  },
  {
   "cell_type": "code",
   "execution_count": null,
   "metadata": {
    "colab": {
     "base_uri": "https://localhost:8080/",
     "height": 341
    },
    "id": "YZOK3hnT3W_c",
    "outputId": "0b3fb1be-33de-41f3-b3b2-c03503c25756"
   },
   "outputs": [],
   "source": [
    "model.fit(X_train,y_train1,validation_data=(X_valid, y_valid),batch_size = 64,epochs = 100)"
   ]
  },
  {
   "cell_type": "code",
   "execution_count": null,
   "metadata": {
    "colab": {
     "base_uri": "https://localhost:8080/"
    },
    "id": "v7TrCUblVdJM",
    "outputId": "d20192b3-aa52-42ba-9bf8-2c6c952c8f01"
   },
   "outputs": [
    {
     "data": {
      "text/plain": [
       "-3.5162725e-06"
      ]
     },
     "execution_count": 62,
     "metadata": {
      "tags": []
     },
     "output_type": "execute_result"
    }
   ],
   "source": [
    "X_train.mean()"
   ]
  },
  {
   "cell_type": "code",
   "execution_count": null,
   "metadata": {
    "id": "fLZFAya6ILkG"
   },
   "outputs": [],
   "source": [
    "model.fit()"
   ]
  },
  {
   "cell_type": "code",
   "execution_count": null,
   "metadata": {
    "id": "Q82Cmr9B4a3V"
   },
   "outputs": [],
   "source": [
    "model.evaluate(X_test,y_test,verbose=2)"
   ]
  },
  {
   "cell_type": "code",
   "execution_count": null,
   "metadata": {
    "id": "DR4p3tgy3ZKz"
   },
   "outputs": [],
   "source": [
    "#model.save(\"/content/drive/MyDrive/Genre Data/model_h5_conv1d.h5\")"
   ]
  },
  {
   "cell_type": "code",
   "execution_count": null,
   "metadata": {
    "colab": {
     "base_uri": "https://localhost:8080/"
    },
    "id": "LwEn8hDz5aLp",
    "outputId": "0ad130c0-5a34-4f38-c0c1-c67f8b581584"
   },
   "outputs": [
    {
     "data": {
      "text/plain": [
       "array([2.0142358e-11, 3.8968664e-02, 2.4016083e-05, 9.5911556e-01,\n",
       "       1.8917950e-03, 1.7479967e-11, 1.9667205e-11, 2.3937716e-11,\n",
       "       2.3298967e-11, 2.5884420e-11], dtype=float32)"
      ]
     },
     "execution_count": 29,
     "metadata": {
      "tags": []
     },
     "output_type": "execute_result"
    }
   ],
   "source": [
    "#model.predict(X_train)[0]"
   ]
  },
  {
   "cell_type": "markdown",
   "metadata": {
    "id": "1iHb6kPYY3_D"
   },
   "source": [
    "## MODEL 8"
   ]
  },
  {
   "cell_type": "code",
   "execution_count": null,
   "metadata": {
    "id": "jQnMU4tBdphv"
   },
   "outputs": [],
   "source": []
  },
  {
   "cell_type": "code",
   "execution_count": null,
   "metadata": {
    "id": "niMIqhgMyHNj"
   },
   "outputs": [],
   "source": [
    "model8 = tf.keras.Sequential(\n",
    "      [\n",
    "        layers.Conv1D(1,256,256),layers.BatchNormalization(),layers.LeakyReLU(),\n",
    "        layers.Conv1D(32,8,2),layers.BatchNormalization(),layers.LeakyReLU(),\n",
    "        layers.Conv1D(32,8,1),layers.BatchNormalization(),layers.LeakyReLU(),\n",
    "        layers.MaxPool1D(4,4),\n",
    "        layers.Conv1D(32,8,1),layers.BatchNormalization(),layers.LeakyReLU(),\n",
    "        layers.MaxPool1D(4,4),\n",
    "        layers.Conv1D(32,8,1),layers.BatchNormalization(),layers.LeakyReLU(),\n",
    "        layers.MaxPool1D(4,4),\n",
    "        layers.LSTM(units=64),\n",
    "        layers.Flatten(),\n",
    "        Dropout(0.5),\n",
    "        layers.Dense(4, activation='softmax')\n",
    "      ]\n",
    ")"
   ]
  },
  {
   "cell_type": "code",
   "execution_count": null,
   "metadata": {
    "id": "D5zye8xWZLhX"
   },
   "outputs": [],
   "source": [
    "optimizer = keras.optimizers.Adam(learning_rate=0.0001)\n",
    "model8.compile(optimizer=optimizer,\n",
    "              loss='categorical_crossentropy',\n",
    "              metrics=['accuracy']\n",
    "              )"
   ]
  },
  {
   "cell_type": "code",
   "execution_count": null,
   "metadata": {
    "id": "E-9rtYODaAVW"
   },
   "outputs": [],
   "source": [
    "model8.build(input_shape=(None,110250,1))"
   ]
  },
  {
   "cell_type": "code",
   "execution_count": null,
   "metadata": {
    "colab": {
     "base_uri": "https://localhost:8080/"
    },
    "id": "rHa9dhunaF2O",
    "outputId": "48117080-1687-4e3c-d782-1c6491d1a519"
   },
   "outputs": [
    {
     "name": "stdout",
     "output_type": "stream",
     "text": [
      "Model: \"sequential_5\"\n",
      "_________________________________________________________________\n",
      "Layer (type)                 Output Shape              Param #   \n",
      "=================================================================\n",
      "conv1d_38 (Conv1D)           (None, 430, 1)            257       \n",
      "_________________________________________________________________\n",
      "batch_normalization_38 (Batc (None, 430, 1)            4         \n",
      "_________________________________________________________________\n",
      "leaky_re_lu_38 (LeakyReLU)   (None, 430, 1)            0         \n",
      "_________________________________________________________________\n",
      "conv1d_39 (Conv1D)           (None, 212, 32)           288       \n",
      "_________________________________________________________________\n",
      "batch_normalization_39 (Batc (None, 212, 32)           128       \n",
      "_________________________________________________________________\n",
      "leaky_re_lu_39 (LeakyReLU)   (None, 212, 32)           0         \n",
      "_________________________________________________________________\n",
      "conv1d_40 (Conv1D)           (None, 205, 32)           8224      \n",
      "_________________________________________________________________\n",
      "batch_normalization_40 (Batc (None, 205, 32)           128       \n",
      "_________________________________________________________________\n",
      "leaky_re_lu_40 (LeakyReLU)   (None, 205, 32)           0         \n",
      "_________________________________________________________________\n",
      "max_pooling1d_30 (MaxPooling (None, 51, 32)            0         \n",
      "_________________________________________________________________\n",
      "conv1d_41 (Conv1D)           (None, 44, 32)            8224      \n",
      "_________________________________________________________________\n",
      "batch_normalization_41 (Batc (None, 44, 32)            128       \n",
      "_________________________________________________________________\n",
      "leaky_re_lu_41 (LeakyReLU)   (None, 44, 32)            0         \n",
      "_________________________________________________________________\n",
      "max_pooling1d_31 (MaxPooling (None, 11, 32)            0         \n",
      "_________________________________________________________________\n",
      "conv1d_42 (Conv1D)           (None, 4, 32)             8224      \n",
      "_________________________________________________________________\n",
      "batch_normalization_42 (Batc (None, 4, 32)             128       \n",
      "_________________________________________________________________\n",
      "leaky_re_lu_42 (LeakyReLU)   (None, 4, 32)             0         \n",
      "_________________________________________________________________\n",
      "max_pooling1d_32 (MaxPooling (None, 1, 32)             0         \n",
      "_________________________________________________________________\n",
      "lstm_2 (LSTM)                (None, 64)                24832     \n",
      "_________________________________________________________________\n",
      "flatten_6 (Flatten)          (None, 64)                0         \n",
      "_________________________________________________________________\n",
      "dropout_4 (Dropout)          (None, 64)                0         \n",
      "_________________________________________________________________\n",
      "dense_5 (Dense)              (None, 4)                 260       \n",
      "=================================================================\n",
      "Total params: 50,825\n",
      "Trainable params: 50,567\n",
      "Non-trainable params: 258\n",
      "_________________________________________________________________\n"
     ]
    }
   ],
   "source": [
    "model8.summary()"
   ]
  },
  {
   "cell_type": "code",
   "execution_count": null,
   "metadata": {
    "colab": {
     "base_uri": "https://localhost:8080/"
    },
    "id": "r8yPRIvtfy7w",
    "outputId": "40525b46-2765-44ef-8e96-4450a434cfaf"
   },
   "outputs": [
    {
     "name": "stdout",
     "output_type": "stream",
     "text": [
      "Epoch 1/100\n",
      "42/42 [==============================] - 5s 115ms/step - loss: 0.6194 - accuracy: 0.7693 - val_loss: 1.2495 - val_accuracy: 0.4771\n",
      "Epoch 2/100\n",
      "42/42 [==============================] - 5s 114ms/step - loss: 0.6200 - accuracy: 0.7670 - val_loss: 1.2508 - val_accuracy: 0.4749\n",
      "Epoch 3/100\n",
      "42/42 [==============================] - 5s 113ms/step - loss: 0.6079 - accuracy: 0.7782 - val_loss: 1.2541 - val_accuracy: 0.4745\n",
      "Epoch 4/100\n",
      "42/42 [==============================] - 5s 115ms/step - loss: 0.6059 - accuracy: 0.7830 - val_loss: 1.2533 - val_accuracy: 0.4760\n",
      "Epoch 5/100\n",
      "42/42 [==============================] - 5s 115ms/step - loss: 0.6117 - accuracy: 0.7644 - val_loss: 1.2626 - val_accuracy: 0.4723\n",
      "Epoch 6/100\n",
      "42/42 [==============================] - 5s 116ms/step - loss: 0.6050 - accuracy: 0.7789 - val_loss: 1.2674 - val_accuracy: 0.4715\n",
      "Epoch 7/100\n",
      "42/42 [==============================] - 5s 114ms/step - loss: 0.6082 - accuracy: 0.7793 - val_loss: 1.2567 - val_accuracy: 0.4756\n",
      "Epoch 8/100\n",
      "42/42 [==============================] - 5s 114ms/step - loss: 0.6005 - accuracy: 0.7771 - val_loss: 1.2585 - val_accuracy: 0.4753\n",
      "Epoch 9/100\n",
      "42/42 [==============================] - 5s 114ms/step - loss: 0.6038 - accuracy: 0.7715 - val_loss: 1.2579 - val_accuracy: 0.4760\n",
      "Epoch 10/100\n",
      "42/42 [==============================] - 5s 115ms/step - loss: 0.6113 - accuracy: 0.7767 - val_loss: 1.2605 - val_accuracy: 0.4760\n",
      "Epoch 11/100\n",
      "42/42 [==============================] - 5s 116ms/step - loss: 0.5954 - accuracy: 0.7853 - val_loss: 1.2603 - val_accuracy: 0.4767\n",
      "Epoch 12/100\n",
      "42/42 [==============================] - 5s 114ms/step - loss: 0.6024 - accuracy: 0.7845 - val_loss: 1.2627 - val_accuracy: 0.4749\n",
      "Epoch 13/100\n",
      "42/42 [==============================] - 5s 116ms/step - loss: 0.5922 - accuracy: 0.7905 - val_loss: 1.2677 - val_accuracy: 0.4730\n",
      "Epoch 14/100\n",
      "42/42 [==============================] - 5s 114ms/step - loss: 0.5978 - accuracy: 0.7827 - val_loss: 1.2649 - val_accuracy: 0.4749\n",
      "Epoch 15/100\n",
      "42/42 [==============================] - 5s 114ms/step - loss: 0.5910 - accuracy: 0.7879 - val_loss: 1.2668 - val_accuracy: 0.4738\n",
      "Epoch 16/100\n",
      "42/42 [==============================] - 5s 114ms/step - loss: 0.5944 - accuracy: 0.7849 - val_loss: 1.2706 - val_accuracy: 0.4723\n",
      "Epoch 17/100\n",
      "42/42 [==============================] - 5s 116ms/step - loss: 0.5887 - accuracy: 0.7897 - val_loss: 1.2716 - val_accuracy: 0.4726\n",
      "Epoch 18/100\n",
      "42/42 [==============================] - 5s 115ms/step - loss: 0.5885 - accuracy: 0.7860 - val_loss: 1.2702 - val_accuracy: 0.4753\n",
      "Epoch 19/100\n",
      "42/42 [==============================] - 5s 115ms/step - loss: 0.5947 - accuracy: 0.7823 - val_loss: 1.2695 - val_accuracy: 0.4730\n",
      "Epoch 20/100\n",
      "42/42 [==============================] - 5s 115ms/step - loss: 0.5918 - accuracy: 0.7923 - val_loss: 1.2703 - val_accuracy: 0.4730\n",
      "Epoch 21/100\n",
      "42/42 [==============================] - 5s 115ms/step - loss: 0.5891 - accuracy: 0.7767 - val_loss: 1.2748 - val_accuracy: 0.4734\n",
      "Epoch 22/100\n",
      "42/42 [==============================] - 5s 116ms/step - loss: 0.5851 - accuracy: 0.7849 - val_loss: 1.2738 - val_accuracy: 0.4723\n",
      "Epoch 23/100\n",
      "42/42 [==============================] - 5s 116ms/step - loss: 0.5839 - accuracy: 0.7882 - val_loss: 1.2781 - val_accuracy: 0.4704\n",
      "Epoch 24/100\n",
      "42/42 [==============================] - 5s 114ms/step - loss: 0.5848 - accuracy: 0.7815 - val_loss: 1.2759 - val_accuracy: 0.4738\n",
      "Epoch 25/100\n",
      "42/42 [==============================] - 5s 114ms/step - loss: 0.5751 - accuracy: 0.7946 - val_loss: 1.2768 - val_accuracy: 0.4745\n",
      "Epoch 26/100\n",
      "42/42 [==============================] - 5s 113ms/step - loss: 0.5785 - accuracy: 0.7916 - val_loss: 1.2793 - val_accuracy: 0.4782\n",
      "Epoch 27/100\n",
      "42/42 [==============================] - 5s 115ms/step - loss: 0.5751 - accuracy: 0.7905 - val_loss: 1.2797 - val_accuracy: 0.4745\n",
      "Epoch 28/100\n",
      "42/42 [==============================] - 5s 115ms/step - loss: 0.5690 - accuracy: 0.7927 - val_loss: 1.2839 - val_accuracy: 0.4719\n",
      "Epoch 29/100\n",
      "42/42 [==============================] - 5s 115ms/step - loss: 0.5784 - accuracy: 0.7856 - val_loss: 1.2808 - val_accuracy: 0.4745\n",
      "Epoch 30/100\n",
      "42/42 [==============================] - 5s 113ms/step - loss: 0.5716 - accuracy: 0.7923 - val_loss: 1.2855 - val_accuracy: 0.4723\n",
      "Epoch 31/100\n",
      "42/42 [==============================] - 5s 114ms/step - loss: 0.5763 - accuracy: 0.7905 - val_loss: 1.2835 - val_accuracy: 0.4756\n",
      "Epoch 32/100\n",
      "42/42 [==============================] - 5s 114ms/step - loss: 0.5761 - accuracy: 0.7916 - val_loss: 1.2851 - val_accuracy: 0.4715\n",
      "Epoch 33/100\n",
      "42/42 [==============================] - 5s 114ms/step - loss: 0.5652 - accuracy: 0.7994 - val_loss: 1.2851 - val_accuracy: 0.4753\n",
      "Epoch 34/100\n",
      "42/42 [==============================] - 5s 115ms/step - loss: 0.5696 - accuracy: 0.7990 - val_loss: 1.2871 - val_accuracy: 0.4764\n",
      "Epoch 35/100\n",
      "42/42 [==============================] - 5s 114ms/step - loss: 0.5655 - accuracy: 0.7957 - val_loss: 1.2933 - val_accuracy: 0.4741\n",
      "Epoch 36/100\n",
      "42/42 [==============================] - 5s 115ms/step - loss: 0.5686 - accuracy: 0.7841 - val_loss: 1.2894 - val_accuracy: 0.4760\n",
      "Epoch 37/100\n",
      "42/42 [==============================] - 5s 114ms/step - loss: 0.5668 - accuracy: 0.7897 - val_loss: 1.2908 - val_accuracy: 0.4726\n",
      "Epoch 38/100\n",
      "42/42 [==============================] - 5s 115ms/step - loss: 0.5662 - accuracy: 0.8057 - val_loss: 1.2942 - val_accuracy: 0.4719\n",
      "Epoch 39/100\n",
      "42/42 [==============================] - 5s 115ms/step - loss: 0.5646 - accuracy: 0.8039 - val_loss: 1.2966 - val_accuracy: 0.4715\n",
      "Epoch 40/100\n",
      "42/42 [==============================] - 5s 115ms/step - loss: 0.5603 - accuracy: 0.8028 - val_loss: 1.2941 - val_accuracy: 0.4749\n",
      "Epoch 41/100\n",
      "42/42 [==============================] - 5s 116ms/step - loss: 0.5659 - accuracy: 0.8042 - val_loss: 1.2959 - val_accuracy: 0.4734\n",
      "Epoch 42/100\n",
      "42/42 [==============================] - 5s 115ms/step - loss: 0.5654 - accuracy: 0.7894 - val_loss: 1.3001 - val_accuracy: 0.4749\n",
      "Epoch 43/100\n",
      "42/42 [==============================] - 5s 114ms/step - loss: 0.5568 - accuracy: 0.7916 - val_loss: 1.2977 - val_accuracy: 0.4730\n",
      "Epoch 44/100\n",
      "42/42 [==============================] - 5s 113ms/step - loss: 0.5504 - accuracy: 0.8031 - val_loss: 1.3006 - val_accuracy: 0.4719\n",
      "Epoch 45/100\n",
      "42/42 [==============================] - 5s 114ms/step - loss: 0.5449 - accuracy: 0.8098 - val_loss: 1.3014 - val_accuracy: 0.4738\n",
      "Epoch 46/100\n",
      "42/42 [==============================] - 5s 115ms/step - loss: 0.5625 - accuracy: 0.7979 - val_loss: 1.3031 - val_accuracy: 0.4730\n",
      "Epoch 47/100\n",
      "42/42 [==============================] - 5s 115ms/step - loss: 0.5524 - accuracy: 0.8031 - val_loss: 1.3028 - val_accuracy: 0.4753\n",
      "Epoch 48/100\n",
      "42/42 [==============================] - 5s 115ms/step - loss: 0.5490 - accuracy: 0.8005 - val_loss: 1.3051 - val_accuracy: 0.4734\n",
      "Epoch 49/100\n",
      "42/42 [==============================] - 5s 115ms/step - loss: 0.5463 - accuracy: 0.8020 - val_loss: 1.3063 - val_accuracy: 0.4708\n",
      "Epoch 50/100\n",
      "42/42 [==============================] - 5s 113ms/step - loss: 0.5569 - accuracy: 0.7987 - val_loss: 1.3171 - val_accuracy: 0.4719\n",
      "Epoch 51/100\n",
      "42/42 [==============================] - 5s 114ms/step - loss: 0.5452 - accuracy: 0.8042 - val_loss: 1.3109 - val_accuracy: 0.4726\n",
      "Epoch 52/100\n",
      "42/42 [==============================] - 5s 114ms/step - loss: 0.5404 - accuracy: 0.8072 - val_loss: 1.3111 - val_accuracy: 0.4730\n",
      "Epoch 53/100\n",
      "42/42 [==============================] - 5s 115ms/step - loss: 0.5360 - accuracy: 0.8117 - val_loss: 1.3150 - val_accuracy: 0.4723\n",
      "Epoch 54/100\n",
      "42/42 [==============================] - 5s 115ms/step - loss: 0.5445 - accuracy: 0.8046 - val_loss: 1.3174 - val_accuracy: 0.4719\n",
      "Epoch 55/100\n",
      "42/42 [==============================] - 5s 117ms/step - loss: 0.5389 - accuracy: 0.8139 - val_loss: 1.3141 - val_accuracy: 0.4708\n",
      "Epoch 56/100\n",
      "42/42 [==============================] - 5s 117ms/step - loss: 0.5413 - accuracy: 0.8061 - val_loss: 1.3203 - val_accuracy: 0.4697\n",
      "Epoch 57/100\n",
      "42/42 [==============================] - 5s 116ms/step - loss: 0.5460 - accuracy: 0.8042 - val_loss: 1.3153 - val_accuracy: 0.4712\n",
      "Epoch 58/100\n",
      "42/42 [==============================] - 5s 115ms/step - loss: 0.5401 - accuracy: 0.8098 - val_loss: 1.3172 - val_accuracy: 0.4712\n",
      "Epoch 59/100\n",
      "42/42 [==============================] - 5s 115ms/step - loss: 0.5446 - accuracy: 0.8009 - val_loss: 1.3308 - val_accuracy: 0.4734\n",
      "Epoch 60/100\n",
      "42/42 [==============================] - 5s 115ms/step - loss: 0.5313 - accuracy: 0.8121 - val_loss: 1.3205 - val_accuracy: 0.4712\n",
      "Epoch 61/100\n",
      "42/42 [==============================] - 5s 116ms/step - loss: 0.5343 - accuracy: 0.8098 - val_loss: 1.3206 - val_accuracy: 0.4708\n",
      "Epoch 62/100\n",
      "42/42 [==============================] - 5s 114ms/step - loss: 0.5333 - accuracy: 0.8139 - val_loss: 1.3330 - val_accuracy: 0.4700\n",
      "Epoch 63/100\n",
      "42/42 [==============================] - 5s 114ms/step - loss: 0.5379 - accuracy: 0.8065 - val_loss: 1.3219 - val_accuracy: 0.4723\n",
      "Epoch 64/100\n",
      "42/42 [==============================] - 5s 113ms/step - loss: 0.5319 - accuracy: 0.8121 - val_loss: 1.3234 - val_accuracy: 0.4708\n",
      "Epoch 65/100\n",
      "42/42 [==============================] - 5s 113ms/step - loss: 0.5286 - accuracy: 0.8158 - val_loss: 1.3250 - val_accuracy: 0.4715\n",
      "Epoch 66/100\n",
      "42/42 [==============================] - 5s 114ms/step - loss: 0.5322 - accuracy: 0.8206 - val_loss: 1.3297 - val_accuracy: 0.4708\n",
      "Epoch 67/100\n",
      "42/42 [==============================] - 5s 113ms/step - loss: 0.5244 - accuracy: 0.8154 - val_loss: 1.3298 - val_accuracy: 0.4715\n",
      "Epoch 68/100\n",
      "42/42 [==============================] - 5s 115ms/step - loss: 0.5250 - accuracy: 0.8106 - val_loss: 1.3306 - val_accuracy: 0.4693\n",
      "Epoch 69/100\n",
      "42/42 [==============================] - 5s 114ms/step - loss: 0.5205 - accuracy: 0.8232 - val_loss: 1.3314 - val_accuracy: 0.4704\n",
      "Epoch 70/100\n",
      "42/42 [==============================] - 5s 116ms/step - loss: 0.5194 - accuracy: 0.8102 - val_loss: 1.3339 - val_accuracy: 0.4689\n",
      "Epoch 71/100\n",
      "42/42 [==============================] - 5s 114ms/step - loss: 0.5217 - accuracy: 0.8184 - val_loss: 1.3353 - val_accuracy: 0.4682\n",
      "Epoch 72/100\n",
      "42/42 [==============================] - 5s 116ms/step - loss: 0.5177 - accuracy: 0.8303 - val_loss: 1.3388 - val_accuracy: 0.4693\n",
      "Epoch 73/100\n",
      "42/42 [==============================] - 5s 115ms/step - loss: 0.5159 - accuracy: 0.8184 - val_loss: 1.3364 - val_accuracy: 0.4700\n",
      "Epoch 74/100\n",
      "42/42 [==============================] - 5s 116ms/step - loss: 0.5216 - accuracy: 0.8176 - val_loss: 1.3407 - val_accuracy: 0.4704\n",
      "Epoch 75/100\n",
      "42/42 [==============================] - 5s 117ms/step - loss: 0.5142 - accuracy: 0.8180 - val_loss: 1.3385 - val_accuracy: 0.4708\n",
      "Epoch 76/100\n",
      "42/42 [==============================] - 5s 115ms/step - loss: 0.5200 - accuracy: 0.8150 - val_loss: 1.3398 - val_accuracy: 0.4678\n",
      "Epoch 77/100\n",
      "42/42 [==============================] - 5s 114ms/step - loss: 0.5145 - accuracy: 0.8128 - val_loss: 1.3417 - val_accuracy: 0.4753\n",
      "Epoch 78/100\n",
      "42/42 [==============================] - 5s 115ms/step - loss: 0.5133 - accuracy: 0.8162 - val_loss: 1.3442 - val_accuracy: 0.4697\n",
      "Epoch 79/100\n",
      "42/42 [==============================] - 5s 113ms/step - loss: 0.5102 - accuracy: 0.8117 - val_loss: 1.3439 - val_accuracy: 0.4730\n",
      "Epoch 80/100\n",
      "42/42 [==============================] - 5s 115ms/step - loss: 0.5136 - accuracy: 0.8176 - val_loss: 1.3455 - val_accuracy: 0.4760\n",
      "Epoch 81/100\n",
      "42/42 [==============================] - 5s 115ms/step - loss: 0.5073 - accuracy: 0.8225 - val_loss: 1.3479 - val_accuracy: 0.4693\n",
      "Epoch 82/100\n",
      "42/42 [==============================] - 5s 115ms/step - loss: 0.5047 - accuracy: 0.8243 - val_loss: 1.3509 - val_accuracy: 0.4697\n",
      "Epoch 83/100\n",
      "42/42 [==============================] - 5s 114ms/step - loss: 0.5051 - accuracy: 0.8232 - val_loss: 1.3499 - val_accuracy: 0.4726\n",
      "Epoch 84/100\n",
      "42/42 [==============================] - 5s 115ms/step - loss: 0.5077 - accuracy: 0.8214 - val_loss: 1.3522 - val_accuracy: 0.4704\n",
      "Epoch 85/100\n",
      "42/42 [==============================] - 5s 114ms/step - loss: 0.5020 - accuracy: 0.8281 - val_loss: 1.3541 - val_accuracy: 0.4749\n",
      "Epoch 86/100\n",
      "42/42 [==============================] - 5s 116ms/step - loss: 0.5070 - accuracy: 0.8225 - val_loss: 1.3516 - val_accuracy: 0.4704\n",
      "Epoch 87/100\n",
      "42/42 [==============================] - 5s 114ms/step - loss: 0.5048 - accuracy: 0.8184 - val_loss: 1.3555 - val_accuracy: 0.4738\n",
      "Epoch 88/100\n",
      "42/42 [==============================] - 5s 114ms/step - loss: 0.4886 - accuracy: 0.8318 - val_loss: 1.3564 - val_accuracy: 0.4704\n",
      "Epoch 89/100\n",
      "42/42 [==============================] - 5s 116ms/step - loss: 0.4970 - accuracy: 0.8217 - val_loss: 1.3566 - val_accuracy: 0.4730\n",
      "Epoch 90/100\n",
      "42/42 [==============================] - 5s 116ms/step - loss: 0.4978 - accuracy: 0.8262 - val_loss: 1.3582 - val_accuracy: 0.4753\n",
      "Epoch 91/100\n",
      "42/42 [==============================] - 5s 115ms/step - loss: 0.4963 - accuracy: 0.8255 - val_loss: 1.3605 - val_accuracy: 0.4704\n",
      "Epoch 92/100\n",
      "42/42 [==============================] - 5s 115ms/step - loss: 0.4940 - accuracy: 0.8318 - val_loss: 1.3632 - val_accuracy: 0.4726\n",
      "Epoch 93/100\n",
      "42/42 [==============================] - 5s 115ms/step - loss: 0.4852 - accuracy: 0.8288 - val_loss: 1.3623 - val_accuracy: 0.4734\n",
      "Epoch 94/100\n",
      "42/42 [==============================] - 5s 115ms/step - loss: 0.4944 - accuracy: 0.8281 - val_loss: 1.3689 - val_accuracy: 0.4682\n",
      "Epoch 95/100\n",
      "42/42 [==============================] - 5s 113ms/step - loss: 0.4891 - accuracy: 0.8336 - val_loss: 1.3635 - val_accuracy: 0.4726\n",
      "Epoch 96/100\n",
      "42/42 [==============================] - 5s 116ms/step - loss: 0.4819 - accuracy: 0.8292 - val_loss: 1.3670 - val_accuracy: 0.4738\n",
      "Epoch 97/100\n",
      "42/42 [==============================] - 5s 114ms/step - loss: 0.4898 - accuracy: 0.8314 - val_loss: 1.3680 - val_accuracy: 0.4712\n",
      "Epoch 98/100\n",
      "42/42 [==============================] - 5s 114ms/step - loss: 0.4901 - accuracy: 0.8273 - val_loss: 1.3692 - val_accuracy: 0.4723\n",
      "Epoch 99/100\n",
      "42/42 [==============================] - 5s 114ms/step - loss: 0.4788 - accuracy: 0.8362 - val_loss: 1.3715 - val_accuracy: 0.4704\n",
      "Epoch 100/100\n",
      "42/42 [==============================] - 5s 114ms/step - loss: 0.4919 - accuracy: 0.8292 - val_loss: 1.3722 - val_accuracy: 0.4726\n"
     ]
    },
    {
     "data": {
      "text/plain": [
       "<tensorflow.python.keras.callbacks.History at 0x7f1532e47ed0>"
      ]
     },
     "execution_count": 65,
     "metadata": {
      "tags": []
     },
     "output_type": "execute_result"
    }
   ],
   "source": [
    "model8.fit(X_train,y_train_1hot,validation_data=(X_valid, y_valid_1hot),batch_size = 64,epochs = 100)"
   ]
  },
  {
   "cell_type": "code",
   "execution_count": null,
   "metadata": {
    "id": "jojRTtsof2Ok"
   },
   "outputs": [],
   "source": [
    "model8.save('model_h5_conv1d_8.h5')"
   ]
  },
  {
   "cell_type": "markdown",
   "metadata": {
    "id": "I109mlTdf2x0"
   },
   "source": [
    "## RESNET\n"
   ]
  },
  {
   "cell_type": "code",
   "execution_count": null,
   "metadata": {
    "colab": {
     "base_uri": "https://localhost:8080/"
    },
    "id": "xBGi4O2kUfD5",
    "outputId": "2502158e-75be-4d76-f8b3-44e08262de41"
   },
   "outputs": [
    {
     "name": "stdout",
     "output_type": "stream",
     "text": [
      "WARNING:tensorflow:From <ipython-input-25-b4da9f549264>:5: experimental_run_functions_eagerly (from tensorflow.python.eager.def_function) is deprecated and will be removed in a future version.\n",
      "Instructions for updating:\n",
      "Use `tf.config.run_functions_eagerly` instead of the experimental version.\n"
     ]
    }
   ],
   "source": [
    "import tensorflow as tf\n",
    "from tensorflow.keras import layers\n",
    "import numpy as np\n",
    "import keras\n",
    "tf.config.experimental_run_functions_eagerly(True)"
   ]
  },
  {
   "cell_type": "code",
   "execution_count": null,
   "metadata": {
    "id": "cG7hEeLhf5rF"
   },
   "outputs": [],
   "source": [
    "def residual_block_(filters, size, stride):\n",
    "    def f(x):\n",
    "        y = keras.layers.ZeroPadding1D(2)(x)\n",
    "        y = keras.layers.Conv1D(filters, size, stride)(y)\n",
    "        y = keras.layers.BatchNormalization()(y)\n",
    "        y = keras.layers.LeakyReLU()(y)\n",
    "        y = keras.layers.Conv1D(filters, size, stride)(y)\n",
    "        y = keras.layers.BatchNormalization()(y)\n",
    "\n",
    "        x = keras.layers.Conv1D(filters, 1, stride)(x)\n",
    "        print(x.shape)\n",
    "        print(y.shape)\n",
    "        y = keras.layers.Add()([x,y])\n",
    "\n",
    "    return f"
   ]
  },
  {
   "cell_type": "code",
   "execution_count": null,
   "metadata": {
    "id": "Nl21B_YHf5tz"
   },
   "outputs": [],
   "source": [
    "x = np.random.rand(2,110250,1)\n",
    "y = np.random.rand(20,100,128)"
   ]
  },
  {
   "cell_type": "code",
   "execution_count": null,
   "metadata": {
    "colab": {
     "base_uri": "https://localhost:8080/"
    },
    "id": "2bNkRdk4jif7",
    "outputId": "9c8713f0-6946-4ad7-ff8a-8567839e6e37"
   },
   "outputs": [
    {
     "name": "stdout",
     "output_type": "stream",
     "text": [
      "(2, 110250, 128)\n",
      "(2, 110250, 128)\n"
     ]
    }
   ],
   "source": [
    "residual_block_(128,3,1)(x)"
   ]
  },
  {
   "cell_type": "code",
   "execution_count": null,
   "metadata": {
    "id": "nTPz4oPTb_Gq"
   },
   "outputs": [],
   "source": [
    "class ResidualBlock(keras.layers.Layer):\n",
    "    def __init__(self, filters, kernel, stride):\n",
    "        super(ResidualBlock, self).__init__()\n",
    "        \n",
    "        \"\"\"self.body = keras.models.Sequential(\n",
    "            [\n",
    "              keras.layers.Conv1D(filters, kernel, stride),\n",
    "              keras.layers.BatchNormalization(),\n",
    "              keras.layers.LeakyReLU(),\n",
    "              keras.layers.Conv1D(filters, kernel, stride),\n",
    "              keras.layers.BatchNormalization()\n",
    "            ]\n",
    "        )\"\"\"\n",
    "    \n",
    "        self.filters = filters\n",
    "        self.kernel = kernel\n",
    "        self.stride = stride\n",
    "  \n",
    "    def build(self, input_shape):\n",
    "        self.body = keras.models.Sequential(\n",
    "            [\n",
    "              keras.layers.Conv1D(self.filters, self.kernel, self.stride),\n",
    "              keras.layers.BatchNormalization(),\n",
    "              keras.layers.LeakyReLU(),\n",
    "              keras.layers.Conv1D(self.filters, self.kernel, self.stride),\n",
    "              keras.layers.BatchNormalization()\n",
    "            ]\n",
    "          )   \n",
    "        super(ResidualBlock, self).build(input_shape) \n",
    "    \n",
    "    def call(self, inputs):\n",
    "        x = keras.layers.Conv1D(self.filters, 1, self.stride)(inputs)\n",
    "        y = keras.layers.ZeroPadding1D(2)(inputs)\n",
    "        y = self.body(y)\n",
    "        y = keras.layers.Add()([x,y])\n",
    "        y = keras.layers.LeakyReLU()(y)\n",
    "        return y\n",
    "\n",
    "    def get_config(self):\n",
    "\n",
    "        config = super().get_config().copy()\n",
    "        config.update({\n",
    "            'filters': self.filters,\n",
    "            'kernel': self.kernel,\n",
    "            'stride': self.stride\n",
    "        })\n",
    "        return config"
   ]
  },
  {
   "cell_type": "code",
   "execution_count": null,
   "metadata": {
    "id": "d_O3hRSQYCpz"
   },
   "outputs": [],
   "source": [
    "model_res_conv1d = keras.models.Sequential(\n",
    "    [\n",
    "     keras.layers.Conv1D(128,3,3),\n",
    "     ResidualBlock(128,3,1),\n",
    "     keras.layers.MaxPooling1D(3,3),\n",
    "     ResidualBlock(128,3,1),\n",
    "     keras.layers.MaxPooling1D(3,3),\n",
    "     ResidualBlock(256,3,1),\n",
    "     keras.layers.MaxPooling1D(3,3),\n",
    "     ResidualBlock(256,3,1),\n",
    "     keras.layers.MaxPooling1D(3,3),\n",
    "     ResidualBlock(256,3,1),\n",
    "     keras.layers.MaxPooling1D(3,3),\n",
    "     ResidualBlock(256,3,1),\n",
    "     keras.layers.MaxPooling1D(3,3),\n",
    "     ResidualBlock(256,3,1),\n",
    "     keras.layers.MaxPooling1D(3,3),\n",
    "     ResidualBlock(256,3,1),\n",
    "     keras.layers.MaxPooling1D(3,3),\n",
    "     ResidualBlock(512,3,1),\n",
    "     keras.layers.MaxPooling1D(3,3),\n",
    "     keras.layers.Conv1D(512,1,1),\n",
    "     keras.layers.Flatten(),\n",
    "     keras.layers.Dense(4, activation=\"softmax\")\n",
    "    ]\n",
    ")"
   ]
  },
  {
   "cell_type": "code",
   "execution_count": null,
   "metadata": {
    "id": "EphzCR35nsjD"
   },
   "outputs": [],
   "source": [
    "optimizer = keras.optimizers.Adam(learning_rate=0.0001)\n",
    "model_res_conv1d.compile(optimizer=optimizer,\n",
    "              loss='categorical_crossentropy',\n",
    "              metrics=['accuracy']\n",
    "              )"
   ]
  },
  {
   "cell_type": "code",
   "execution_count": null,
   "metadata": {
    "id": "nr-23_2Rc94U"
   },
   "outputs": [],
   "source": [
    "model_res_conv1d.build(input_shape=(None, 110250,1))"
   ]
  },
  {
   "cell_type": "code",
   "execution_count": null,
   "metadata": {
    "colab": {
     "base_uri": "https://localhost:8080/"
    },
    "id": "y6hOMhspdiH4",
    "outputId": "ee907746-72d2-4a68-a99b-f493b7bb9c25"
   },
   "outputs": [
    {
     "name": "stdout",
     "output_type": "stream",
     "text": [
      "Model: \"sequential\"\n",
      "_________________________________________________________________\n",
      "Layer (type)                 Output Shape              Param #   \n",
      "=================================================================\n",
      "conv1d (Conv1D)              (None, 36750, 128)        512       \n",
      "_________________________________________________________________\n",
      "residual_block (ResidualBloc (None, 36750, 128)        99584     \n",
      "_________________________________________________________________\n",
      "max_pooling1d (MaxPooling1D) (None, 12250, 128)        0         \n",
      "_________________________________________________________________\n",
      "residual_block_1 (ResidualBl (None, 12250, 128)        99584     \n",
      "_________________________________________________________________\n",
      "max_pooling1d_1 (MaxPooling1 (None, 4083, 128)         0         \n",
      "_________________________________________________________________\n",
      "residual_block_2 (ResidualBl (None, 4083, 256)         297472    \n",
      "_________________________________________________________________\n",
      "max_pooling1d_2 (MaxPooling1 (None, 1361, 256)         0         \n",
      "_________________________________________________________________\n",
      "residual_block_3 (ResidualBl (None, 1361, 256)         395776    \n",
      "_________________________________________________________________\n",
      "max_pooling1d_3 (MaxPooling1 (None, 453, 256)          0         \n",
      "_________________________________________________________________\n",
      "residual_block_4 (ResidualBl (None, 453, 256)          395776    \n",
      "_________________________________________________________________\n",
      "max_pooling1d_4 (MaxPooling1 (None, 151, 256)          0         \n",
      "_________________________________________________________________\n",
      "residual_block_5 (ResidualBl (None, 151, 256)          395776    \n",
      "_________________________________________________________________\n",
      "max_pooling1d_5 (MaxPooling1 (None, 50, 256)           0         \n",
      "_________________________________________________________________\n",
      "residual_block_6 (ResidualBl (None, 50, 256)           395776    \n",
      "_________________________________________________________________\n",
      "max_pooling1d_6 (MaxPooling1 (None, 16, 256)           0         \n",
      "_________________________________________________________________\n",
      "residual_block_7 (ResidualBl (None, 16, 256)           395776    \n",
      "_________________________________________________________________\n",
      "max_pooling1d_7 (MaxPooling1 (None, 5, 256)            0         \n",
      "_________________________________________________________________\n",
      "residual_block_8 (ResidualBl (None, 5, 512)            1184768   \n",
      "_________________________________________________________________\n",
      "max_pooling1d_8 (MaxPooling1 (None, 1, 512)            0         \n",
      "_________________________________________________________________\n",
      "conv1d_1 (Conv1D)            (None, 1, 512)            262656    \n",
      "_________________________________________________________________\n",
      "flatten (Flatten)            (None, 512)               0         \n",
      "_________________________________________________________________\n",
      "dense (Dense)                (None, 4)                 2052      \n",
      "=================================================================\n",
      "Total params: 3,925,508\n",
      "Trainable params: 3,916,292\n",
      "Non-trainable params: 9,216\n",
      "_________________________________________________________________\n"
     ]
    }
   ],
   "source": [
    "model_res_conv1d.summary()"
   ]
  },
  {
   "cell_type": "code",
   "execution_count": null,
   "metadata": {
    "colab": {
     "base_uri": "https://localhost:8080/"
    },
    "id": "nDC_mlFYn0nw",
    "outputId": "f0189495-26fd-423b-8328-3a7c335d3ab4"
   },
   "outputs": [
    {
     "name": "stderr",
     "output_type": "stream",
     "text": [
      "/usr/local/lib/python3.7/dist-packages/tensorflow/python/data/ops/dataset_ops.py:3704: UserWarning: Even though the `tf.config.experimental_run_functions_eagerly` option is set, this option does not apply to tf.data functions. To force eager execution of tf.data functions, please use `tf.data.experimental.enable.debug_mode()`.\n",
      "  \"Even though the `tf.config.experimental_run_functions_eagerly` \"\n"
     ]
    },
    {
     "name": "stdout",
     "output_type": "stream",
     "text": [
      "Epoch 1/100\n",
      "269/269 [==============================] - 331s 1s/step - loss: 2.5291 - accuracy: 0.2806 - val_loss: 1.7234 - val_accuracy: 0.2639\n",
      "Epoch 2/100\n",
      "269/269 [==============================] - 295s 1s/step - loss: 1.8648 - accuracy: 0.3658 - val_loss: 1.8420 - val_accuracy: 0.2933\n",
      "Epoch 3/100\n",
      "269/269 [==============================] - 295s 1s/step - loss: 1.6471 - accuracy: 0.3905 - val_loss: 1.8550 - val_accuracy: 0.3405\n",
      "Epoch 4/100\n",
      "269/269 [==============================] - 295s 1s/step - loss: 1.4814 - accuracy: 0.4163 - val_loss: 1.7172 - val_accuracy: 0.3662\n",
      "Epoch 5/100\n",
      "269/269 [==============================] - 295s 1s/step - loss: 1.3082 - accuracy: 0.4336 - val_loss: 1.7204 - val_accuracy: 0.3710\n",
      "Epoch 6/100\n",
      "269/269 [==============================] - 295s 1s/step - loss: 1.2657 - accuracy: 0.4524 - val_loss: 1.4273 - val_accuracy: 0.3982\n",
      "Epoch 7/100\n",
      "269/269 [==============================] - 308s 1s/step - loss: 1.1955 - accuracy: 0.4828 - val_loss: 1.6304 - val_accuracy: 0.3740\n",
      "Epoch 8/100\n",
      "269/269 [==============================] - 307s 1s/step - loss: 1.1614 - accuracy: 0.4990 - val_loss: 1.4990 - val_accuracy: 0.4332\n",
      "Epoch 9/100\n",
      "269/269 [==============================] - 307s 1s/step - loss: 1.1073 - accuracy: 0.5134 - val_loss: 1.3898 - val_accuracy: 0.4287\n",
      "Epoch 10/100\n",
      "269/269 [==============================] - 307s 1s/step - loss: 1.0298 - accuracy: 0.5761 - val_loss: 1.5458 - val_accuracy: 0.4287\n",
      "Epoch 11/100\n",
      "269/269 [==============================] - 307s 1s/step - loss: 1.0396 - accuracy: 0.5796 - val_loss: 1.5130 - val_accuracy: 0.4284\n",
      "Epoch 12/100\n",
      "269/269 [==============================] - 307s 1s/step - loss: 1.0162 - accuracy: 0.5782 - val_loss: 1.4433 - val_accuracy: 0.4522\n",
      "Epoch 13/100\n",
      "269/269 [==============================] - 307s 1s/step - loss: 0.9982 - accuracy: 0.6020 - val_loss: 1.4000 - val_accuracy: 0.4827\n",
      "Epoch 14/100\n",
      "269/269 [==============================] - 293s 1s/step - loss: 0.9380 - accuracy: 0.6329 - val_loss: 1.5369 - val_accuracy: 0.4511\n",
      "Epoch 15/100\n",
      "269/269 [==============================] - 307s 1s/step - loss: 0.9050 - accuracy: 0.6432 - val_loss: 1.5730 - val_accuracy: 0.4544\n",
      "Epoch 16/100\n",
      "269/269 [==============================] - 307s 1s/step - loss: 0.9033 - accuracy: 0.6479 - val_loss: 1.4224 - val_accuracy: 0.5106\n",
      "Epoch 17/100\n",
      "269/269 [==============================] - 307s 1s/step - loss: 0.9253 - accuracy: 0.6281 - val_loss: 1.3936 - val_accuracy: 0.4931\n",
      "Epoch 18/100\n",
      "269/269 [==============================] - 307s 1s/step - loss: 0.8540 - accuracy: 0.6605 - val_loss: 1.5744 - val_accuracy: 0.4756\n",
      "Epoch 19/100\n",
      "269/269 [==============================] - 308s 1s/step - loss: 0.8158 - accuracy: 0.6887 - val_loss: 1.4382 - val_accuracy: 0.5121\n",
      "Epoch 20/100\n",
      "269/269 [==============================] - 308s 1s/step - loss: 0.8351 - accuracy: 0.6799 - val_loss: 1.3899 - val_accuracy: 0.5166\n",
      "Epoch 21/100\n",
      "269/269 [==============================] - 308s 1s/step - loss: 0.7562 - accuracy: 0.7140 - val_loss: 1.4641 - val_accuracy: 0.4976\n",
      "Epoch 22/100\n",
      "269/269 [==============================] - 308s 1s/step - loss: 0.7910 - accuracy: 0.7054 - val_loss: 1.6054 - val_accuracy: 0.4619\n",
      "Epoch 23/100\n",
      "269/269 [==============================] - 293s 1s/step - loss: 0.7907 - accuracy: 0.7113 - val_loss: 1.4414 - val_accuracy: 0.4901\n",
      "Epoch 24/100\n",
      "269/269 [==============================] - 293s 1s/step - loss: 0.8334 - accuracy: 0.6971 - val_loss: 1.4517 - val_accuracy: 0.5136\n",
      "Epoch 25/100\n",
      "183/269 [===================>..........] - ETA: 1:12 - loss: 0.7267 - accuracy: 0.7326"
     ]
    }
   ],
   "source": [
    "model_res_conv1d.fit(X_train,y_train_1hot,validation_data=(X_valid, y_valid_1hot),batch_size = 10,epochs = 100)"
   ]
  },
  {
   "cell_type": "code",
   "execution_count": null,
   "metadata": {
    "id": "hQtghwsF3jQN"
   },
   "outputs": [],
   "source": [
    "#for heavy model architectures, .h5 file is unsupported.\n",
    "#Save model\n",
    "weigh= model_res_conv1d.get_weights();    pklfile= \"/content/drive/MyDrive/model_resnet_pickle\"\n",
    "try:\n",
    "    fpkl= open(pklfile, 'wb')    #Python 3     \n",
    "    pickle5.dump(weigh, fpkl, protocol= pickle5.HIGHEST_PROTOCOL)\n",
    "    fpkl.close()\n",
    "except:\n",
    "    fpkl= open(pklfile, 'w')    #Python 2      \n",
    "    pickle5.dump(weigh, fpkl, protocol= pickle5.HIGHEST_PROTOCOL)\n",
    "    fpkl.close()"
   ]
  },
  {
   "cell_type": "code",
   "execution_count": null,
   "metadata": {
    "id": "ye9m8RJN30ok"
   },
   "outputs": [],
   "source": [
    "#load model - choose a place where you save the model\n",
    "with open(r'/content/drive/MyDrive/model_resnet_pickle','rb') as f:\n",
    "    df = pickle5.load(f)\n",
    "model_res_conv1d.set_weights(df)"
   ]
  },
  {
   "cell_type": "code",
   "execution_count": null,
   "metadata": {
    "id": "Y93RaRan39JY"
   },
   "outputs": [],
   "source": []
  },
  {
   "cell_type": "markdown",
   "metadata": {
    "id": "ZvcRtPak_IDd"
   },
   "source": [
    "##TEST\n"
   ]
  },
  {
   "cell_type": "code",
   "execution_count": null,
   "metadata": {
    "id": "ri9GU2WO_Fn5"
   },
   "outputs": [],
   "source": [
    "def sliding_window(y,sr,size = 5,stride = 3):\n",
    "    sr_size = sr*size\n",
    "    step = sr*stride\n",
    "    \n",
    "    start = 0\n",
    "    re = []\n",
    "    n = len(y)\n",
    "    tmp = np.zeros(((n - (size - stride))//(sr*stride),1,22050*5),dtype = 'float32')\n",
    "    i = 0\n",
    "    while start + sr_size < n:\n",
    "        tmp[i,:,:] = y[start:start + sr_size]\n",
    "        start += step\n",
    "        i += 1\n",
    "    return tmp"
   ]
  },
  {
   "cell_type": "code",
   "execution_count": null,
   "metadata": {
    "id": "JCYyegHt_M5s"
   },
   "outputs": [],
   "source": [
    "import librosa"
   ]
  },
  {
   "cell_type": "code",
   "execution_count": null,
   "metadata": {
    "colab": {
     "base_uri": "https://localhost:8080/"
    },
    "id": "agW4Rhyk_OW8",
    "outputId": "3c238b9f-9455-4034-b0fe-d431d174466c"
   },
   "outputs": [
    {
     "name": "stderr",
     "output_type": "stream",
     "text": [
      "/usr/local/lib/python3.7/dist-packages/librosa/core/audio.py:162: UserWarning: PySoundFile failed. Trying audioread instead.\n",
      "  warnings.warn(\"PySoundFile failed. Trying audioread instead.\")\n"
     ]
    }
   ],
   "source": [
    "path = '/content/HatXam-XuanHinh_arka.mp3'\n",
    "y ,sr = librosa.load(path)"
   ]
  },
  {
   "cell_type": "code",
   "execution_count": null,
   "metadata": {
    "id": "iuc1LZZm_Uc_"
   },
   "outputs": [],
   "source": [
    "t = sliding_window(y ,sr)\n",
    "t = t.reshape([t.shape[0],t.shape[2],t.shape[1]])"
   ]
  },
  {
   "cell_type": "code",
   "execution_count": null,
   "metadata": {
    "colab": {
     "base_uri": "https://localhost:8080/"
    },
    "id": "auxLJOqPfYrp",
    "outputId": "ec4e0807-95f6-48c7-9687-aa1046b37a2d"
   },
   "outputs": [
    {
     "name": "stdout",
     "output_type": "stream",
     "text": [
      "WARNING:tensorflow:From <ipython-input-21-bdb3352f611a>:1: experimental_run_functions_eagerly (from tensorflow.python.eager.def_function) is deprecated and will be removed in a future version.\n",
      "Instructions for updating:\n",
      "Use `tf.config.run_functions_eagerly` instead of the experimental version.\n"
     ]
    }
   ],
   "source": []
  },
  {
   "cell_type": "code",
   "execution_count": null,
   "metadata": {
    "colab": {
     "base_uri": "https://localhost:8080/"
    },
    "id": "vM5Rs_QuMtCS",
    "outputId": "578b6f47-166c-4b52-c145-07a5bd8f65c8"
   },
   "outputs": [
    {
     "name": "stderr",
     "output_type": "stream",
     "text": [
      "/usr/local/lib/python3.7/dist-packages/tensorflow/python/data/ops/dataset_ops.py:3704: UserWarning: Even though the `tf.config.experimental_run_functions_eagerly` option is set, this option does not apply to tf.data functions. To force eager execution of tf.data functions, please use `tf.data.experimental.enable.debug_mode()`.\n",
      "  \"Even though the `tf.config.experimental_run_functions_eagerly` \"\n"
     ]
    },
    {
     "data": {
      "text/plain": [
       "array([ 3.3643072, 37.249153 , 36.404358 , 10.982186 ], dtype=float32)"
      ]
     },
     "execution_count": 22,
     "metadata": {
      "tags": []
     },
     "output_type": "execute_result"
    }
   ],
   "source": [
    "np.sum(model_res_conv1d.predict(t),axis = 0)"
   ]
  }
 ],
 "metadata": {
  "accelerator": "GPU",
  "colab": {
   "collapsed_sections": [
    "nVdDfURns5Wb",
    "1iHb6kPYY3_D",
    "I109mlTdf2x0",
    "ZvcRtPak_IDd"
   ],
   "name": "Workspace Conv NN.ipynb",
   "provenance": [],
   "toc_visible": true
  },
  "kernelspec": {
   "display_name": "Python 3",
   "language": "python",
   "name": "python3"
  },
  "language_info": {
   "codemirror_mode": {
    "name": "ipython",
    "version": 3
   },
   "file_extension": ".py",
   "mimetype": "text/x-python",
   "name": "python",
   "nbconvert_exporter": "python",
   "pygments_lexer": "ipython3",
   "version": "3.8.5"
  }
 },
 "nbformat": 4,
 "nbformat_minor": 1
}
