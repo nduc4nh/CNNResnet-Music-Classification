{
 "cells": [
  {
   "cell_type": "code",
   "execution_count": 4,
   "metadata": {
    "id": "zT_oVpoj328V"
   },
   "outputs": [],
   "source": [
    "import requests\n",
    "import time\n",
    "import os,sys\n",
    "import pickle"
   ]
  },
  {
   "cell_type": "code",
   "execution_count": 5,
   "metadata": {
    "id": "bYkQNT-V3287"
   },
   "outputs": [],
   "source": [
    "passed_obj = []\n",
    "id_genres_obj = []\n",
    "def get_id_genres(song_id,ite,stop):\n",
    "    global passed_obj,id_genres_obj\n",
    "    if ite == 0:\n",
    "        passed_obj.append(song_id)\n",
    "    if ite >= stop:\n",
    "        return\n",
    "    res = requests.get(\"https://mp3.zing.vn/xhr/media/get-info?type=audio&id=\"+song_id)\n",
    "    try:\n",
    "        genres = dict(res.json())['data']['genres']\n",
    "    except:\n",
    "        genres = []\n",
    "        print(\"res\")\n",
    "    res_rev = requests.get(\"http://mp3.zing.vn/xhr/recommend?type=audio&id=\"+song_id)\n",
    "    rev = dict(res_rev.json())['data']['items']\n",
    "    id_genres_obj.append((song_id,genres))\n",
    "    print(song_id,[ele['id'] for ele in rev])\n",
    "    for ele in rev:\n",
    "        next_id = ele['id']\n",
    "        if next_id in passed_obj:\n",
    "            continue\n",
    "        passed_obj.append(next_id)\n",
    "        get_id_genres(next_id,ite + 1,stop)\n",
    "        \n",
    "def get_info_from_name(name,stop):\n",
    "    global passed_obj,id_genres_obj\n",
    "    passed_obj = []\n",
    "    id_genres_obj = []\n",
    "    res_by_name = requests.get(\"http://ac.mp3.zing.vn/complete?type=song&num=500&query=\"+name)\n",
    "    t = (res_by_name.json())['data']\n",
    "    if t:  \n",
    "        t = t[0]\n",
    "        song_id = t['song'][0]['id']\n",
    "        get_id_genres(song_id,0,stop)\n",
    "    else:\n",
    "        return []\n",
    "    return id_genres_obj\n",
    "\n",
    "def get_info_from_list_of_name(names,stop):\n",
    "    re = []\n",
    "    for ele in names:\n",
    "        re.extend(get_info_from_name(ele,stop))\n",
    "    return re\n",
    "\n",
    "def download_from_id(idx,path):\n",
    "    r = requests.get(\"http://api.mp3.zing.vn/api/streaming/audio/\"+idx+\"/320\",allow_redirects=True)\n",
    "    with open(path +\".wav\",\"wb+\") as f:\n",
    "        f.write(r.content)\n",
    "        \n",
    "def get_songs_data(names,org_path,stop):\n",
    "    re = get_info_from_list_of_name(names,stop)\n",
    "    print(re)\n",
    "    for idx,gen in re:\n",
    "        tmp = os.path.join(org_path,idx)\n",
    "        os.mkdir(tmp)\n",
    "        download_from_id(idx,os.path.join(tmp,idx))\n",
    "        with open(os.path.join(tmp,\"genre\"),'wb+') as f:\n",
    "            pickle.dump(gen,f)\n"
   ]
  },
  {
   "cell_type": "code",
   "execution_count": 8,
   "metadata": {
    "colab": {
     "base_uri": "https://localhost:8080/"
    },
    "id": "3KPEW2ND3289",
    "outputId": "d5cad292-541e-4be3-ab50-680c9bd004f3",
    "scrolled": true
   },
   "outputs": [
    {
     "name": "stdout",
     "output_type": "stream",
     "text": [
      "ZW7889UB ['ZW7IAEZA', 'ZW77FC60', 'ZW78DIOA', 'ZW78IFUB', 'ZW77F7C8', 'ZW7809ED', 'ZW78WBZ9', 'ZW78I6DI', 'ZWAEUIOW', 'ZWAEUIW8']\n",
      "ZW7IAEZA ['ZW77F7C8', 'ZW7809ED', 'ZW7ODFI0', 'ZW78I6DI', 'ZW78IFUB', 'ZW77FC60', 'ZWB0B8D0', 'ZW78IZA9', 'ZWB0B6UE', 'ZWAEUIOW']\n",
      "ZW77F7C8 ['ZW78I6DI', 'ZW77FC60', 'ZWAEUIOW', 'ZW7IAEZA', 'ZW7ODFI0', 'ZW77F8UZ', 'ZWB0B8D0', 'ZW78IZA9', 'ZW7809ED', 'ZW78IFUB']\n",
      "ZWB0B6UE ['ZW78IZA9', 'ZW7ODFI0', 'ZW6F98CB', 'ZW78I6DI', 'ZWBIZI7W', 'ZW77FC60', 'ZW7IAEZA', 'ZWAEUIOW', 'ZWB0B8D0', 'ZW77F7C8']\n",
      "ZW78DIOA ['ZW78I6DI', 'ZW77FC60', 'ZW7UBUCC', 'ZWAEUIWB', 'ZW7809ED', 'ZW77FC6W', 'ZWB078FC', 'ZWAEUIOW', 'ZW77F8U0', 'ZW78IF9U']\n",
      "ZW7UBUCC ['ZW77F8U0', 'ZW78WBZ9', 'ZW78O8FA', 'ZWAEUIWB', 'ZW78DIOA', 'ZW78IF97', 'ZW7809ED', 'ZW78I6DI', 'ZWAEZUU7', 'ZW77FC6W']\n",
      "ZWB078FC ['ZW78DIOA', 'ZWB00AW7', 'ZWAEUIW8', 'ZWAEUIOW', 'ZW7809ED', 'ZWBIZI7W', 'ZW78WBZ9', 'ZWBWB7DU', 'ZW78I6DI', 'ZWB0U60U']\n",
      "ZW78IF9U ['ZW6OAO9E', 'ZW78B0CU', 'ZW78IF97', 'ZW78O8FA', 'ZW78DIOA', 'ZW7UBUCC', 'ZWAEZUU7', 'ZW77F8U0', 'ZW7UDZAF', 'ZW78WC8C']\n",
      "ZW8WAWB0 ['ZWZA8A6O', 'ZW78E7BB', 'ZW7IO7DO', 'ZWZFFZZE', 'ZWZFWO6C', 'ZWAIFBEF', 'ZWA860I0', 'ZW7WFWA7', 'ZW67A7ZC', 'ZW9C6C8W']\n",
      "ZWZA8A6O ['ZWZA0DIA', 'ZWZFWO6C', 'ZWZ9ZFFI', 'ZW7IO7DO', 'ZW6ACICZ', 'ZW6OC8AW', 'ZW6IDZWU', 'ZW67A7ZC', 'ZWZADIFD', 'ZWZF8FWC']\n",
      "ZWZA0DIA ['ZWZADW0W', 'ZW6AAUEZ', 'ZW67A7ZC', 'ZWA9WIAW', 'ZW7IO7DO', 'ZWZA89EZ', 'ZWAIFBEF', 'ZWZ9ZECW', 'ZW6CFO60', 'ZW7UD7DO']\n",
      "ZWZFWO6C ['ZWAIFBFO', 'ZWZFFZZE', 'ZWZA90ED', 'ZW67A7ZC', 'ZW6OU8E0', 'ZWZ96UWA', 'ZWZA0DIA', 'ZW9CF877', 'ZWZ9C7WD', 'ZW7IO7DO']\n",
      "ZWZ9ZFFI ['ZWZDWUW0', 'ZWZDUAIF', 'ZW6I0B0O', 'ZWZA8A6O', 'ZWA7CE6O', 'ZWZEZZ6D', 'ZWZACFIW', 'ZW78U8BW', 'ZW7W7EBD', 'ZWZA8A9O']\n",
      "ZW6ACICZ ['ZWZEZZEE', 'ZW788BAU', 'ZWZADIFD', 'ZWZDOAWU', 'ZWZA89EZ', 'ZWZAF7OA', 'ZWZEICC0', 'ZW788WBU', 'ZW7OF667', 'ZW7IEWUZ']\n",
      "ZW6OC8AW ['ZW6IB7B8', 'ZW6C8ZCI', 'ZWZAUCAB', 'ZW70IZ8I', 'ZW60ZO6O', 'ZWZ9666E', 'ZWZCZOZC', 'ZW6IDZ7I', 'ZWZBAC6I', 'ZW606OF9']\n",
      "ZW6IDZWU ['ZWZACFIW', 'ZWZA89FC', 'ZWZA8AOI', 'ZW6IF6DF', 'ZWZAAEU0', 'ZWZ9CBE0', 'ZWZAUCAB', 'ZWZA8A6O', 'ZWZF8FWC', 'ZWZ9ZECW']\n",
      "ZW78E7BB ['ZWZADD8O', 'ZW9DFZU6', 'ZW7U86B7', 'ZW9EFZ8A', 'ZW9ADUE7', 'ZW7WFWA7', 'ZW6CU0FB', 'ZW6EDCIC', 'ZWAIFBFO', 'ZW6CFO60']\n",
      "ZWZADD8O ['ZWZDFCZ8', 'ZW788WBU', 'ZWAIFBFO', 'ZWZAIF6F', 'ZW9DFZU6', 'ZW7IEWUZ', 'ZW67A7ZC', 'ZWZA89EZ', 'ZW67IUWB', 'ZW6CFO60']\n",
      "ZW7U86B7 ['ZWAIFBEF', 'ZWZA7ZU8', 'ZW7IO7DO', 'ZW7WFWA7', 'ZW7I06CD', 'ZW67A7ZC', 'ZOA0FU9B', 'ZW9DFZU6', 'ZWZA8A6O', 'ZW7F0UUA']\n",
      "ZW9EFZ8A ['ZW9ADUE7', 'ZW7O0AC8', 'ZWZ9ZEE0', 'ZW9B7C6A', 'ZW9BEZDF', 'ZW9D9FZF', 'ZW7F7AOD', 'ZW60BOAA', 'ZW6D68II', 'ZW78E7BB']\n",
      "ZW6CU0FB ['ZW9C6C8W', 'ZWAIFBFO', 'ZW79IBE9', 'ZW79UFOC', 'ZW7I06CD', 'ZW6D68II', 'ZW78E7BB', 'ZW7O0AC8', 'ZW6EDCIC', 'ZW60BOAA']\n",
      "ZWA860I0 ['ZWAEB68Z', 'ZW8WBDI9', 'ZW80WEEC', 'ZWAD906E', 'ZW7FBFWZ', 'ZW80ZIOC', 'ZW7879O9', 'ZWACAIDF', 'ZW809Z08', 'ZW80A8Z9']\n",
      "ZWAEB68Z ['ZW7879O9', 'ZW78E7Z0', 'ZWACAIDF', 'ZW80A8Z9', 'ZWAEUZD0', 'ZW7FBFWZ', 'ZW8WBDI9', 'ZW80WEEC', 'ZW80ZIOC', 'ZW7F80DW']\n",
      "ZWAD906E ['ZW7879O9', 'ZW806OWF', 'ZW809Z08', 'ZW8I9IAI', 'ZW80ZIOC', 'ZWA8ZFA9', 'ZW80WEEC', 'ZWA860I0', 'ZW80A8Z9', 'ZWAEB68Z']\n",
      "ZW7FAW7B ['ZW9CB776', 'ZWBICAU0', 'ZWADBC8C', 'ZW9E7C09', 'ZW9CB779', 'ZW9CD9BC', 'ZWAFWODW', 'ZW9D8EIU', 'ZW9CB77Z', 'ZW9C0CWI']\n",
      "ZW9CB776 ['ZW9C0CWI', 'ZWADBC8C', 'ZW9CB77Z', 'ZWAFWODW', 'ZWAEC9FW', 'ZWBICAU0', 'ZW9CB779', 'ZW9E7C09', 'ZW9CD9BC', 'ZW9D8EIU']\n",
      "ZW9C0CWI ['ZW9DZ8OU', 'ZWBI77C6', 'ZW9E7C09', 'ZW9CB770', 'ZWACZZEW', 'ZW9CB779', 'ZWAECA9E', 'ZWBWOO0W', 'ZW9CB776', 'ZWBICAU0']\n",
      "ZWADBC8C ['ZWBA0FAA', 'ZWAECA9E', 'ZWBI77C6', 'ZWAF79OB', 'ZW9D8EIU', 'ZW9DZ8OU', 'ZW9CD9BC', 'ZW9E7C09', 'ZWBICAU0', 'ZWAEC9FW']\n",
      "ZW9CB77Z ['ZWAF7AEZ', 'ZWBW676U', 'ZW9CB779', 'ZWAFDUIF', 'ZWAFWODW', 'ZW9CB770', 'ZW9CB776', 'ZW9FICUD', 'ZWAFF6UU', 'ZWBWDO99']\n",
      "[('ZW7889UB', [{'id': 'IWZ9Z08W', 'name': 'Hàn Quốc'}]), ('ZW7IAEZA', [{'id': 'IWZ9Z08W', 'name': 'Hàn Quốc'}, {'id': 'IWZ9Z09W', 'name': 'Pop/Pop Ballad'}, {'id': 'IWZ9Z0BB', 'name': 'Nhạc Phim'}]), ('ZW77F7C8', [{'id': 'IWZ9Z08W', 'name': 'Hàn Quốc'}, {'id': 'IWZ9Z09W', 'name': 'Pop/Pop Ballad'}, {'id': 'IWZ9Z0BB', 'name': 'Nhạc Phim'}]), ('ZWB0B6UE', [{'id': 'IWZ9Z08W', 'name': 'Hàn Quốc'}, {'id': 'IWZ9Z09W', 'name': 'Pop/Pop Ballad'}, {'id': 'IWZ9Z0BB', 'name': 'Nhạc Phim'}]), ('ZW78DIOA', [{'id': 'IWZ9Z08W', 'name': 'Hàn Quốc'}, {'id': 'IWZ9Z09W', 'name': 'Pop/Pop Ballad'}, {'id': 'IWZ9Z0BB', 'name': 'Nhạc Phim'}]), ('ZW7UBUCC', [{'id': 'IWZ9Z08W', 'name': 'Hàn Quốc'}, {'id': 'IWZ9Z09W', 'name': 'Pop/Pop Ballad'}, {'id': 'IWZ9Z0BB', 'name': 'Nhạc Phim'}]), ('ZWB078FC', [{'id': 'IWZ9Z08W', 'name': 'Hàn Quốc'}, {'id': 'IWZ9Z09W', 'name': 'Pop/Pop Ballad'}, {'id': 'IWZ9Z0BB', 'name': 'Nhạc Phim'}]), ('ZW78IF9U', [{'id': 'IWZ9Z08W', 'name': 'Hàn Quốc'}, {'id': 'IWZ9Z09W', 'name': 'Pop/Pop Ballad'}, {'id': 'IWZ9Z0BB', 'name': 'Nhạc Phim'}]), ('ZW8WAWB0', [{'id': 'IWZ9Z08O', 'name': 'Âu Mỹ'}, {'id': 'IWZ9Z097', 'name': 'Pop'}]), ('ZWZA8A6O', [{'id': 'IWZ9Z08O', 'name': 'Âu Mỹ'}, {'id': 'IWZ9Z097', 'name': 'Pop'}]), ('ZWZA0DIA', [{'id': 'IWZ9Z08O', 'name': 'Âu Mỹ'}, {'id': 'IWZ9Z097', 'name': 'Pop'}]), ('ZWZFWO6C', [{'id': 'IWZ9Z08O', 'name': 'Âu Mỹ'}, {'id': 'IWZ9Z097', 'name': 'Pop'}]), ('ZWZ9ZFFI', [{'id': 'IWZ9Z08O', 'name': 'Âu Mỹ'}, {'id': 'IWZ9Z097', 'name': 'Pop'}]), ('ZW6ACICZ', [{'id': 'IWZ9Z08O', 'name': 'Âu Mỹ'}, {'id': 'IWZ9Z097', 'name': 'Pop'}, {'id': 'IWZ9Z09A', 'name': 'Electronic / Dance'}, {'id': 'IWZ9Z09B', 'name': 'Rap / Hip Hop'}]), ('ZW6OC8AW', [{'id': 'IWZ9Z08O', 'name': 'Âu Mỹ'}, {'id': 'IWZ9Z097', 'name': 'Pop'}]), ('ZW6IDZWU', [{'id': 'IWZ9Z08O', 'name': 'Âu Mỹ'}, {'id': 'IWZ9Z097', 'name': 'Pop'}]), ('ZW78E7BB', [{'id': 'IWZ9Z08O', 'name': 'Âu Mỹ'}, {'id': 'IWZ97797', 'name': 'Latin'}, {'id': 'IWZ9Z097', 'name': 'Pop'}]), ('ZWZADD8O', [{'id': 'IWZ9Z08O', 'name': 'Âu Mỹ'}, {'id': 'IWZ9Z097', 'name': 'Pop'}]), ('ZW7U86B7', [{'id': 'IWZ9Z08O', 'name': 'Âu Mỹ'}, {'id': 'IWZ9Z097', 'name': 'Pop'}]), ('ZW9EFZ8A', [{'id': 'IWZ9Z08O', 'name': 'Âu Mỹ'}, {'id': 'IWZ9ZIUO', 'name': 'Alternative'}]), ('ZW6CU0FB', [{'id': 'IWZ9Z08O', 'name': 'Âu Mỹ'}, {'id': 'IWZ9Z097', 'name': 'Pop'}]), ('ZWA860I0', [{'id': 'IWZ9Z08O', 'name': 'Âu Mỹ'}, {'id': 'IWZ9ZIUO', 'name': 'Alternative'}]), ('ZWAEB68Z', [{'id': 'IWZ9Z08O', 'name': 'Âu Mỹ'}, {'id': 'IWZ9Z097', 'name': 'Pop'}]), ('ZWAD906E', [{'id': 'IWZ9Z08O', 'name': 'Âu Mỹ'}]), ('ZW7FAW7B', [{'id': 'IWZ9Z08O', 'name': 'Âu Mỹ'}, {'id': 'IWZ9Z097', 'name': 'Pop'}]), ('ZW9CB776', [{'id': 'IWZ9Z08O', 'name': 'Âu Mỹ'}, {'id': 'IWZ9Z097', 'name': 'Pop'}]), ('ZW9C0CWI', [{'id': 'IWZ9Z08O', 'name': 'Âu Mỹ'}, {'id': 'IWZ9Z097', 'name': 'Pop'}]), ('ZWADBC8C', [{'id': 'IWZ9Z08O', 'name': 'Âu Mỹ'}, {'id': 'IWZ9Z097', 'name': 'Pop'}]), ('ZW9CB77Z', [{'id': 'IWZ9Z08O', 'name': 'Âu Mỹ'}, {'id': 'IWZ9Z097', 'name': 'Pop'}])]\n"
     ]
    }
   ],
   "source": [
    "#Dien ten viet hoa cua vai bai hat - dinh dang: moi tu trong ten viet hoa chu dau, co' da^u'. vd: Tinh Ve Noi Dau\n",
    "names = [\"Love Story\", \"Perfect\", \"Bad Liar\"]\n",
    "#Do sau tim kiem --> cho vua phai thoi\n",
    "stop = 3\n",
    "#Dia chi thu muc luu du lieu\n",
    "org_path = './'\n",
    "data_path = os.path.join(org_path,\"music_data\")\n",
    "if not os.path.exists(data_path):\n",
    "    os.mkdir(data_path)\n",
    "    \n",
    "get_songs_data(names,data_path,stop)"
   ]
  },
  {
   "cell_type": "code",
   "execution_count": null,
   "metadata": {
    "id": "xGHy33lf328_"
   },
   "outputs": [],
   "source": []
  }
 ],
 "metadata": {
  "colab": {
   "name": "API-zingmp3 (1).ipynb",
   "provenance": []
  },
  "kernelspec": {
   "display_name": "Python 3",
   "language": "python",
   "name": "python3"
  },
  "language_info": {
   "codemirror_mode": {
    "name": "ipython",
    "version": 3
   },
   "file_extension": ".py",
   "mimetype": "text/x-python",
   "name": "python",
   "nbconvert_exporter": "python",
   "pygments_lexer": "ipython3",
   "version": "3.8.5"
  }
 },
 "nbformat": 4,
 "nbformat_minor": 1
}
