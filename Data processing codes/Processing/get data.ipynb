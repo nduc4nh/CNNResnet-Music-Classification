{
 "cells": [
  {
   "cell_type": "code",
   "execution_count": 1,
   "id": "1b2df392",
   "metadata": {},
   "outputs": [],
   "source": [
    "import pickle\n",
    "import os\n",
    "import pandas as pd"
   ]
  },
  {
   "cell_type": "code",
   "execution_count": 2,
   "id": "2e27057b",
   "metadata": {},
   "outputs": [],
   "source": [
    "#nhung file trong folder sample la 1 data frame - ten la nhan nhe"
   ]
  },
  {
   "cell_type": "code",
   "execution_count": 3,
   "id": "dc8e8f91",
   "metadata": {},
   "outputs": [],
   "source": [
    "path = r'C:\\Users\\nguyenducanh\\Desktop\\current_proj\\DL\\features\\sample'"
   ]
  },
  {
   "cell_type": "code",
   "execution_count": 4,
   "id": "44567efa",
   "metadata": {},
   "outputs": [],
   "source": [
    "names = os.listdir(path)\n",
    "dfs = []\n",
    "for name in names:\n",
    "    with open(os.path.join(path,name),'rb') as f:\n",
    "        df = pickle.load(f)\n",
    "    df['label'] = \"_\".join(name.split(\"_\")[:-2])\n",
    "    dfs.append(df)\n",
    "df = pd.concat(dfs)"
   ]
  },
  {
   "cell_type": "code",
   "execution_count": 27,
   "id": "8261e329",
   "metadata": {},
   "outputs": [],
   "source": [
    "def cleansing(x):\n",
    "    if x.shape[1] == 1293:\n",
    "        x = x[:,:-1]\n",
    "    return x\n"
   ]
  },
  {
   "cell_type": "code",
   "execution_count": 28,
   "id": "8ba3e7b1",
   "metadata": {},
   "outputs": [],
   "source": [
    "def flatten_1(x):\n",
    "    a,b = x.shape\n",
    "    return x.reshape([a*b,])\n"
   ]
  },
  {
   "cell_type": "code",
   "execution_count": 29,
   "id": "2bd639d0",
   "metadata": {},
   "outputs": [],
   "source": [
    "def flatten_2(df,col):\n",
    "    dic = {}\n",
    "    a = len(df.iloc[0,0])\n",
    "    tmp = df[col]\n",
    "    for i in range(a):\n",
    "        dic[str(i)] = tmp.apply(lambda x:x[i]).to_list()\n",
    "    df_flatten = pd.DataFrame(dic)\n",
    "    return df_flatten\n",
    "    \n",
    "    "
   ]
  },
  {
   "cell_type": "code",
   "execution_count": 33,
   "id": "0645fdd1",
   "metadata": {},
   "outputs": [],
   "source": [
    "def get_flatten_csv(folder,label):\n",
    "    dfs = []\n",
    "    for ele in os.listdir(folder):\n",
    "        path = os.path.join(folder, ele)\n",
    "        with open(path,'rb') as f:\n",
    "            df = pickle.load(f)\n",
    "        dfs.append(df)\n",
    "    df = pd.concat(dfs) \n",
    "\n",
    "    drop_index = []\n",
    "    for i in range(df.shape[0]):\n",
    "        if df.iloc[i, 0].shape[1] not in (1293,1292):\n",
    "            drop_index.append(i)\n",
    "\n",
    "    df.drop(df.index[drop_index],inplace = True) \n",
    "\n",
    "    df['mfcc'] = df['mfcc'].apply(cleansing)\n",
    "    df['mfcc'] = df['mfcc'].apply(flatten_1)\n",
    "  \n",
    "    mfcc = flatten_2(df,'mfcc')\n",
    "    mfcc['label'] = label\n",
    "\n",
    "    return mfcc\n"
   ]
  },
  {
   "cell_type": "code",
   "execution_count": null,
   "id": "332f3e47",
   "metadata": {},
   "outputs": [],
   "source": [
    "re = get_flatten_csv(r'C:\\Users\\nguyenducanh\\Desktop\\current_proj\\DL\\features\\Ballad_music',\"ballad\")\n",
    "re.to_csv(r\"C:\\Users\\nguyenducanh\\Desktop\\current_proj\\DL\\input_data\\ballad_mfcc_flatten.csv\")"
   ]
  },
  {
   "cell_type": "code",
   "execution_count": null,
   "id": "efeac702",
   "metadata": {},
   "outputs": [],
   "source": [
    "re = get_flatten_csv(r'C:\\Users\\nguyenducanh\\Desktop\\current_proj\\DL\\features\\Hát_Chèo_Việt_Nam',\"hatcheo\")\n",
    "re.to_csv(r\"C:\\Users\\nguyenducanh\\Desktop\\current_proj\\DL\\input_data\\ballad_mfcc_flatten.csv\")"
   ]
  }
 ],
 "metadata": {
  "kernelspec": {
   "display_name": "Python 3",
   "language": "python",
   "name": "python3"
  },
  "language_info": {
   "codemirror_mode": {
    "name": "ipython",
    "version": 3
   },
   "file_extension": ".py",
   "mimetype": "text/x-python",
   "name": "python",
   "nbconvert_exporter": "python",
   "pygments_lexer": "ipython3",
   "version": "3.8.5"
  }
 },
 "nbformat": 4,
 "nbformat_minor": 5
}
