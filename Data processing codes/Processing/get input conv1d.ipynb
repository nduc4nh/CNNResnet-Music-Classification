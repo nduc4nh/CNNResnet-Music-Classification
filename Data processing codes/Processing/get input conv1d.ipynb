{
 "cells": [
  {
   "cell_type": "code",
   "execution_count": 1,
   "id": "aecaccb4",
   "metadata": {},
   "outputs": [],
   "source": [
    "import os\n",
    "import librosa\n",
    "import numpy as np\n",
    "import pandas as pd\n",
    "import pickle"
   ]
  },
  {
   "cell_type": "code",
   "execution_count": 84,
   "id": "8774a18f",
   "metadata": {},
   "outputs": [],
   "source": [
    "path = r'C:\\data\\ca_tru_sample\\Những Bài Hát Ca Trù Hay Nhất Tuyển Chọn _ Hát Văn, Hát Xẩm - Vọng khúc ngàn năm - Tập 1-tPWUOuJ0A_c.wav'\n",
    "y ,sr = librosa.load(path)"
   ]
  },
  {
   "cell_type": "code",
   "execution_count": 94,
   "id": "176ddc0b",
   "metadata": {},
   "outputs": [],
   "source": [
    "def sliding_window(y,sr,size = 5,stride = 3):\n",
    "    sr_size = sr*size\n",
    "    step = sr*stride\n",
    "    \n",
    "    start = 0\n",
    "    re = []\n",
    "    n = len(y)\n",
    "    tmp = np.zeros(((n - (size - stride))//(sr*stride),1,22050*5),dtype = 'float32')\n",
    "    i = 0\n",
    "    while start + sr_size < n:\n",
    "        tmp[i,:,:] = y[start:start + sr_size]\n",
    "        start += step\n",
    "        i += 1\n",
    "    return tmp"
   ]
  },
  {
   "cell_type": "code",
   "execution_count": 76,
   "id": "d1f8c471",
   "metadata": {},
   "outputs": [],
   "source": [
    "#output numpy shape (n,1,110250)\n",
    "def get_sample(genre_path,label,dest):\n",
    "    names = os.listdir(genre_path)\n",
    "    nps = []\n",
    "    for name in names:\n",
    "        path = os.path.join(genre_path,name)\n",
    "        y ,sr = librosa.load(path)\n",
    "        nps.append(sliding_window(y,sr))\n",
    "        print(name + ' done!')\n",
    "    tmp = np.concatenate(nps,dtype = 'float32')\n",
    "    with open(os.path.join(dest,label),'wb') as f:\n",
    "        pickle.dump(tmp,f)\n"
   ]
  },
  {
   "cell_type": "code",
   "execution_count": 99,
   "id": "90bfc498",
   "metadata": {},
   "outputs": [],
   "source": [
    "#feature folder to store\n",
    "dest = r'C:\\Users\\nguyenducanh\\Desktop\\sample_data'"
   ]
  },
  {
   "cell_type": "code",
   "execution_count": 100,
   "id": "bc02a7b7",
   "metadata": {
    "scrolled": true
   },
   "outputs": [
    {
     "name": "stdout",
     "output_type": "stream",
     "text": [
      "Hát Ca Trù Việt Nam Hay Tê Tái _ ALbum Để Đời Vol 1-65V50kg6CdY.wav done!\n",
      "Những Bài Hát Ca Trù Hay Nhất Tuyển Chọn _ Hát Văn, Hát Xẩm - Vọng khúc ngàn năm - Tập 1-tPWUOuJ0A_c.wav done!\n"
     ]
    }
   ],
   "source": [
    "#Folder should contains 1 -2 hours of song each genre\n",
    "get_sample(r'C:\\data\\ca_tru_sample','catru',dest)"
   ]
  },
  {
   "cell_type": "code",
   "execution_count": 101,
   "id": "884949e9",
   "metadata": {},
   "outputs": [
    {
     "name": "stdout",
     "output_type": "stream",
     "text": [
      "10 Bài Hát CHÈO CỔ Đặc Sắc KHÔNG XEM HỐI TIẾC - Hát Chèo Việt Nam Hay Nhất 2018-RkW6-3MMpPM.wav done!\n",
      "12 Làn Điệu Chèo Cổ Hay Nhất 2018 - Những Bài Hát Chèo Chọn Lọc RU NGỦ ĐÊM KHUYA-sHWkGbDMAHI.wav done!\n",
      "Những Bài Hát Chèo Cổ Việt Nam Hay Nhất 2017 Của NSƯT Thu Huyền 2017 Phần1-2ogKHiGzU4g.wav done!\n"
     ]
    }
   ],
   "source": [
    "get_sample(r'C:\\data\\cheo_sample','cheo',dest)\n"
   ]
  },
  {
   "cell_type": "code",
   "execution_count": 102,
   "id": "f170ab4c",
   "metadata": {},
   "outputs": [
    {
     "name": "stdout",
     "output_type": "stream",
     "text": [
      "10 Ca Khúc Dân Ca Quan Họ Bắc Ninh Hay Nhất 2020 - Nghe Hoài Không Chán-xcHveq1oS3M.wav done!\n",
      "LÀNG QUAN HỌ QUÊ TÔI  -- TÚ THANH - CA NƯƠNG TRẺ TUỔI NHẤT VIỆT NAM-7Myqaz8qOmo.wav done!\n",
      "Người Ơi Người Ở Đừng Về (Quan Họ Bắc Ninh) - Những Làn Điệu Dân Ca Quan Họ Bắc Ninh Hay Nhất 2017-SawKsMoexBY.wav done!\n",
      "NHỮNG BÀI HÁT QUAN HỌ LỜI CỔ ĐẶC SẮC NHẤT 2019-ZxtdXkhD5SQ.wav done!\n"
     ]
    }
   ],
   "source": [
    "get_sample(r'C:\\data\\quanho_sample','quanho',dest)\n"
   ]
  },
  {
   "cell_type": "code",
   "execution_count": 103,
   "id": "c29e0d42",
   "metadata": {},
   "outputs": [
    {
     "name": "stdout",
     "output_type": "stream",
     "text": [
      "Duy Chèo _ Hát Xẩm - Lại Là Covid Cô Ơi - Bá Đạo Nhất Năm-EERVtFfSPzo.wav done!\n",
      "Hát Xẩm - Thái Bình là đất ăn chơi - NS Tuyết Tuyết-7mxsdEE2QfM.wav done!\n",
      "Hát Xẩm Đình Cương _ Đình Cương Những Bài Hát Xẩm Hay Nhất 2017-YIGgLhG3Cag.wav done!\n",
      "NSƯT Hà Thị Cầu với  Những Bài Xẩm Hay Nhất-bAw3OBMsQbM.wav done!\n",
      "Đình Cương hát xẩm - Một cuộc điện đàm - Tg Đinh Sỹ Hòa - Kêu gọi chung tay chống Covid - 19.-yeO2Vd0FjOA.wav done!\n"
     ]
    }
   ],
   "source": [
    "get_sample(r'C:\\data\\xam_sample','xam',dest)\n"
   ]
  },
  {
   "cell_type": "code",
   "execution_count": 1,
   "id": "697c1391",
   "metadata": {},
   "outputs": [],
   "source": [
    "import numpy as np"
   ]
  },
  {
   "cell_type": "code",
   "execution_count": 7,
   "id": "0bb0fbde",
   "metadata": {},
   "outputs": [],
   "source": [
    "x = np.random.rand(2,3)"
   ]
  },
  {
   "cell_type": "code",
   "execution_count": 13,
   "id": "b55d3478",
   "metadata": {},
   "outputs": [
    {
     "data": {
      "text/plain": [
       "array([1.02641011, 1.82080591])"
      ]
     },
     "execution_count": 13,
     "metadata": {},
     "output_type": "execute_result"
    }
   ],
   "source": [
    "np.sum(x,axis = 0)[:2]"
   ]
  },
  {
   "cell_type": "code",
   "execution_count": 18,
   "id": "37a76aa1",
   "metadata": {},
   "outputs": [
    {
     "data": {
      "text/plain": [
       "array([[[0.75884498, 0.86744173, 0.02085893]],\n",
       "\n",
       "       [[0.26756513, 0.95336418, 0.12855472]]])"
      ]
     },
     "execution_count": 18,
     "metadata": {},
     "output_type": "execute_result"
    }
   ],
   "source": [
    "x.reshape([2,1,3])"
   ]
  },
  {
   "cell_type": "code",
   "execution_count": 1,
   "id": "546b263b",
   "metadata": {},
   "outputs": [],
   "source": [
    "import pandas as pd"
   ]
  },
  {
   "cell_type": "code",
   "execution_count": 2,
   "id": "4d9365db",
   "metadata": {},
   "outputs": [],
   "source": [
    "df = pd.DataFrame({\"t\":[24,53,35,42,22],\"n\":[4,7,4,6,6],\"c\":[2609,8185,3874,9264,23282]})"
   ]
  },
  {
   "cell_type": "code",
   "execution_count": 19,
   "id": "2651b89f",
   "metadata": {},
   "outputs": [
    {
     "ename": "ValueError",
     "evalue": "Length of values (4) does not match length of index (5)",
     "output_type": "error",
     "traceback": [
      "\u001b[1;31m---------------------------------------------------------------------------\u001b[0m",
      "\u001b[1;31mValueError\u001b[0m                                Traceback (most recent call last)",
      "\u001b[1;32m<ipython-input-19-eb9faa4c3b66>\u001b[0m in \u001b[0;36m<module>\u001b[1;34m\u001b[0m\n\u001b[1;32m----> 1\u001b[1;33m \u001b[0mdf\u001b[0m\u001b[1;33m[\u001b[0m\u001b[1;34m'm'\u001b[0m\u001b[1;33m]\u001b[0m \u001b[1;33m=\u001b[0m \u001b[1;33m[\u001b[0m\u001b[1;36m433\u001b[0m\u001b[1;33m,\u001b[0m\u001b[1;36m2764\u001b[0m\u001b[1;33m,\u001b[0m\u001b[1;36m848\u001b[0m\u001b[1;33m,\u001b[0m\u001b[1;36m17280\u001b[0m\u001b[1;33m]\u001b[0m\u001b[1;33m\u001b[0m\u001b[1;33m\u001b[0m\u001b[0m\n\u001b[0m",
      "\u001b[1;32mC:\\ProgramData\\Anaconda3\\lib\\site-packages\\pandas\\core\\frame.py\u001b[0m in \u001b[0;36m__setitem__\u001b[1;34m(self, key, value)\u001b[0m\n\u001b[0;32m   3161\u001b[0m         \u001b[1;32melse\u001b[0m\u001b[1;33m:\u001b[0m\u001b[1;33m\u001b[0m\u001b[1;33m\u001b[0m\u001b[0m\n\u001b[0;32m   3162\u001b[0m             \u001b[1;31m# set column\u001b[0m\u001b[1;33m\u001b[0m\u001b[1;33m\u001b[0m\u001b[1;33m\u001b[0m\u001b[0m\n\u001b[1;32m-> 3163\u001b[1;33m             \u001b[0mself\u001b[0m\u001b[1;33m.\u001b[0m\u001b[0m_set_item\u001b[0m\u001b[1;33m(\u001b[0m\u001b[0mkey\u001b[0m\u001b[1;33m,\u001b[0m \u001b[0mvalue\u001b[0m\u001b[1;33m)\u001b[0m\u001b[1;33m\u001b[0m\u001b[1;33m\u001b[0m\u001b[0m\n\u001b[0m\u001b[0;32m   3164\u001b[0m \u001b[1;33m\u001b[0m\u001b[0m\n\u001b[0;32m   3165\u001b[0m     \u001b[1;32mdef\u001b[0m \u001b[0m_setitem_slice\u001b[0m\u001b[1;33m(\u001b[0m\u001b[0mself\u001b[0m\u001b[1;33m,\u001b[0m \u001b[0mkey\u001b[0m\u001b[1;33m:\u001b[0m \u001b[0mslice\u001b[0m\u001b[1;33m,\u001b[0m \u001b[0mvalue\u001b[0m\u001b[1;33m)\u001b[0m\u001b[1;33m:\u001b[0m\u001b[1;33m\u001b[0m\u001b[1;33m\u001b[0m\u001b[0m\n",
      "\u001b[1;32mC:\\ProgramData\\Anaconda3\\lib\\site-packages\\pandas\\core\\frame.py\u001b[0m in \u001b[0;36m_set_item\u001b[1;34m(self, key, value)\u001b[0m\n\u001b[0;32m   3240\u001b[0m         \"\"\"\n\u001b[0;32m   3241\u001b[0m         \u001b[0mself\u001b[0m\u001b[1;33m.\u001b[0m\u001b[0m_ensure_valid_index\u001b[0m\u001b[1;33m(\u001b[0m\u001b[0mvalue\u001b[0m\u001b[1;33m)\u001b[0m\u001b[1;33m\u001b[0m\u001b[1;33m\u001b[0m\u001b[0m\n\u001b[1;32m-> 3242\u001b[1;33m         \u001b[0mvalue\u001b[0m \u001b[1;33m=\u001b[0m \u001b[0mself\u001b[0m\u001b[1;33m.\u001b[0m\u001b[0m_sanitize_column\u001b[0m\u001b[1;33m(\u001b[0m\u001b[0mkey\u001b[0m\u001b[1;33m,\u001b[0m \u001b[0mvalue\u001b[0m\u001b[1;33m)\u001b[0m\u001b[1;33m\u001b[0m\u001b[1;33m\u001b[0m\u001b[0m\n\u001b[0m\u001b[0;32m   3243\u001b[0m         \u001b[0mNDFrame\u001b[0m\u001b[1;33m.\u001b[0m\u001b[0m_set_item\u001b[0m\u001b[1;33m(\u001b[0m\u001b[0mself\u001b[0m\u001b[1;33m,\u001b[0m \u001b[0mkey\u001b[0m\u001b[1;33m,\u001b[0m \u001b[0mvalue\u001b[0m\u001b[1;33m)\u001b[0m\u001b[1;33m\u001b[0m\u001b[1;33m\u001b[0m\u001b[0m\n\u001b[0;32m   3244\u001b[0m \u001b[1;33m\u001b[0m\u001b[0m\n",
      "\u001b[1;32mC:\\ProgramData\\Anaconda3\\lib\\site-packages\\pandas\\core\\frame.py\u001b[0m in \u001b[0;36m_sanitize_column\u001b[1;34m(self, key, value, broadcast)\u001b[0m\n\u001b[0;32m   3897\u001b[0m \u001b[1;33m\u001b[0m\u001b[0m\n\u001b[0;32m   3898\u001b[0m             \u001b[1;31m# turn me into an ndarray\u001b[0m\u001b[1;33m\u001b[0m\u001b[1;33m\u001b[0m\u001b[1;33m\u001b[0m\u001b[0m\n\u001b[1;32m-> 3899\u001b[1;33m             \u001b[0mvalue\u001b[0m \u001b[1;33m=\u001b[0m \u001b[0msanitize_index\u001b[0m\u001b[1;33m(\u001b[0m\u001b[0mvalue\u001b[0m\u001b[1;33m,\u001b[0m \u001b[0mself\u001b[0m\u001b[1;33m.\u001b[0m\u001b[0mindex\u001b[0m\u001b[1;33m)\u001b[0m\u001b[1;33m\u001b[0m\u001b[1;33m\u001b[0m\u001b[0m\n\u001b[0m\u001b[0;32m   3900\u001b[0m             \u001b[1;32mif\u001b[0m \u001b[1;32mnot\u001b[0m \u001b[0misinstance\u001b[0m\u001b[1;33m(\u001b[0m\u001b[0mvalue\u001b[0m\u001b[1;33m,\u001b[0m \u001b[1;33m(\u001b[0m\u001b[0mnp\u001b[0m\u001b[1;33m.\u001b[0m\u001b[0mndarray\u001b[0m\u001b[1;33m,\u001b[0m \u001b[0mIndex\u001b[0m\u001b[1;33m)\u001b[0m\u001b[1;33m)\u001b[0m\u001b[1;33m:\u001b[0m\u001b[1;33m\u001b[0m\u001b[1;33m\u001b[0m\u001b[0m\n\u001b[0;32m   3901\u001b[0m                 \u001b[1;32mif\u001b[0m \u001b[0misinstance\u001b[0m\u001b[1;33m(\u001b[0m\u001b[0mvalue\u001b[0m\u001b[1;33m,\u001b[0m \u001b[0mlist\u001b[0m\u001b[1;33m)\u001b[0m \u001b[1;32mand\u001b[0m \u001b[0mlen\u001b[0m\u001b[1;33m(\u001b[0m\u001b[0mvalue\u001b[0m\u001b[1;33m)\u001b[0m \u001b[1;33m>\u001b[0m \u001b[1;36m0\u001b[0m\u001b[1;33m:\u001b[0m\u001b[1;33m\u001b[0m\u001b[1;33m\u001b[0m\u001b[0m\n",
      "\u001b[1;32mC:\\ProgramData\\Anaconda3\\lib\\site-packages\\pandas\\core\\internals\\construction.py\u001b[0m in \u001b[0;36msanitize_index\u001b[1;34m(data, index)\u001b[0m\n\u001b[0;32m    749\u001b[0m     \"\"\"\n\u001b[0;32m    750\u001b[0m     \u001b[1;32mif\u001b[0m \u001b[0mlen\u001b[0m\u001b[1;33m(\u001b[0m\u001b[0mdata\u001b[0m\u001b[1;33m)\u001b[0m \u001b[1;33m!=\u001b[0m \u001b[0mlen\u001b[0m\u001b[1;33m(\u001b[0m\u001b[0mindex\u001b[0m\u001b[1;33m)\u001b[0m\u001b[1;33m:\u001b[0m\u001b[1;33m\u001b[0m\u001b[1;33m\u001b[0m\u001b[0m\n\u001b[1;32m--> 751\u001b[1;33m         raise ValueError(\n\u001b[0m\u001b[0;32m    752\u001b[0m             \u001b[1;34m\"Length of values \"\u001b[0m\u001b[1;33m\u001b[0m\u001b[1;33m\u001b[0m\u001b[0m\n\u001b[0;32m    753\u001b[0m             \u001b[1;34mf\"({len(data)}) \"\u001b[0m\u001b[1;33m\u001b[0m\u001b[1;33m\u001b[0m\u001b[0m\n",
      "\u001b[1;31mValueError\u001b[0m: Length of values (4) does not match length of index (5)"
     ]
    }
   ],
   "source": [
    "df['m'] = [433,2764,848,17280]"
   ]
  },
  {
   "cell_type": "code",
   "execution_count": 23,
   "id": "3c11c73e",
   "metadata": {},
   "outputs": [
    {
     "data": {
      "text/plain": [
       "5331.25"
      ]
     },
     "execution_count": 23,
     "metadata": {},
     "output_type": "execute_result"
    }
   ],
   "source": [
    "sum([433,2764,848,17280])/4"
   ]
  },
  {
   "cell_type": "code",
   "execution_count": 17,
   "id": "2211719d",
   "metadata": {},
   "outputs": [
    {
     "data": {
      "text/plain": [
       "58.010239830923794"
      ]
     },
     "execution_count": 17,
     "metadata": {},
     "output_type": "execute_result"
    }
   ],
   "source": [
    "(df.c / (df.t*df.n)).mean()"
   ]
  },
  {
   "cell_type": "code",
   "execution_count": 28,
   "id": "99802868",
   "metadata": {},
   "outputs": [
    {
     "data": {
      "text/plain": [
       "9.935606060606059"
      ]
     },
     "execution_count": 28,
     "metadata": {},
     "output_type": "execute_result"
    }
   ],
   "source": [
    "9442.8 /(5*5.4*35.2)"
   ]
  }
 ],
 "metadata": {
  "kernelspec": {
   "display_name": "Python 3",
   "language": "python",
   "name": "python3"
  },
  "language_info": {
   "codemirror_mode": {
    "name": "ipython",
    "version": 3
   },
   "file_extension": ".py",
   "mimetype": "text/x-python",
   "name": "python",
   "nbconvert_exporter": "python",
   "pygments_lexer": "ipython3",
   "version": "3.8.5"
  }
 },
 "nbformat": 4,
 "nbformat_minor": 5
}
