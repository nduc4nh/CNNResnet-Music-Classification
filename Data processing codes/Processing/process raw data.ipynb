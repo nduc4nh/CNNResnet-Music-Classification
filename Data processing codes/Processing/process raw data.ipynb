{
 "cells": [
  {
   "cell_type": "code",
   "execution_count": 3,
   "metadata": {},
   "outputs": [],
   "source": [
    "import uuid"
   ]
  },
  {
   "cell_type": "markdown",
   "metadata": {},
   "source": [
    "<h1> Trimming file </h1> "
   ]
  },
  {
   "cell_type": "code",
   "execution_count": 2,
   "metadata": {},
   "outputs": [],
   "source": [
    "#!pip install ffmpeg-python\n",
    "import ffmpeg\n",
    "import subprocess\n",
    "import shlex\n",
    "import os"
   ]
  },
  {
   "cell_type": "code",
   "execution_count": 8,
   "metadata": {},
   "outputs": [
    {
     "name": "stdout",
     "output_type": "stream",
     "text": [
      "Ballad_music\n",
      "ffmpeg -i 'C:\\Users\\nguyenducanh\\Desktop\\Ballad music\\0' -f segment -segment_time 30 -c copy 'C:\\Users\\nguyenducanh\\Desktop\\current_proj\\DL\\final_data_genre\\Ballad_music\\63c493910b204fdb92dca14355dcf209%09d.wav'\n",
      "90's Acoustic - 90's Music Hits - Best Songs Of The 1990s.mp3:done!\n",
      "ffmpeg -i 'C:\\Users\\nguyenducanh\\Desktop\\Ballad music\\1' -f segment -segment_time 30 -c copy 'C:\\Users\\nguyenducanh\\Desktop\\current_proj\\DL\\final_data_genre\\Ballad_music\\e5a0596ce7184be78c5fb561a9a93d60%09d.wav'\n",
      "Acoustic 90s 2000s - The Best Acoustic Covers Of Popular Songs 90s 2000s.mp3:done!\n",
      "ffmpeg -i 'C:\\Users\\nguyenducanh\\Desktop\\Ballad music\\2' -f segment -segment_time 30 -c copy 'C:\\Users\\nguyenducanh\\Desktop\\current_proj\\DL\\final_data_genre\\Ballad_music\\0f934d213b32442094896f0dcc4f564f%09d.wav'\n",
      "Acoustic Ballads - Best Ballads Love Songs Playlist.mp3:done!\n",
      "ffmpeg -i 'C:\\Users\\nguyenducanh\\Desktop\\Ballad music\\3' -f segment -segment_time 30 -c copy 'C:\\Users\\nguyenducanh\\Desktop\\current_proj\\DL\\final_data_genre\\Ballad_music\\890a9f3968f445538e8c182f09c35592%09d.wav'\n",
      "Acoustic Love Songs - Best Love Songs 90s and 2000s.mp3:done!\n",
      "ffmpeg -i 'C:\\Users\\nguyenducanh\\Desktop\\Ballad music\\4' -f segment -segment_time 30 -c copy 'C:\\Users\\nguyenducanh\\Desktop\\current_proj\\DL\\final_data_genre\\Ballad_music\\586148e27889442cb8bc28949052ae1f%09d.wav'\n",
      "Acoustic Love Songs 70s 80s 90s - Top Classic Love Songs Of All Time.mp3:done!\n",
      "ffmpeg -i 'C:\\Users\\nguyenducanh\\Desktop\\Ballad music\\5' -f segment -segment_time 30 -c copy 'C:\\Users\\nguyenducanh\\Desktop\\current_proj\\DL\\final_data_genre\\Ballad_music\\165ebc2376cf4055a46fd97e3937367a%09d.wav'\n",
      "Acoustic Old Love Songs - Greatest Old Love Songs Of All Time - Beautiful Love Songs Ever.mp3:done!\n",
      "ffmpeg -i 'C:\\Users\\nguyenducanh\\Desktop\\Ballad music\\6' -f segment -segment_time 30 -c copy 'C:\\Users\\nguyenducanh\\Desktop\\current_proj\\DL\\final_data_genre\\Ballad_music\\72fea0c572354f75a425a44572afb21f%09d.wav'\n",
      "Acoustic Rock Ballads 70s 80s 90s - Top 20 Rock Ballads Songs Of All Time.mp3:done!\n",
      "ffmpeg -i 'C:\\Users\\nguyenducanh\\Desktop\\Ballad music\\7' -f segment -segment_time 30 -c copy 'C:\\Users\\nguyenducanh\\Desktop\\current_proj\\DL\\final_data_genre\\Ballad_music\\3c3b0abb2b7945b5ade3c4a0e31b500a%09d.wav'\n",
      "Acoustic Soft Ballads 80s 90s - Best Soft Ballads Songs Of All Time - Acoustic Relaxing Music.mp3:done!\n",
      "ffmpeg -i 'C:\\Users\\nguyenducanh\\Desktop\\Ballad music\\8' -f segment -segment_time 30 -c copy 'C:\\Users\\nguyenducanh\\Desktop\\current_proj\\DL\\final_data_genre\\Ballad_music\\92365e43860a41859d62f29655e49553%09d.wav'\n",
      "Ballad Việt Nhẹ Nhàng -- Đừng Nghe...Khi Buồn.mp3:done!\n",
      "ffmpeg -i 'C:\\Users\\nguyenducanh\\Desktop\\Ballad music\\9' -f segment -segment_time 30 -c copy 'C:\\Users\\nguyenducanh\\Desktop\\current_proj\\DL\\final_data_genre\\Ballad_music\\555636be756042eb9aa46916d59c1301%09d.wav'\n",
      "Beautiful English Songs From 2000's - Greatest Hits Ballad Cover Of Popular Songs Ever.mp3:done!\n",
      "ffmpeg -i 'C:\\Users\\nguyenducanh\\Desktop\\Ballad music\\10' -f segment -segment_time 30 -c copy 'C:\\Users\\nguyenducanh\\Desktop\\current_proj\\DL\\final_data_genre\\Ballad_music\\539577a1437747dfb28953e7e1b6ae10%09d.wav'\n",
      "Best Beautiful Love Songs Of 70's 80's 90's Best Romantic Love Songs About Falling In Love.mp3:done!\n",
      "ffmpeg -i 'C:\\Users\\nguyenducanh\\Desktop\\Ballad music\\11' -f segment -segment_time 30 -c copy 'C:\\Users\\nguyenducanh\\Desktop\\current_proj\\DL\\final_data_genre\\Ballad_music\\549f109d594847f6a7d60c94566d4429%09d.wav'\n",
      "Best English Acoustic Love Songs 2020 - Acoustic Cover Of Popular Songs - Sad Acoustic Songs.mp3:done!\n",
      "ffmpeg -i 'C:\\Users\\nguyenducanh\\Desktop\\Ballad music\\12' -f segment -segment_time 30 -c copy 'C:\\Users\\nguyenducanh\\Desktop\\current_proj\\DL\\final_data_genre\\Ballad_music\\6102b9a2a6bf4a0b9c5c497f2c0adee5%09d.wav'\n",
      "Best English Acoustic Love Songs 2020 - Greatest Hits Acoustic Cover Of Popular Songs Of All Time.mp3:done!\n",
      "ffmpeg -i 'C:\\Users\\nguyenducanh\\Desktop\\Ballad music\\13' -f segment -segment_time 30 -c copy 'C:\\Users\\nguyenducanh\\Desktop\\current_proj\\DL\\final_data_genre\\Ballad_music\\d0b21aadac3741b4a9257b895d0e1371%09d.wav'\n",
      "Best English Acoustic Love Songs 2021 - Ballad Guitar Acoustic Cover Of Popular Songs Of All Time.mp3:done!\n",
      "ffmpeg -i 'C:\\Users\\nguyenducanh\\Desktop\\Ballad music\\14' -f segment -segment_time 30 -c copy 'C:\\Users\\nguyenducanh\\Desktop\\current_proj\\DL\\final_data_genre\\Ballad_music\\9d0e296c32784b2b907152a6de5e0b14%09d.wav'\n",
      "Best Of Michael Learns To Rock 💖 Michael Learns To Rock Greatest Hits Full Album 💖 MLTR Love Songs.mp3:done!\n",
      "ffmpeg -i 'C:\\Users\\nguyenducanh\\Desktop\\Ballad music\\15' -f segment -segment_time 30 -c copy 'C:\\Users\\nguyenducanh\\Desktop\\current_proj\\DL\\final_data_genre\\Ballad_music\\b3073ad7cbbb4cf3b5f254cddefceebc%09d.wav'\n",
      "Greatest Hits Golden Oldies But Goodies 💖 Sweet Memories Love Songs 70s 80s 90s.mp3:done!\n",
      "ffmpeg -i 'C:\\Users\\nguyenducanh\\Desktop\\Ballad music\\16' -f segment -segment_time 30 -c copy 'C:\\Users\\nguyenducanh\\Desktop\\current_proj\\DL\\final_data_genre\\Ballad_music\\b5208630447245308355b8a56bfc6ff8%09d.wav'\n",
      "Korean Ballads to heal your heart - 발라드 재생 목록 vol.02.mp3:done!\n",
      "ffmpeg -i 'C:\\Users\\nguyenducanh\\Desktop\\Ballad music\\17' -f segment -segment_time 30 -c copy 'C:\\Users\\nguyenducanh\\Desktop\\current_proj\\DL\\final_data_genre\\Ballad_music\\81e2714174bb4212a203810317d8b88a%09d.wav'\n",
      "Kpop Ballads Playlist - For Studying, Sleeping and Relaxing.mp3:done!\n",
      "ffmpeg -i 'C:\\Users\\nguyenducanh\\Desktop\\Ballad music\\18' -f segment -segment_time 30 -c copy 'C:\\Users\\nguyenducanh\\Desktop\\current_proj\\DL\\final_data_genre\\Ballad_music\\e9be397d49004913946a07ec81cdc7d1%09d.wav'\n",
      "Love Songs 70s 80s 90s 💓 Michael Learns To Rock, Air Supply, Boyzone, Roxette, Chicago, Lobo, Cher.mp3:done!\n",
      "ffmpeg -i 'C:\\Users\\nguyenducanh\\Desktop\\Ballad music\\19' -f segment -segment_time 30 -c copy 'C:\\Users\\nguyenducanh\\Desktop\\current_proj\\DL\\final_data_genre\\Ballad_music\\2f54581d033b4458a76aaceecca2ac1f%09d.wav'\n",
      "Most Old Beautiful Love Songs Of 70s 80s 90s - Best Romantic Love Songs About Falling In Love.mp3:done!\n",
      "ffmpeg -i 'C:\\Users\\nguyenducanh\\Desktop\\Ballad music\\20' -f segment -segment_time 30 -c copy 'C:\\Users\\nguyenducanh\\Desktop\\current_proj\\DL\\final_data_genre\\Ballad_music\\e98254a150e34418ab166114bff6cae8%09d.wav'\n",
      "Nhạc Ballad Việt Nhẹ Nhàng Buồn Nhất 2020 - Tuyển Tập Nhạc Trẻ Hay Nhất.mp3:done!\n",
      "ffmpeg -i 'C:\\Users\\nguyenducanh\\Desktop\\Ballad music\\21' -f segment -segment_time 30 -c copy 'C:\\Users\\nguyenducanh\\Desktop\\current_proj\\DL\\final_data_genre\\Ballad_music\\c2d3b50013404c85908fc79b82f1b636%09d.wav'\n",
      "Những Bản Ballad Nhẹ Nhàng Tâm Trạng Nhất 2020 -Anh Từng Cố Gắng, Cứ Vội Vàng -Nhạc Ballad Buồn 2020.mp3:done!\n",
      "ffmpeg -i 'C:\\Users\\nguyenducanh\\Desktop\\Ballad music\\22' -f segment -segment_time 30 -c copy 'C:\\Users\\nguyenducanh\\Desktop\\current_proj\\DL\\final_data_genre\\Ballad_music\\5b4dd9650f5143e3812f522321ce731e%09d.wav'\n",
      "Những Bản Ballad Việt Nhẹ Nhàng Tâm Trạng Cực Chill - Nhạc Ballad Buồn Hay Nhất 2021.mp3:done!\n",
      "ffmpeg -i 'C:\\Users\\nguyenducanh\\Desktop\\Ballad music\\23' -f segment -segment_time 30 -c copy 'C:\\Users\\nguyenducanh\\Desktop\\current_proj\\DL\\final_data_genre\\Ballad_music\\bb332f25fdf647298f89546a468881a6%09d.wav'\n",
      "Những bản nhạc phim Hàn Quốc nhẹ nhàng, da diết ( The best OSTs)_Part 3.mp3:done!\n",
      "ffmpeg -i 'C:\\Users\\nguyenducanh\\Desktop\\Ballad music\\24' -f segment -segment_time 30 -c copy 'C:\\Users\\nguyenducanh\\Desktop\\current_proj\\DL\\final_data_genre\\Ballad_music\\1aaf9374178244b4987c314ad847a282%09d.wav'\n",
      "soft chinese ballads that make me feel again playlist.mp3:done!\n",
      "ffmpeg -i 'C:\\Users\\nguyenducanh\\Desktop\\Ballad music\\25' -f segment -segment_time 30 -c copy 'C:\\Users\\nguyenducanh\\Desktop\\current_proj\\DL\\final_data_genre\\Ballad_music\\c6280fa78015430ea42b09d64b2cc1c9%09d.wav'\n",
      "TaeYeon (김태연) OST Playlist - Tổng hợp nhạc phim của Taeyeon.mp3:done!\n",
      "ffmpeg -i 'C:\\Users\\nguyenducanh\\Desktop\\Ballad music\\26' -f segment -segment_time 30 -c copy 'C:\\Users\\nguyenducanh\\Desktop\\current_proj\\DL\\final_data_genre\\Ballad_music\\94d4efc60409468fa5d908acdd006a3e%09d.wav'\n",
      "Top Acoustic Songs 2019 - Best of Pop Hits - 1 Hour of Relaxing Music.mp3:done!\n",
      "ffmpeg -i 'C:\\Users\\nguyenducanh\\Desktop\\Ballad music\\27' -f segment -segment_time 30 -c copy 'C:\\Users\\nguyenducanh\\Desktop\\current_proj\\DL\\final_data_genre\\Ballad_music\\88b0fe78208f472bbc1092d5bb421a80%09d.wav'\n"
     ]
    },
    {
     "name": "stdout",
     "output_type": "stream",
     "text": [
      "Top Ballad Acoustic Love Songs Playlist - English Guitar Acoustic Cover Of Popular Songs Of All Time.mp3:done!\n",
      "ffmpeg -i 'C:\\Users\\nguyenducanh\\Desktop\\Ballad music\\28' -f segment -segment_time 30 -c copy 'C:\\Users\\nguyenducanh\\Desktop\\current_proj\\DL\\final_data_genre\\Ballad_music\\61f3c0e7d6114b869ed7fe0398d5290c%09d.wav'\n",
      "TOP HITS NHỮNG BẢN NHẠC TRẺ BALLAD HAY NHẤT 2021 - HẸN YÊU FT. NÀNG THƠ.mp3:done!\n",
      "-----Ballad_music Done!-----\n"
     ]
    }
   ],
   "source": [
    "def trim_audio(audio_path,genre_name,dest,duration):\n",
    "    dest_path = r\"'%s'\" %os.path.join(dest,genre_name+\"%09d.wav\")\n",
    "    #print(dest_path)\n",
    "    command = \"ffmpeg -i \" + audio_path+ \" -f segment -segment_time \"+str(duration) + \" -c copy \" + dest_path\n",
    "    print(command)\n",
    "    command = shlex.split(command)\n",
    "    return subprocess.run(command)\n",
    "    \n",
    "    \n",
    "def trim_by_genre(genre_path,dest,duration):\n",
    "    genre_name = os.path.basename(genre_path)\n",
    "    genre_name = \"_\".join(genre_name.split())\n",
    "    dest_path = os.path.join(dest,genre_name)\n",
    "    if not os.path.exists(dest_path):\n",
    "        os.mkdir(dest_path)\n",
    "    print(genre_name)\n",
    "    names = os.listdir(genre_path)\n",
    "    for i,name in enumerate(names):\n",
    "        idx = uuid.uuid4().hex\n",
    "        os.rename(os.path.join(genre_path,name),os.path.join(genre_path,str(i)))\n",
    "        used_path = \"'\" +os.path.join(genre_path,str(i)) + \"'\"\n",
    "        trim_audio(used_path,idx,dest_path,duration)\n",
    "        print(name+ \":done!\")\n",
    "    print(\"-\"*5 + genre_name + \" Done!\" +\"-\"*5)\n",
    "    \n",
    "\n",
    "genre_path = r\"C:\\Users\\nguyenducanh\\Desktop\\Ballad music\" #Folder chua data keo ve\n",
    "dest = r\"C:\\Users\\nguyenducanh\\Desktop\\current_proj\\DL\\final_data_genre\" #Folder chua anh thanh da trim\n",
    "duration = 30\n",
    "trim_by_genre(genre_path,dest,duration)"
   ]
  },
  {
   "cell_type": "markdown",
   "metadata": {},
   "source": [
    "<h1> Extracting File </h1>"
   ]
  },
  {
   "cell_type": "code",
   "execution_count": 3,
   "metadata": {},
   "outputs": [],
   "source": [
    "import librosa\n",
    "import numpy as np\n",
    "import pandas as  pd\n",
    "import json,pickle\n",
    "import os"
   ]
  },
  {
   "cell_type": "code",
   "execution_count": 6,
   "metadata": {},
   "outputs": [],
   "source": [
    "def avg_zero_crossing(array,sr):\n",
    "    n = len(array)\n",
    "    s = 0\n",
    "    for ele in array:\n",
    "        if ele:\n",
    "            s += 1\n",
    "    return s/(n/sr)\n",
    "\n",
    "def feature_extract(file):\n",
    "    try:\n",
    "        \"\"\"\n",
    "        Define function that takes in a file an returns features in an array\n",
    "        \"\"\"\n",
    "    \n",
    "        #get wave representation\n",
    "        y, sr = librosa.load(file)\n",
    "        \n",
    "        #determine if instruemnt is harmonic or percussive by comparing means\n",
    "        \"\"\"y_harmonic, y_percussive = librosa.effects.hpss(y)\n",
    "        if np.mean(y_harmonic)>np.mean(y_percussive):\n",
    "            harmonic=1\n",
    "        else:\n",
    "            harmonic=0\"\"\"\n",
    "        \n",
    "        #Mel-frequency cepstral coefficients (MFCCs)\n",
    "        mfcc = librosa.feature.mfcc(y=y, sr=sr, n_mfcc=13)\n",
    "        #temporal averaging\n",
    "        #mfcc=np.mean(mfcc,axis=1)\n",
    "    \n",
    "        #get the mel-scaled spectrogram\n",
    "        spectrogram = librosa.feature.melspectrogram(y=y, sr=sr, n_mels=64,fmax=8000)  \n",
    "        #temporally average spectrogram\n",
    "        #spectrogram = np.mean(spectrogram, axis = 1)\n",
    "    \n",
    "        \"\"\"#compute chroma energy\n",
    "        chroma = librosa.feature.chroma_cens(y=y, sr=sr)\n",
    "        #temporally average chroma\n",
    "        chroma = np.mean(chroma, axis = 1)\n",
    "    \n",
    "        #compute spectral contrast\n",
    "        contrast = librosa.feature.spectral_contrast(y=y, sr=sr)\n",
    "        contrast = np.mean(contrast, axis= 1)\"\"\"\n",
    "        \"\"\"\n",
    "        #avg_zero_crossing\n",
    "        zero_crossing_feature = avg_zero_crossing(librosa.zero_crossings(y),sr)\"\"\"\n",
    "        \n",
    "        #return [harmonic,zero_crossing_feature, mfcc, spectrogram, chroma, contrast]\n",
    "        return [mfcc, spectrogram]\n",
    "    except:\n",
    "        print(\"hey dumbass\")\n",
    "        pass\n",
    "\n"
   ]
  },
  {
   "cell_type": "code",
   "execution_count": 13,
   "metadata": {},
   "outputs": [
    {
     "name": "stderr",
     "output_type": "stream",
     "text": [
      "C:\\ProgramData\\Anaconda3\\lib\\site-packages\\librosa\\core\\audio.py:162: UserWarning: PySoundFile failed. Trying audioread instead.\n",
      "  warnings.warn(\"PySoundFile failed. Trying audioread instead.\")\n",
      "C:\\ProgramData\\Anaconda3\\lib\\site-packages\\librosa\\core\\audio.py:162: UserWarning: PySoundFile failed. Trying audioread instead.\n",
      "  warnings.warn(\"PySoundFile failed. Trying audioread instead.\")\n"
     ]
    }
   ],
   "source": [
    "path = r'C:\\Users\\nguyenducanh\\Desktop\\current_proj\\DL\\final_data_genre\\Ballad_music'#Folder chua file am thanh da trim\n",
    "dest = r'C:\\Users\\nguyenducanh\\Desktop\\current_proj\\DL\\features'#Folder luu file pickle \n",
    "names = os.listdir(path)\n",
    "genre = os.path.basename(path)\n",
    "re = []\n",
    "for ele in names:\n",
    "    #print(ele)\n",
    "    tmp = feature_extract(os.path.join(path,ele))\n",
    "    tmp.append(genre)\n",
    "    re.append(tmp)\n",
    "d1 = [ele[0] for ele in re]\n",
    "d2 = [ele[1] for ele in re]\n",
    "df = pd.DataFrame({\"mfcc\":d1, \"mel-spectrogram\":d2})\n",
    "\n",
    "saved_folder = os.path.join(dest,genre)\n",
    "os.mkdir(saved_folder)\n",
    "idx = int(df.shape[0]/10)\n",
    "start_pos = 0\n",
    "end_pos = idx\n",
    "for i in range(10):\n",
    "    if i < 9:\n",
    "        tmp = df[:][start_pos:end_pos]\n",
    "    else:\n",
    "        tmp = df[:][start_pos:]\n",
    "        \n",
    "    tmp.to_pickle(os.path.join(saved_folder,genre + '_feature_bin' + str(i)))\n",
    "    start_pos = end_pos\n",
    "    end_pos += idx\n",
    "        \n"
   ]
  },
  {
   "cell_type": "code",
   "execution_count": 7,
   "metadata": {},
   "outputs": [],
   "source": [
    "def extract_and_save(path,dest = None):\n",
    "    names = os.listdir(path)\n",
    "    genre = os.path.basename(path)\n",
    "    re = []\n",
    "    for ele in names:\n",
    "        #print(ele)\n",
    "        tmp = feature_extract(os.path.join(path,ele))\n",
    "        tmp.append(genre)\n",
    "        re.append(tmp)\n",
    "    d1 = [ele[0] for ele in re]\n",
    "    d2 = [ele[1] for ele in re]\n",
    "    df = pd.DataFrame({\"mfcc\":d1, \"mel-spectrogram\":d2})\n",
    "\n",
    "    saved_folder = os.path.join(dest,genre)\n",
    "    os.mkdir(saved_folder)\n",
    "    idx = int(df.shape[0]/10)\n",
    "    start_pos = 0\n",
    "    end_pos = idx\n",
    "    for i in range(10):\n",
    "        if i < 9:\n",
    "            tmp = df[:][start_pos:end_pos]\n",
    "        else:\n",
    "            tmp = df[:][start_pos:]\n",
    "\n",
    "        tmp.to_pickle(os.path.join(saved_folder,genre + '_feature_bin' + str(i)))\n",
    "        start_pos = end_pos\n",
    "        end_pos += idx\n",
    "    print(\"-\"*5 + \"Done\" + \"-\"*5) "
   ]
  },
  {
   "cell_type": "code",
   "execution_count": 8,
   "metadata": {},
   "outputs": [
    {
     "name": "stderr",
     "output_type": "stream",
     "text": [
      "C:\\ProgramData\\Anaconda3\\lib\\site-packages\\librosa\\core\\spectrum.py:222: UserWarning: n_fft=2048 is too small for input signal of length=512\n",
      "  warnings.warn(\n"
     ]
    },
    {
     "name": "stdout",
     "output_type": "stream",
     "text": [
      "-----Done-----\n",
      "-----Done-----\n",
      "-----Done-----\n",
      "-----Done-----\n"
     ]
    }
   ],
   "source": [
    "folder = r'C:\\Users\\nguyenducanh\\Desktop\\current_proj\\DL\\final_data_genre'\n",
    "names = os.listdir(folder)\n",
    "for ele in names:\n",
    "    extract_and_save(os.path.join(folder,ele),dest = r'C:\\Users\\nguyenducanh\\Desktop\\current_proj\\DL\\features')"
   ]
  },
  {
   "cell_type": "code",
   "execution_count": null,
   "metadata": {},
   "outputs": [],
   "source": []
  }
 ],
 "metadata": {
  "kernelspec": {
   "display_name": "Python 3",
   "language": "python",
   "name": "python3"
  },
  "language_info": {
   "codemirror_mode": {
    "name": "ipython",
    "version": 3
   },
   "file_extension": ".py",
   "mimetype": "text/x-python",
   "name": "python",
   "nbconvert_exporter": "python",
   "pygments_lexer": "ipython3",
   "version": "3.8.5"
  }
 },
 "nbformat": 4,
 "nbformat_minor": 4
}
