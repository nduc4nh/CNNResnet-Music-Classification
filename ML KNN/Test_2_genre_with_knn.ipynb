{
 "cells": [
  {
   "cell_type": "code",
   "execution_count": 3,
   "metadata": {},
   "outputs": [],
   "source": [
    "import pandas as pd\n",
    "import numpy as np\n",
    "import pickle\n",
    "from matplotlib import pyplot as plt"
   ]
  },
  {
   "cell_type": "code",
   "execution_count": 4,
   "metadata": {},
   "outputs": [],
   "source": [
    "with open(r\"C:\\Users\\nguyenducanh\\Desktop\\current_proj\\Project_2_progress\\current data\\Hát_Xẩm_Việt_Nam_feature_bin\",\"rb\") as f:\n",
    "    matrix1 = pickle.load(f)"
   ]
  },
  {
   "cell_type": "code",
   "execution_count": 18,
   "metadata": {},
   "outputs": [],
   "source": [
    "with open(r\"C:\\Users\\nguyenducanh\\Desktop\\current_proj\\Project_2_progress\\current data\\Quan_họ_Việt_Nam_feature_bin\",\"rb\") as f:\n",
    "    matrix2 = pickle.load(f)"
   ]
  },
  {
   "cell_type": "code",
   "execution_count": 7,
   "metadata": {},
   "outputs": [],
   "source": [
    "df1 = pd.DataFrame(matrix1, columns = [\"mfcc\",\"spectro_gram\",\"label\"])"
   ]
  },
  {
   "cell_type": "code",
   "execution_count": 19,
   "metadata": {},
   "outputs": [],
   "source": [
    "df2 = pd.DataFrame(matrix2, columns = [\"mfcc\",\"spectro_gram\",\"label\"])"
   ]
  },
  {
   "cell_type": "code",
   "execution_count": 9,
   "metadata": {},
   "outputs": [
    {
     "data": {
      "text/plain": [
       "'df1 = df1[:][:500]\\ndf1'"
      ]
     },
     "execution_count": 9,
     "metadata": {},
     "output_type": "execute_result"
    }
   ],
   "source": [
    "\"\"\"df1 = df1[:][:500]\n",
    "df1\"\"\""
   ]
  },
  {
   "cell_type": "code",
   "execution_count": 10,
   "metadata": {},
   "outputs": [
    {
     "data": {
      "text/plain": [
       "'df2 = df2[:][:500]\\ndf2'"
      ]
     },
     "execution_count": 10,
     "metadata": {},
     "output_type": "execute_result"
    }
   ],
   "source": [
    "\"\"\"df2 = df2[:][:500]\n",
    "df2\"\"\""
   ]
  },
  {
   "cell_type": "code",
   "execution_count": 11,
   "metadata": {},
   "outputs": [],
   "source": [
    "mfcc1 = df1['spectro_gram'].to_list()"
   ]
  },
  {
   "cell_type": "code",
   "execution_count": 20,
   "metadata": {},
   "outputs": [],
   "source": [
    "mfcc2 = df2['spectro_gram'].to_list()"
   ]
  },
  {
   "cell_type": "code",
   "execution_count": 13,
   "metadata": {},
   "outputs": [],
   "source": [
    "from sklearn.decomposition import PCA\n",
    "from sklearn.preprocessing import normalize,LabelEncoder\n",
    "from sklearn.neighbors import KNeighborsClassifier\n",
    "from sklearn.model_selection import train_test_split "
   ]
  },
  {
   "cell_type": "code",
   "execution_count": 21,
   "metadata": {},
   "outputs": [],
   "source": [
    "nml1 = normalize(mfcc1)\n",
    "nml2 = normalize(mfcc2)"
   ]
  },
  {
   "cell_type": "code",
   "execution_count": 22,
   "metadata": {},
   "outputs": [],
   "source": [
    "pca = PCA(2)"
   ]
  },
  {
   "cell_type": "code",
   "execution_count": 23,
   "metadata": {},
   "outputs": [],
   "source": [
    "xy1 = pca.fit_transform(nml1)\n",
    "xy2 = pca.fit_transform(nml2)"
   ]
  },
  {
   "cell_type": "code",
   "execution_count": 24,
   "metadata": {},
   "outputs": [
    {
     "data": {
      "image/png": "[encoded data removed]",
      "text/plain": [
       "<Figure size 432x288 with 1 Axes>"
      ]
     },
     "metadata": {
      "needs_background": "light"
     },
     "output_type": "display_data"
    }
   ],
   "source": [
    "plt.scatter([ele[0] for ele in xy1],[ele[1] for ele in xy1],c = \"g\")\n",
    "plt.scatter([ele[0] for ele in xy2],[ele[1] for ele in xy2],c = \"b\")\n",
    "plt.show()"
   ]
  },
  {
   "cell_type": "code",
   "execution_count": 159,
   "metadata": {},
   "outputs": [
    {
     "data": {
      "text/html": [
       "<div>\n",
       "<style scoped>\n",
       "    .dataframe tbody tr th:only-of-type {\n",
       "        vertical-align: middle;\n",
       "    }\n",
       "\n",
       "    .dataframe tbody tr th {\n",
       "        vertical-align: top;\n",
       "    }\n",
       "\n",
       "    .dataframe thead th {\n",
       "        text-align: right;\n",
       "    }\n",
       "</style>\n",
       "<table border=\"1\" class=\"dataframe\">\n",
       "  <thead>\n",
       "    <tr style=\"text-align: right;\">\n",
       "      <th></th>\n",
       "      <th>mfcc</th>\n",
       "      <th>spectro_gram</th>\n",
       "      <th>label</th>\n",
       "    </tr>\n",
       "  </thead>\n",
       "  <tbody>\n",
       "    <tr>\n",
       "      <th>0</th>\n",
       "      <td>[-222.05853, 110.289116, -23.231728, 16.095695...</td>\n",
       "      <td>[0.2571352, 5.9769983, 2.4045036, 0.64448655, ...</td>\n",
       "      <td>Hát_Xẩm_Việt_Nam</td>\n",
       "    </tr>\n",
       "    <tr>\n",
       "      <th>1</th>\n",
       "      <td>[-214.92708, 111.795845, -28.754154, 16.626308...</td>\n",
       "      <td>[0.21239984, 4.6168737, 2.2179596, 1.008458, 3...</td>\n",
       "      <td>Hát_Xẩm_Việt_Nam</td>\n",
       "    </tr>\n",
       "    <tr>\n",
       "      <th>2</th>\n",
       "      <td>[-197.3586, 115.44524, -30.857426, 15.727198, ...</td>\n",
       "      <td>[0.2612718, 5.6639886, 2.87873, 1.2443874, 4.3...</td>\n",
       "      <td>Hát_Xẩm_Việt_Nam</td>\n",
       "    </tr>\n",
       "    <tr>\n",
       "      <th>3</th>\n",
       "      <td>[-210.97722, 108.89349, -33.274464, 19.595434,...</td>\n",
       "      <td>[0.20555219, 4.6128535, 2.081246, 0.9585203, 3...</td>\n",
       "      <td>Hát_Xẩm_Việt_Nam</td>\n",
       "    </tr>\n",
       "    <tr>\n",
       "      <th>4</th>\n",
       "      <td>[-221.5279, 112.32245, -26.952684, 16.40467, -...</td>\n",
       "      <td>[0.21053046, 4.6197224, 1.9719607, 0.4045108, ...</td>\n",
       "      <td>Hát_Xẩm_Việt_Nam</td>\n",
       "    </tr>\n",
       "    <tr>\n",
       "      <th>...</th>\n",
       "      <td>...</td>\n",
       "      <td>...</td>\n",
       "      <td>...</td>\n",
       "    </tr>\n",
       "    <tr>\n",
       "      <th>2367</th>\n",
       "      <td>[-373.05878, 78.53274, -22.906567, 8.9476795, ...</td>\n",
       "      <td>[0.025007794, 0.4297731, 0.76855433, 0.2440167...</td>\n",
       "      <td>Ca_trù_Việt_Nam</td>\n",
       "    </tr>\n",
       "    <tr>\n",
       "      <th>2368</th>\n",
       "      <td>[-355.05508, 77.811584, -28.323334, 18.376535,...</td>\n",
       "      <td>[0.020477992, 0.2928905, 0.5572838, 0.25619593...</td>\n",
       "      <td>Ca_trù_Việt_Nam</td>\n",
       "    </tr>\n",
       "    <tr>\n",
       "      <th>2369</th>\n",
       "      <td>[-391.4417, 120.96652, -23.554113, 15.093179, ...</td>\n",
       "      <td>[0.029303918, 0.3346015, 0.33794197, 0.4154328...</td>\n",
       "      <td>Ca_trù_Việt_Nam</td>\n",
       "    </tr>\n",
       "    <tr>\n",
       "      <th>2370</th>\n",
       "      <td>[-351.1455, 106.304115, -46.370983, 3.7210274,...</td>\n",
       "      <td>[0.010837414, 0.25788087, 0.4102423, 0.1821046...</td>\n",
       "      <td>Ca_trù_Việt_Nam</td>\n",
       "    </tr>\n",
       "    <tr>\n",
       "      <th>2371</th>\n",
       "      <td>[-268.01816, 68.44325, -49.713577, -5.724377, ...</td>\n",
       "      <td>[0.003981197, 0.4985997, 0.8358082, 0.0898003,...</td>\n",
       "      <td>Ca_trù_Việt_Nam</td>\n",
       "    </tr>\n",
       "  </tbody>\n",
       "</table>\n",
       "<p>3747 rows × 3 columns</p>\n",
       "</div>"
      ],
      "text/plain": [
       "                                                   mfcc  \\\n",
       "0     [-222.05853, 110.289116, -23.231728, 16.095695...   \n",
       "1     [-214.92708, 111.795845, -28.754154, 16.626308...   \n",
       "2     [-197.3586, 115.44524, -30.857426, 15.727198, ...   \n",
       "3     [-210.97722, 108.89349, -33.274464, 19.595434,...   \n",
       "4     [-221.5279, 112.32245, -26.952684, 16.40467, -...   \n",
       "...                                                 ...   \n",
       "2367  [-373.05878, 78.53274, -22.906567, 8.9476795, ...   \n",
       "2368  [-355.05508, 77.811584, -28.323334, 18.376535,...   \n",
       "2369  [-391.4417, 120.96652, -23.554113, 15.093179, ...   \n",
       "2370  [-351.1455, 106.304115, -46.370983, 3.7210274,...   \n",
       "2371  [-268.01816, 68.44325, -49.713577, -5.724377, ...   \n",
       "\n",
       "                                           spectro_gram             label  \n",
       "0     [0.2571352, 5.9769983, 2.4045036, 0.64448655, ...  Hát_Xẩm_Việt_Nam  \n",
       "1     [0.21239984, 4.6168737, 2.2179596, 1.008458, 3...  Hát_Xẩm_Việt_Nam  \n",
       "2     [0.2612718, 5.6639886, 2.87873, 1.2443874, 4.3...  Hát_Xẩm_Việt_Nam  \n",
       "3     [0.20555219, 4.6128535, 2.081246, 0.9585203, 3...  Hát_Xẩm_Việt_Nam  \n",
       "4     [0.21053046, 4.6197224, 1.9719607, 0.4045108, ...  Hát_Xẩm_Việt_Nam  \n",
       "...                                                 ...               ...  \n",
       "2367  [0.025007794, 0.4297731, 0.76855433, 0.2440167...   Ca_trù_Việt_Nam  \n",
       "2368  [0.020477992, 0.2928905, 0.5572838, 0.25619593...   Ca_trù_Việt_Nam  \n",
       "2369  [0.029303918, 0.3346015, 0.33794197, 0.4154328...   Ca_trù_Việt_Nam  \n",
       "2370  [0.010837414, 0.25788087, 0.4102423, 0.1821046...   Ca_trù_Việt_Nam  \n",
       "2371  [0.003981197, 0.4985997, 0.8358082, 0.0898003,...   Ca_trù_Việt_Nam  \n",
       "\n",
       "[3747 rows x 3 columns]"
      ]
     },
     "execution_count": 159,
     "metadata": {},
     "output_type": "execute_result"
    }
   ],
   "source": [
    "df = pd.concat([df1,df2])\n",
    "df"
   ]
  },
  {
   "cell_type": "code",
   "execution_count": 160,
   "metadata": {},
   "outputs": [
    {
     "data": {
      "text/html": [
       "<div>\n",
       "<style scoped>\n",
       "    .dataframe tbody tr th:only-of-type {\n",
       "        vertical-align: middle;\n",
       "    }\n",
       "\n",
       "    .dataframe tbody tr th {\n",
       "        vertical-align: top;\n",
       "    }\n",
       "\n",
       "    .dataframe thead th {\n",
       "        text-align: right;\n",
       "    }\n",
       "</style>\n",
       "<table border=\"1\" class=\"dataframe\">\n",
       "  <thead>\n",
       "    <tr style=\"text-align: right;\">\n",
       "      <th></th>\n",
       "      <th>mfcc</th>\n",
       "      <th>spectro_gram</th>\n",
       "      <th>label</th>\n",
       "    </tr>\n",
       "  </thead>\n",
       "  <tbody>\n",
       "    <tr>\n",
       "      <th>2258</th>\n",
       "      <td>[-130.3443, 124.79124, 5.833595, 16.570625, -5...</td>\n",
       "      <td>[14.183723, 22.32864, 82.35304, 94.94011, 39.1...</td>\n",
       "      <td>Ca_trù_Việt_Nam</td>\n",
       "    </tr>\n",
       "    <tr>\n",
       "      <th>226</th>\n",
       "      <td>[-243.78918, 86.502045, -14.757011, -6.3578324...</td>\n",
       "      <td>[0.6059542, 6.609742, 34.376923, 14.996381, 6....</td>\n",
       "      <td>Hát_Xẩm_Việt_Nam</td>\n",
       "    </tr>\n",
       "    <tr>\n",
       "      <th>208</th>\n",
       "      <td>[-238.5165, 109.72634, 26.94705, 11.454432, 2....</td>\n",
       "      <td>[7.2245703, 17.07369, 14.053282, 8.125374, 4.0...</td>\n",
       "      <td>Hát_Xẩm_Việt_Nam</td>\n",
       "    </tr>\n",
       "    <tr>\n",
       "      <th>1490</th>\n",
       "      <td>[-59.156002, 109.21302, 12.305205, 22.093441, ...</td>\n",
       "      <td>[100.7817, 143.65485, 123.22234, 72.54773, 93....</td>\n",
       "      <td>Ca_trù_Việt_Nam</td>\n",
       "    </tr>\n",
       "    <tr>\n",
       "      <th>1075</th>\n",
       "      <td>[-76.7087, 100.69273, 16.422506, 27.163195, 7....</td>\n",
       "      <td>[158.67978, 65.4503, 151.72247, 91.62137, 55.1...</td>\n",
       "      <td>Ca_trù_Việt_Nam</td>\n",
       "    </tr>\n",
       "    <tr>\n",
       "      <th>...</th>\n",
       "      <td>...</td>\n",
       "      <td>...</td>\n",
       "      <td>...</td>\n",
       "    </tr>\n",
       "    <tr>\n",
       "      <th>2341</th>\n",
       "      <td>[-150.90172, 116.5459, -10.123432, 17.95585, -...</td>\n",
       "      <td>[32.72621, 42.1976, 46.192215, 37.61857, 54.97...</td>\n",
       "      <td>Ca_trù_Việt_Nam</td>\n",
       "    </tr>\n",
       "    <tr>\n",
       "      <th>1796</th>\n",
       "      <td>[-143.3468, 81.25083, -20.620201, 40.213352, 2...</td>\n",
       "      <td>[6.263374, 43.40066, 114.128105, 43.635513, 24...</td>\n",
       "      <td>Ca_trù_Việt_Nam</td>\n",
       "    </tr>\n",
       "    <tr>\n",
       "      <th>2240</th>\n",
       "      <td>[-60.757324, 81.62754, -0.15680078, 32.66118, ...</td>\n",
       "      <td>[111.382614, 56.130703, 31.584946, 20.70759, 1...</td>\n",
       "      <td>Ca_trù_Việt_Nam</td>\n",
       "    </tr>\n",
       "    <tr>\n",
       "      <th>2010</th>\n",
       "      <td>[-292.08127, 77.82135, -15.129077, 29.93334, -...</td>\n",
       "      <td>[0.007398233, 3.0894575, 24.044794, 14.92266, ...</td>\n",
       "      <td>Ca_trù_Việt_Nam</td>\n",
       "    </tr>\n",
       "    <tr>\n",
       "      <th>1705</th>\n",
       "      <td>[-150.89679, 124.96926, -7.9834247, 30.94374, ...</td>\n",
       "      <td>[92.801155, 108.16824, 110.95095, 103.46931, 5...</td>\n",
       "      <td>Ca_trù_Việt_Nam</td>\n",
       "    </tr>\n",
       "  </tbody>\n",
       "</table>\n",
       "<p>2372 rows × 3 columns</p>\n",
       "</div>"
      ],
      "text/plain": [
       "                                                   mfcc  \\\n",
       "2258  [-130.3443, 124.79124, 5.833595, 16.570625, -5...   \n",
       "226   [-243.78918, 86.502045, -14.757011, -6.3578324...   \n",
       "208   [-238.5165, 109.72634, 26.94705, 11.454432, 2....   \n",
       "1490  [-59.156002, 109.21302, 12.305205, 22.093441, ...   \n",
       "1075  [-76.7087, 100.69273, 16.422506, 27.163195, 7....   \n",
       "...                                                 ...   \n",
       "2341  [-150.90172, 116.5459, -10.123432, 17.95585, -...   \n",
       "1796  [-143.3468, 81.25083, -20.620201, 40.213352, 2...   \n",
       "2240  [-60.757324, 81.62754, -0.15680078, 32.66118, ...   \n",
       "2010  [-292.08127, 77.82135, -15.129077, 29.93334, -...   \n",
       "1705  [-150.89679, 124.96926, -7.9834247, 30.94374, ...   \n",
       "\n",
       "                                           spectro_gram             label  \n",
       "2258  [14.183723, 22.32864, 82.35304, 94.94011, 39.1...   Ca_trù_Việt_Nam  \n",
       "226   [0.6059542, 6.609742, 34.376923, 14.996381, 6....  Hát_Xẩm_Việt_Nam  \n",
       "208   [7.2245703, 17.07369, 14.053282, 8.125374, 4.0...  Hát_Xẩm_Việt_Nam  \n",
       "1490  [100.7817, 143.65485, 123.22234, 72.54773, 93....   Ca_trù_Việt_Nam  \n",
       "1075  [158.67978, 65.4503, 151.72247, 91.62137, 55.1...   Ca_trù_Việt_Nam  \n",
       "...                                                 ...               ...  \n",
       "2341  [32.72621, 42.1976, 46.192215, 37.61857, 54.97...   Ca_trù_Việt_Nam  \n",
       "1796  [6.263374, 43.40066, 114.128105, 43.635513, 24...   Ca_trù_Việt_Nam  \n",
       "2240  [111.382614, 56.130703, 31.584946, 20.70759, 1...   Ca_trù_Việt_Nam  \n",
       "2010  [0.007398233, 3.0894575, 24.044794, 14.92266, ...   Ca_trù_Việt_Nam  \n",
       "1705  [92.801155, 108.16824, 110.95095, 103.46931, 5...   Ca_trù_Việt_Nam  \n",
       "\n",
       "[2372 rows x 3 columns]"
      ]
     },
     "execution_count": 160,
     "metadata": {},
     "output_type": "execute_result"
    }
   ],
   "source": [
    "df = pd.DataFrame(df.sample(frac=1).to_dict())\n",
    "labels = df['label'].to_list()\n",
    "df"
   ]
  },
  {
   "cell_type": "code",
   "execution_count": 161,
   "metadata": {},
   "outputs": [],
   "source": [
    "label_endcoder = LabelEncoder()\n",
    "encoder = label_endcoder.fit(labels)\n",
    "y = encoder.transform(labels)\n",
    "x = encoder.inverse_transform(lb)"
   ]
  },
  {
   "cell_type": "code",
   "execution_count": 162,
   "metadata": {},
   "outputs": [],
   "source": [
    "X_train, X_test, y_train, y_test = train_test_split(df, y, test_size=0.1)"
   ]
  },
  {
   "cell_type": "code",
   "execution_count": 163,
   "metadata": {},
   "outputs": [
    {
     "data": {
      "text/plain": [
       "0.8613445378151261"
      ]
     },
     "execution_count": 163,
     "metadata": {},
     "output_type": "execute_result"
    }
   ],
   "source": [
    "knn = KNeighborsClassifier()\n",
    "model = knn.fit(X_train['mfcc'].to_list(),y_train)\n",
    "lb = model.predict(X_test['mfcc'].to_list())\n",
    "model.score(X_test['mfcc'].to_list(),y_test)"
   ]
  },
  {
   "cell_type": "code",
   "execution_count": null,
   "metadata": {},
   "outputs": [],
   "source": []
  },
  {
   "cell_type": "code",
   "execution_count": null,
   "metadata": {},
   "outputs": [],
   "source": []
  }
 ],
 "metadata": {
  "kernelspec": {
   "display_name": "Python 3",
   "language": "python",
   "name": "python3"
  },
  "language_info": {
   "codemirror_mode": {
    "name": "ipython",
    "version": 3
   },
   "file_extension": ".py",
   "mimetype": "text/x-python",
   "name": "python",
   "nbconvert_exporter": "python",
   "pygments_lexer": "ipython3",
   "version": "3.8.5"
  }
 },
 "nbformat": 4,
 "nbformat_minor": 4
}
