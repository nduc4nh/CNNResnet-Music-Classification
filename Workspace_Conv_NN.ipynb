{
  "nbformat": 4,
  "nbformat_minor": 0,
  "metadata": {
    "colab": {
      "name": "Workspace Conv NN.ipynb",
      "provenance": [],
      "collapsed_sections": [
        "nVdDfURns5Wb",
        "1iHb6kPYY3_D",
        "I109mlTdf2x0",
        "ZvcRtPak_IDd"
      ],
      "include_colab_link": true
    },
    "kernelspec": {
      "display_name": "Python 3",
      "name": "python3"
    },
    "language_info": {
      "name": "python"
    },
    "accelerator": "GPU"
  },
  "cells": [
    {
      "cell_type": "markdown",
      "metadata": {
        "id": "view-in-github",
        "colab_type": "text"
      },
      "source": [
        "<a href=\"https://colab.research.google.com/github/nduc4nh/CNNResnet_Music_Classification/blob/main/Workspace_Conv_NN.ipynb\" target=\"_parent\"><img src=\"https://colab.research.google.com/assets/colab-badge.svg\" alt=\"Open In Colab\"/></a>"
      ]
    },
    {
      "cell_type": "code",
      "metadata": {
        "id": "PYVhG3PcAzYR",
        "colab": {
          "base_uri": "https://localhost:8080/"
        },
        "outputId": "504b5144-8a00-459f-a38b-022ee136031b"
      },
      "source": [
        "from google.colab import drive\n",
        "drive.mount('/content/drive')"
      ],
      "execution_count": null,
      "outputs": [
        {
          "output_type": "stream",
          "text": [
            "Drive already mounted at /content/drive; to attempt to forcibly remount, call drive.mount(\"/content/drive\", force_remount=True).\n"
          ],
          "name": "stdout"
        }
      ]
    },
    {
      "cell_type": "code",
      "metadata": {
        "colab": {
          "base_uri": "https://localhost:8080/"
        },
        "id": "O0bJZAlR4cL0",
        "outputId": "630ff961-fbc8-4960-b53d-7b86ce926333"
      },
      "source": [
        "!pip install unrar"
      ],
      "execution_count": null,
      "outputs": [
        {
          "output_type": "stream",
          "text": [
            "Collecting unrar\n",
            "  Downloading https://files.pythonhosted.org/packages/bb/0b/53130ccd483e3db8c8a460cb579bdb21b458d5494d67a261e1a5b273fbb9/unrar-0.4-py3-none-any.whl\n",
            "Installing collected packages: unrar\n",
            "Successfully installed unrar-0.4\n"
          ],
          "name": "stdout"
        }
      ]
    },
    {
      "cell_type": "code",
      "metadata": {
        "colab": {
          "base_uri": "https://localhost:8080/"
        },
        "id": "FpDc1d8D4zFu",
        "outputId": "aa088d47-7303-4e6b-928f-01b48a4573a5"
      },
      "source": [
        "!unrar x '/content/drive/MyDrive/Genre Data/sample_data.rar'"
      ],
      "execution_count": null,
      "outputs": [
        {
          "output_type": "stream",
          "text": [
            "\n",
            "UNRAR 5.50 freeware      Copyright (c) 1993-2017 Alexander Roshal\n",
            "\n",
            "\n",
            "Extracting from /content/drive/MyDrive/Genre Data/sample_data.rar\n",
            "\n",
            "Extracting  cheo                                                         \b\b\b\b  0%\b\b\b\b  1%\b\b\b\b  2%\b\b\b\b  3%\b\b\b\b  4%\b\b\b\b  5%\b\b\b\b  6%\b\b\b\b  7%\b\b\b\b  8%\b\b\b\b  9%\b\b\b\b 10%\b\b\b\b 11%\b\b\b\b 12%\b\b\b\b 13%\b\b\b\b 14%\b\b\b\b 15%\b\b\b\b 16%\b\b\b\b 17%\b\b\b\b 18%\b\b\b\b 19%\b\b\b\b 20%\b\b\b\b 21%\b\b\b\b 22%\b\b\b\b 23%\b\b\b\b 24%\b\b\b\b\b  OK \n",
            "Extracting  quanho                                                       \b\b\b\b 24%\b\b\b\b 25%\b\b\b\b 26%\b\b\b\b 27%\b\b\b\b 28%\b\b\b\b 29%\b\b\b\b 30%\b\b\b\b 31%\b\b\b\b 32%\b\b\b\b 33%\b\b\b\b 34%\b\b\b\b 35%\b\b\b\b 36%\b\b\b\b 37%\b\b\b\b 38%\b\b\b\b 39%\b\b\b\b 40%\b\b\b\b 41%\b\b\b\b 42%\b\b\b\b 43%\b\b\b\b 44%\b\b\b\b 45%\b\b\b\b 46%\b\b\b\b 47%\b\b\b\b 48%\b\b\b\b 49%\b\b\b\b 50%\b\b\b\b\b  OK \n",
            "Extracting  xam                                                          \b\b\b\b 50%\b\b\b\b 51%\b\b\b\b 52%\b\b\b\b 53%\b\b\b\b 54%\b\b\b\b 55%\b\b\b\b 56%\b\b\b\b 57%\b\b\b\b 58%\b\b\b\b 59%\b\b\b\b 60%\b\b\b\b 61%\b\b\b\b 62%\b\b\b\b 63%\b\b\b\b 64%\b\b\b\b 65%\b\b\b\b 66%\b\b\b\b 67%\b\b\b\b 68%\b\b\b\b 69%\b\b\b\b 70%\b\b\b\b 71%\b\b\b\b 72%\b\b\b\b 73%\b\b\b\b 74%\b\b\b\b 75%\b\b\b\b 76%\b\b\b\b 77%\b\b\b\b\b  OK \n",
            "Extracting  Catru                                                        \b\b\b\b 77%\b\b\b\b 78%\b\b\b\b 79%\b\b\b\b 80%\b\b\b\b 81%\b\b\b\b 82%\b\b\b\b 83%\b\b\b\b 84%\b\b\b\b 85%\b\b\b\b 86%\b\b\b\b 87%\b\b\b\b 88%\b\b\b\b 89%\b\b\b\b 90%\b\b\b\b 91%\b\b\b\b 92%\b\b\b\b 93%\b\b\b\b 94%\b\b\b\b 95%\b\b\b\b 96%\b\b\b\b 97%\b\b\b\b 98%\b\b\b\b 99%\b\b\b\b\b  OK \n",
            "All OK\n"
          ],
          "name": "stdout"
        }
      ]
    },
    {
      "cell_type": "code",
      "metadata": {
        "colab": {
          "base_uri": "https://localhost:8080/"
        },
        "id": "msqZYYk55atE",
        "outputId": "ae80637d-f9e5-4fd3-8f7b-3773f5de2673"
      },
      "source": [
        "!pip install pickle5\n",
        "import pickle5"
      ],
      "execution_count": null,
      "outputs": [
        {
          "output_type": "stream",
          "text": [
            "Requirement already satisfied: pickle5 in /usr/local/lib/python3.7/dist-packages (0.0.11)\n"
          ],
          "name": "stdout"
        }
      ]
    },
    {
      "cell_type": "code",
      "metadata": {
        "id": "5C4-8UE1mvIB"
      },
      "source": [
        "with open('/content/cheo','rb') as f:\n",
        "  cheo = pickle5.load(f)\n",
        "cheo = cheo.reshape([cheo.shape[0],cheo.shape[2],cheo.shape[1]])"
      ],
      "execution_count": null,
      "outputs": []
    },
    {
      "cell_type": "code",
      "metadata": {
        "id": "ReQlGU9OnJZs"
      },
      "source": [
        "with open('/content/quanho','rb') as f:\n",
        "  quanho = pickle5.load(f)\n",
        "quanho = quanho.reshape([quanho.shape[0],quanho.shape[2],quanho.shape[1]])"
      ],
      "execution_count": null,
      "outputs": []
    },
    {
      "cell_type": "code",
      "metadata": {
        "id": "jyrCBihgnJeR"
      },
      "source": [
        "with open('/content/xam','rb') as f:\n",
        "  xam = pickle5.load(f)\n",
        "xam = xam.reshape([xam.shape[0],xam.shape[2],xam.shape[1]])"
      ],
      "execution_count": null,
      "outputs": []
    },
    {
      "cell_type": "code",
      "metadata": {
        "id": "TlQRS7O_nJjF"
      },
      "source": [
        "with open('/content/Catru','rb') as f:\n",
        "  catru = pickle5.load(f)\n",
        "catru = catru.reshape([catru.shape[0],catru.shape[2],catru.shape[1]])"
      ],
      "execution_count": null,
      "outputs": []
    },
    {
      "cell_type": "code",
      "metadata": {
        "id": "LdO7Vyb_w8mN"
      },
      "source": [
        "import numpy as np"
      ],
      "execution_count": null,
      "outputs": []
    },
    {
      "cell_type": "code",
      "metadata": {
        "id": "tidtp2pNoqgx"
      },
      "source": [
        "y_cheo = np.ones((cheo.shape[0],))\n",
        "y_quanho = np.ones((quanho.shape[0],))*3/4\n",
        "y_xam = np.ones((xam.shape[0],))*1/2\n",
        "y_catru = np.ones((catru.shape[0],))*1/4\n"
      ],
      "execution_count": null,
      "outputs": []
    },
    {
      "cell_type": "code",
      "metadata": {
        "id": "95vs4F20w_1V"
      },
      "source": [
        "y_cheo1 = np.ones((cheo.shape[0],))\n",
        "y_quanho1 = np.ones((quanho.shape[0],))*2\n",
        "y_xam1 = np.ones((xam.shape[0],))*3\n",
        "y_catru1 = np.ones((catru.shape[0],))*4\n"
      ],
      "execution_count": null,
      "outputs": []
    },
    {
      "cell_type": "code",
      "metadata": {
        "id": "3kFIy5fwrkRY"
      },
      "source": [
        "X = np.concatenate([cheo,quanho,xam,catru])\n",
        "y = np.concatenate([y_cheo,y_quanho,y_xam,y_catru])\n",
        "y1 = np.concatenate([y_cheo1,y_quanho1,y_xam1,y_catru1])"
      ],
      "execution_count": null,
      "outputs": []
    },
    {
      "cell_type": "code",
      "metadata": {
        "id": "meKkRD6dsOuG"
      },
      "source": [
        "del cheo, quanho, xam, catru"
      ],
      "execution_count": null,
      "outputs": []
    },
    {
      "cell_type": "code",
      "metadata": {
        "id": "_yggIyb9gBl4"
      },
      "source": [
        "l = X.shape[0]\n",
        "train_l = l*1//4\n",
        "train_idx = [i for i in range(train_l)]\n",
        "valid_idx = [i for i in range(train_l,2*train_l)]\n",
        "test_idx = [i for i in range(2*train_l,l)]"
      ],
      "execution_count": null,
      "outputs": []
    },
    {
      "cell_type": "code",
      "metadata": {
        "id": "Q75nobU57sP-"
      },
      "source": [
        "tmp = [i for i in range(l)]\n",
        "np.random.shuffle(tmp)"
      ],
      "execution_count": null,
      "outputs": []
    },
    {
      "cell_type": "code",
      "metadata": {
        "id": "DXmAte8m8ZhL"
      },
      "source": [
        "X = X[tmp,:]\n",
        "y = y[tmp]\n",
        "y1 = y1[tmp]"
      ],
      "execution_count": null,
      "outputs": []
    },
    {
      "cell_type": "code",
      "metadata": {
        "id": "gB9t_riB-TEg"
      },
      "source": [
        "X_train = X[train_idx,:]\n",
        "X_valid = X[valid_idx,:]\n",
        "X_test = X[test_idx,:]"
      ],
      "execution_count": null,
      "outputs": []
    },
    {
      "cell_type": "code",
      "metadata": {
        "id": "Tknd5AbQ-uCG"
      },
      "source": [
        "y_train = y[train_idx]\n",
        "y_valid = y[valid_idx]\n",
        "y_test = y[test_idx]\n",
        "y_train1 = y1[train_idx]\n",
        "y_valid1 = y1[valid_idx]\n",
        "y_test1 = y1[test_idx]"
      ],
      "execution_count": null,
      "outputs": []
    },
    {
      "cell_type": "code",
      "metadata": {
        "id": "4a2JuRartJOD"
      },
      "source": [
        "def make_one_hot(x,num = 4):\n",
        "  return [0 if i != int(x) - 1 else 1 for i in range(num)]"
      ],
      "execution_count": null,
      "outputs": []
    },
    {
      "cell_type": "code",
      "metadata": {
        "id": "6EKzxLBAtzSk"
      },
      "source": [
        "y_train_1hot = np.array([make_one_hot(ele) for ele in y_train1])\n",
        "y_test_1hot = np.array([make_one_hot(ele) for ele in y_test1])\n",
        "y_valid_1hot = np.array([make_one_hot(ele) for ele in y_valid1])\n"
      ],
      "execution_count": null,
      "outputs": []
    },
    {
      "cell_type": "code",
      "metadata": {
        "colab": {
          "base_uri": "https://localhost:8080/"
        },
        "id": "M3SVzOfG0CEe",
        "outputId": "d34d7c30-1046-44fc-bc39-f19ebf144380"
      },
      "source": [
        "y_train"
      ],
      "execution_count": null,
      "outputs": [
        {
          "output_type": "execute_result",
          "data": {
            "text/plain": [
              "array([0.5 , 1.  , 0.5 , ..., 1.  , 0.5 , 0.25])"
            ]
          },
          "metadata": {
            "tags": []
          },
          "execution_count": 19
        }
      ]
    },
    {
      "cell_type": "code",
      "metadata": {
        "id": "AAcZ5dsk4vy9"
      },
      "source": [
        "del X,y"
      ],
      "execution_count": null,
      "outputs": []
    },
    {
      "cell_type": "code",
      "metadata": {
        "id": "9tF8UzJm30gw"
      },
      "source": [
        "del X_test"
      ],
      "execution_count": null,
      "outputs": []
    },
    {
      "cell_type": "markdown",
      "metadata": {
        "id": "nVdDfURns5Wb"
      },
      "source": [
        "##One-hot Model 11\n"
      ]
    },
    {
      "cell_type": "code",
      "metadata": {
        "id": "nILY_xtAZ27N"
      },
      "source": [
        "class Dropout(layers.Dropout):\n",
        "  def get_config(self):\n",
        "        config = super().get_config().copy()\n",
        "        config.update({\n",
        "            'rate': 0.5,\n",
        "        })\n",
        "        return config"
      ],
      "execution_count": null,
      "outputs": []
    },
    {
      "cell_type": "code",
      "metadata": {
        "id": "LmCxFpekuHHc"
      },
      "source": [
        "model_1hot = tf.keras.Sequential(\n",
        "      [\n",
        "        layers.Conv1D(64,3,3),layers.BatchNormalization(),layers.LeakyReLU(),\n",
        "        layers.Conv1D(64,3,1),layers.BatchNormalization(),layers.LeakyReLU(),\n",
        "        layers.MaxPool1D(3,3),\n",
        "        layers.Conv1D(64,3,1),layers.BatchNormalization(),layers.LeakyReLU(),\n",
        "        layers.MaxPool1D(3,3),\n",
        "        layers.Conv1D(128,3,1),layers.BatchNormalization(),layers.LeakyReLU(),\n",
        "        layers.MaxPool1D(3,3),\n",
        "        layers.Conv1D(128,3,1),layers.BatchNormalization(),layers.LeakyReLU(),\n",
        "        layers.MaxPool1D(3,3),\n",
        "        layers.Conv1D(128,3,1),layers.BatchNormalization(),layers.LeakyReLU(),\n",
        "        layers.MaxPool1D(3,3),\n",
        "        layers.Conv1D(256,3,1),layers.BatchNormalization(),layers.LeakyReLU(),\n",
        "        layers.MaxPool1D(3,3),\n",
        "        layers.Flatten(),\n",
        "        Dropout(0.5),\n",
        "        layers.Dense(4, activation='softmax'),\n",
        "      ]\n",
        ")\n",
        "\n"
      ],
      "execution_count": null,
      "outputs": []
    },
    {
      "cell_type": "code",
      "metadata": {
        "id": "Qa_jNjQ_uHHn"
      },
      "source": [
        "optimizer = keras.optimizers.Adam(learning_rate=0.01)\n",
        "model_1hot.compile(optimizer=optimizer,\n",
        "              loss='categorical_crossentropy',\n",
        "              metrics=['accuracy']\n",
        "              )"
      ],
      "execution_count": null,
      "outputs": []
    },
    {
      "cell_type": "code",
      "metadata": {
        "id": "y4CnyrXcuHHn"
      },
      "source": [
        "\n",
        "model_1hot.build(input_shape=(None,110250,1))\n"
      ],
      "execution_count": null,
      "outputs": []
    },
    {
      "cell_type": "code",
      "metadata": {
        "id": "MUhq7xl2Wvwo"
      },
      "source": [
        "model_1hot.save('model_h5_conv1d_11.h5')"
      ],
      "execution_count": null,
      "outputs": []
    },
    {
      "cell_type": "code",
      "metadata": {
        "colab": {
          "base_uri": "https://localhost:8080/"
        },
        "id": "EqRcinmZuHHn",
        "outputId": "2a5c46c1-4a48-41e7-8cc7-187d3be7001c"
      },
      "source": [
        "model_1hot.summary()"
      ],
      "execution_count": null,
      "outputs": [
        {
          "output_type": "stream",
          "text": [
            "Model: \"sequential\"\n",
            "_________________________________________________________________\n",
            "Layer (type)                 Output Shape              Param #   \n",
            "=================================================================\n",
            "conv1d (Conv1D)              (None, 36750, 64)         256       \n",
            "_________________________________________________________________\n",
            "batch_normalization (BatchNo (None, 36750, 64)         256       \n",
            "_________________________________________________________________\n",
            "leaky_re_lu (LeakyReLU)      (None, 36750, 64)         0         \n",
            "_________________________________________________________________\n",
            "conv1d_1 (Conv1D)            (None, 36748, 64)         12352     \n",
            "_________________________________________________________________\n",
            "batch_normalization_1 (Batch (None, 36748, 64)         256       \n",
            "_________________________________________________________________\n",
            "leaky_re_lu_1 (LeakyReLU)    (None, 36748, 64)         0         \n",
            "_________________________________________________________________\n",
            "max_pooling1d (MaxPooling1D) (None, 12249, 64)         0         \n",
            "_________________________________________________________________\n",
            "conv1d_2 (Conv1D)            (None, 12247, 64)         12352     \n",
            "_________________________________________________________________\n",
            "batch_normalization_2 (Batch (None, 12247, 64)         256       \n",
            "_________________________________________________________________\n",
            "leaky_re_lu_2 (LeakyReLU)    (None, 12247, 64)         0         \n",
            "_________________________________________________________________\n",
            "max_pooling1d_1 (MaxPooling1 (None, 4082, 64)          0         \n",
            "_________________________________________________________________\n",
            "conv1d_3 (Conv1D)            (None, 4080, 128)         24704     \n",
            "_________________________________________________________________\n",
            "batch_normalization_3 (Batch (None, 4080, 128)         512       \n",
            "_________________________________________________________________\n",
            "leaky_re_lu_3 (LeakyReLU)    (None, 4080, 128)         0         \n",
            "_________________________________________________________________\n",
            "max_pooling1d_2 (MaxPooling1 (None, 1360, 128)         0         \n",
            "_________________________________________________________________\n",
            "conv1d_4 (Conv1D)            (None, 1358, 128)         49280     \n",
            "_________________________________________________________________\n",
            "batch_normalization_4 (Batch (None, 1358, 128)         512       \n",
            "_________________________________________________________________\n",
            "leaky_re_lu_4 (LeakyReLU)    (None, 1358, 128)         0         \n",
            "_________________________________________________________________\n",
            "max_pooling1d_3 (MaxPooling1 (None, 452, 128)          0         \n",
            "_________________________________________________________________\n",
            "conv1d_5 (Conv1D)            (None, 450, 128)          49280     \n",
            "_________________________________________________________________\n",
            "batch_normalization_5 (Batch (None, 450, 128)          512       \n",
            "_________________________________________________________________\n",
            "leaky_re_lu_5 (LeakyReLU)    (None, 450, 128)          0         \n",
            "_________________________________________________________________\n",
            "max_pooling1d_4 (MaxPooling1 (None, 150, 128)          0         \n",
            "_________________________________________________________________\n",
            "conv1d_6 (Conv1D)            (None, 148, 256)          98560     \n",
            "_________________________________________________________________\n",
            "batch_normalization_6 (Batch (None, 148, 256)          1024      \n",
            "_________________________________________________________________\n",
            "leaky_re_lu_6 (LeakyReLU)    (None, 148, 256)          0         \n",
            "_________________________________________________________________\n",
            "max_pooling1d_5 (MaxPooling1 (None, 49, 256)           0         \n",
            "_________________________________________________________________\n",
            "flatten (Flatten)            (None, 12544)             0         \n",
            "_________________________________________________________________\n",
            "dropout (Dropout)            (None, 12544)             0         \n",
            "_________________________________________________________________\n",
            "dense (Dense)                (None, 4)                 50180     \n",
            "=================================================================\n",
            "Total params: 300,292\n",
            "Trainable params: 298,628\n",
            "Non-trainable params: 1,664\n",
            "_________________________________________________________________\n"
          ],
          "name": "stdout"
        }
      ]
    },
    {
      "cell_type": "code",
      "metadata": {
        "colab": {
          "base_uri": "https://localhost:8080/"
        },
        "id": "6NLA1qG-uHHn",
        "outputId": "3d726917-5642-4db5-b2db-b8b643ccd13d"
      },
      "source": [
        "model_1hot.fit(X_train,y_train_1hot,validation_data=(X_valid, y_valid_1hot),batch_size = 64,epochs = 50)"
      ],
      "execution_count": null,
      "outputs": [
        {
          "output_type": "stream",
          "text": [
            "/usr/local/lib/python3.7/dist-packages/tensorflow/python/data/ops/dataset_ops.py:3704: UserWarning: Even though the `tf.config.experimental_run_functions_eagerly` option is set, this option does not apply to tf.data functions. To force eager execution of tf.data functions, please use `tf.data.experimental.enable.debug_mode()`.\n",
            "  \"Even though the `tf.config.experimental_run_functions_eagerly` \"\n"
          ],
          "name": "stderr"
        },
        {
          "output_type": "stream",
          "text": [
            "Epoch 1/50\n",
            "42/42 [==============================] - 69s 882ms/step - loss: 7.9445 - accuracy: 0.2966 - val_loss: 68.4735 - val_accuracy: 0.2750\n",
            "Epoch 2/50\n",
            "42/42 [==============================] - 36s 866ms/step - loss: 3.7437 - accuracy: 0.3841 - val_loss: 22.8570 - val_accuracy: 0.2341\n",
            "Epoch 3/50\n",
            "42/42 [==============================] - 37s 889ms/step - loss: 3.0295 - accuracy: 0.4298 - val_loss: 4.9090 - val_accuracy: 0.2698\n",
            "Epoch 4/50\n",
            "42/42 [==============================] - 37s 896ms/step - loss: 2.0930 - accuracy: 0.5326 - val_loss: 2.9247 - val_accuracy: 0.2635\n",
            "Epoch 5/50\n",
            "42/42 [==============================] - 37s 887ms/step - loss: 1.5306 - accuracy: 0.5932 - val_loss: 6.5185 - val_accuracy: 0.2560\n",
            "Epoch 6/50\n",
            "42/42 [==============================] - 40s 967ms/step - loss: 1.1261 - accuracy: 0.6729 - val_loss: 13.4346 - val_accuracy: 0.2557\n",
            "Epoch 7/50\n",
            "42/42 [==============================] - 37s 891ms/step - loss: 0.8724 - accuracy: 0.7097 - val_loss: 6.9611 - val_accuracy: 0.2650\n",
            "Epoch 8/50\n",
            "42/42 [==============================] - 37s 892ms/step - loss: 0.7228 - accuracy: 0.7495 - val_loss: 1.8613 - val_accuracy: 0.3915\n",
            "Epoch 9/50\n",
            "42/42 [==============================] - 40s 966ms/step - loss: 0.7342 - accuracy: 0.7711 - val_loss: 1.3350 - val_accuracy: 0.5917\n",
            "Epoch 10/50\n",
            "42/42 [==============================] - 40s 966ms/step - loss: 0.7212 - accuracy: 0.7544 - val_loss: 2.7946 - val_accuracy: 0.4116\n",
            "Epoch 11/50\n",
            "42/42 [==============================] - 37s 893ms/step - loss: 0.5980 - accuracy: 0.7890 - val_loss: 1.8529 - val_accuracy: 0.5136\n",
            "Epoch 12/50\n",
            "42/42 [==============================] - 37s 892ms/step - loss: 0.5530 - accuracy: 0.8080 - val_loss: 1.1320 - val_accuracy: 0.6204\n",
            "Epoch 13/50\n",
            "42/42 [==============================] - 37s 891ms/step - loss: 0.5474 - accuracy: 0.8072 - val_loss: 1.0606 - val_accuracy: 0.6457\n",
            "Epoch 14/50\n",
            "42/42 [==============================] - 37s 893ms/step - loss: 0.6374 - accuracy: 0.7882 - val_loss: 2.3338 - val_accuracy: 0.5553\n",
            "Epoch 15/50\n",
            "42/42 [==============================] - 40s 966ms/step - loss: 0.5640 - accuracy: 0.8083 - val_loss: 2.3313 - val_accuracy: 0.5862\n",
            "Epoch 16/50\n",
            "42/42 [==============================] - 37s 892ms/step - loss: 0.4418 - accuracy: 0.8478 - val_loss: 1.6293 - val_accuracy: 0.6174\n",
            "Epoch 17/50\n",
            "42/42 [==============================] - 37s 892ms/step - loss: 0.4467 - accuracy: 0.8459 - val_loss: 2.1292 - val_accuracy: 0.4764\n",
            "Epoch 18/50\n",
            "42/42 [==============================] - 40s 967ms/step - loss: 0.4335 - accuracy: 0.8467 - val_loss: 0.8194 - val_accuracy: 0.7436\n",
            "Epoch 19/50\n",
            "42/42 [==============================] - 40s 967ms/step - loss: 0.4269 - accuracy: 0.8478 - val_loss: 2.9457 - val_accuracy: 0.5207\n",
            "Epoch 20/50\n",
            "42/42 [==============================] - 37s 892ms/step - loss: 0.4740 - accuracy: 0.8478 - val_loss: 7.2853 - val_accuracy: 0.3521\n",
            "Epoch 21/50\n",
            "42/42 [==============================] - 40s 968ms/step - loss: 0.4319 - accuracy: 0.8482 - val_loss: 7.5488 - val_accuracy: 0.3815\n",
            "Epoch 22/50\n",
            "42/42 [==============================] - 37s 892ms/step - loss: 0.3683 - accuracy: 0.8686 - val_loss: 1.5051 - val_accuracy: 0.7093\n",
            "Epoch 23/50\n",
            "42/42 [==============================] - 40s 968ms/step - loss: 0.3590 - accuracy: 0.8664 - val_loss: 5.4217 - val_accuracy: 0.3986\n",
            "Epoch 24/50\n",
            "42/42 [==============================] - 37s 893ms/step - loss: 0.3324 - accuracy: 0.8776 - val_loss: 3.3672 - val_accuracy: 0.5757\n",
            "Epoch 25/50\n",
            "42/42 [==============================] - 37s 892ms/step - loss: 0.3902 - accuracy: 0.8593 - val_loss: 0.8809 - val_accuracy: 0.7097\n",
            "Epoch 26/50\n",
            "42/42 [==============================] - 40s 965ms/step - loss: 0.3833 - accuracy: 0.8630 - val_loss: 4.8934 - val_accuracy: 0.5255\n",
            "Epoch 27/50\n",
            "42/42 [==============================] - 37s 894ms/step - loss: 0.3886 - accuracy: 0.8612 - val_loss: 5.6083 - val_accuracy: 0.4183\n",
            "Epoch 28/50\n",
            "42/42 [==============================] - 40s 965ms/step - loss: 0.2960 - accuracy: 0.8954 - val_loss: 4.8774 - val_accuracy: 0.4872\n",
            "Epoch 29/50\n",
            "42/42 [==============================] - 40s 968ms/step - loss: 0.3486 - accuracy: 0.8802 - val_loss: 1.5879 - val_accuracy: 0.6833\n",
            "Epoch 30/50\n",
            "42/42 [==============================] - 37s 895ms/step - loss: 0.3424 - accuracy: 0.8906 - val_loss: 3.0336 - val_accuracy: 0.5564\n",
            "Epoch 31/50\n",
            "42/42 [==============================] - 37s 894ms/step - loss: 0.3475 - accuracy: 0.8768 - val_loss: 1.8634 - val_accuracy: 0.7052\n",
            "Epoch 32/50\n",
            "42/42 [==============================] - 37s 894ms/step - loss: 0.2558 - accuracy: 0.9081 - val_loss: 1.3559 - val_accuracy: 0.7473\n",
            "Epoch 33/50\n",
            "42/42 [==============================] - 37s 892ms/step - loss: 0.2700 - accuracy: 0.9014 - val_loss: 1.7360 - val_accuracy: 0.6904\n",
            "Epoch 34/50\n",
            "42/42 [==============================] - 40s 967ms/step - loss: 0.2732 - accuracy: 0.9032 - val_loss: 3.2252 - val_accuracy: 0.6498\n",
            "Epoch 35/50\n",
            "42/42 [==============================] - 37s 893ms/step - loss: 0.3127 - accuracy: 0.8977 - val_loss: 2.3840 - val_accuracy: 0.7175\n",
            "Epoch 36/50\n",
            "42/42 [==============================] - 40s 967ms/step - loss: 0.3138 - accuracy: 0.8917 - val_loss: 1.4840 - val_accuracy: 0.6483\n",
            "Epoch 37/50\n",
            "42/42 [==============================] - 37s 894ms/step - loss: 0.2406 - accuracy: 0.9144 - val_loss: 0.9495 - val_accuracy: 0.7696\n",
            "Epoch 38/50\n",
            "42/42 [==============================] - 37s 893ms/step - loss: 0.2481 - accuracy: 0.9122 - val_loss: 1.4419 - val_accuracy: 0.7480\n",
            "Epoch 39/50\n",
            "42/42 [==============================] - 40s 967ms/step - loss: 0.2441 - accuracy: 0.9140 - val_loss: 3.7256 - val_accuracy: 0.4901\n",
            "Epoch 40/50\n",
            "42/42 [==============================] - 37s 895ms/step - loss: 0.3136 - accuracy: 0.8898 - val_loss: 11.6067 - val_accuracy: 0.3882\n",
            "Epoch 41/50\n",
            "42/42 [==============================] - 40s 967ms/step - loss: 0.2385 - accuracy: 0.9155 - val_loss: 5.4293 - val_accuracy: 0.4738\n",
            "Epoch 42/50\n",
            "42/42 [==============================] - 37s 896ms/step - loss: 0.2308 - accuracy: 0.9211 - val_loss: 11.2229 - val_accuracy: 0.3617\n",
            "Epoch 43/50\n",
            "42/42 [==============================] - 40s 967ms/step - loss: 0.2724 - accuracy: 0.9014 - val_loss: 3.0689 - val_accuracy: 0.5560\n",
            "Epoch 44/50\n",
            "42/42 [==============================] - 37s 895ms/step - loss: 0.2602 - accuracy: 0.9189 - val_loss: 11.1041 - val_accuracy: 0.3625\n",
            "Epoch 45/50\n",
            "42/42 [==============================] - 37s 891ms/step - loss: 0.2699 - accuracy: 0.9096 - val_loss: 10.0360 - val_accuracy: 0.4287\n",
            "Epoch 46/50\n",
            "42/42 [==============================] - 40s 966ms/step - loss: 0.1939 - accuracy: 0.9285 - val_loss: 1.1961 - val_accuracy: 0.7261\n",
            "Epoch 47/50\n",
            "42/42 [==============================] - 37s 895ms/step - loss: 0.1600 - accuracy: 0.9371 - val_loss: 3.6766 - val_accuracy: 0.5888\n",
            "Epoch 48/50\n",
            "42/42 [==============================] - 40s 968ms/step - loss: 0.1906 - accuracy: 0.9271 - val_loss: 1.2544 - val_accuracy: 0.7734\n",
            "Epoch 49/50\n",
            "42/42 [==============================] - 37s 895ms/step - loss: 0.2486 - accuracy: 0.9148 - val_loss: 1.9260 - val_accuracy: 0.6974\n",
            "Epoch 50/50\n",
            "42/42 [==============================] - 40s 966ms/step - loss: 0.2215 - accuracy: 0.9282 - val_loss: 1.2238 - val_accuracy: 0.7246\n"
          ],
          "name": "stdout"
        },
        {
          "output_type": "execute_result",
          "data": {
            "text/plain": [
              "<tensorflow.python.keras.callbacks.History at 0x7f726c282710>"
            ]
          },
          "metadata": {
            "tags": []
          },
          "execution_count": 30
        }
      ]
    },
    {
      "cell_type": "code",
      "metadata": {
        "id": "KwecLxJVtAhz"
      },
      "source": [
        "mod"
      ],
      "execution_count": null,
      "outputs": []
    },
    {
      "cell_type": "code",
      "metadata": {
        "id": "FBu0xiaotApR"
      },
      "source": [
        ""
      ],
      "execution_count": null,
      "outputs": []
    },
    {
      "cell_type": "code",
      "metadata": {
        "id": "b925ofpk3Q7w"
      },
      "source": [
        "model = tf.keras.Sequential(\n",
        "      [\n",
        "        layers.Conv1D(64,3,3),layers.BatchNormalization(),layers.LeakyReLU(),\n",
        "        layers.Conv1D(64,3,1),layers.BatchNormalization(),layers.LeakyReLU(),\n",
        "        layers.MaxPool1D(3,3),\n",
        "        layers.Conv1D(64,3,1),layers.BatchNormalization(),layers.LeakyReLU(),\n",
        "        layers.MaxPool1D(3,3),\n",
        "        layers.Conv1D(128,3,1),layers.BatchNormalization(),layers.LeakyReLU(),\n",
        "        layers.MaxPool1D(3,3),\n",
        "        layers.Conv1D(128,3,1),layers.BatchNormalization(),layers.LeakyReLU(),\n",
        "        layers.MaxPool1D(3,3),\n",
        "        layers.Conv1D(128,3,1),layers.BatchNormalization(),layers.LeakyReLU(),\n",
        "        layers.MaxPool1D(3,3),\n",
        "        layers.Conv1D(256,3,1),layers.BatchNormalization(),layers.LeakyReLU(),\n",
        "        layers.MaxPool1D(3,3),\n",
        "        layers.Flatten(),\n",
        "        keras.layers.Dropout(0.5),\n",
        "        layers.Dense(4, activation='softmax')\n",
        "      ]\n",
        ")"
      ],
      "execution_count": null,
      "outputs": []
    },
    {
      "cell_type": "code",
      "metadata": {
        "id": "0UbOmO-t3Re1"
      },
      "source": [
        "optimizer = keras.optimizers.Adam(learning_rate=0.0000001)\n",
        "model.compile(optimizer=optimizer,\n",
        "              loss='sparse_categorical_crossentropy',\n",
        "              metrics=['accuracy']\n",
        "              )"
      ],
      "execution_count": null,
      "outputs": []
    },
    {
      "cell_type": "code",
      "metadata": {
        "id": "QL1Pcxh_3TgJ"
      },
      "source": [
        "model.build(input_shape=(None,110250,1))"
      ],
      "execution_count": null,
      "outputs": []
    },
    {
      "cell_type": "code",
      "metadata": {
        "id": "wgaKVEOU3Uh4"
      },
      "source": [
        "model.summary()"
      ],
      "execution_count": null,
      "outputs": []
    },
    {
      "cell_type": "code",
      "metadata": {
        "colab": {
          "base_uri": "https://localhost:8080/",
          "height": 341
        },
        "id": "YZOK3hnT3W_c",
        "outputId": "0b3fb1be-33de-41f3-b3b2-c03503c25756"
      },
      "source": [
        "model.fit(X_train,y_train1,validation_data=(X_valid, y_valid),batch_size = 64,epochs = 100)"
      ],
      "execution_count": null,
      "outputs": [
        {
          "output_type": "stream",
          "text": [
            "Epoch 1/100\n",
            "20/42 [=============>................] - ETA: 21s - loss: nan - accuracy: 0.0086"
          ],
          "name": "stdout"
        },
        {
          "output_type": "error",
          "ename": "KeyboardInterrupt",
          "evalue": "ignored",
          "traceback": [
            "\u001b[0;31m---------------------------------------------------------------------------\u001b[0m",
            "\u001b[0;31mKeyboardInterrupt\u001b[0m                         Traceback (most recent call last)",
            "\u001b[0;32m<ipython-input-53-ebb426c54230>\u001b[0m in \u001b[0;36m<module>\u001b[0;34m()\u001b[0m\n\u001b[0;32m----> 1\u001b[0;31m \u001b[0mmodel\u001b[0m\u001b[0;34m.\u001b[0m\u001b[0mfit\u001b[0m\u001b[0;34m(\u001b[0m\u001b[0mX_train\u001b[0m\u001b[0;34m,\u001b[0m\u001b[0my_train1\u001b[0m\u001b[0;34m,\u001b[0m\u001b[0mvalidation_data\u001b[0m\u001b[0;34m=\u001b[0m\u001b[0;34m(\u001b[0m\u001b[0mX_valid\u001b[0m\u001b[0;34m,\u001b[0m \u001b[0my_valid\u001b[0m\u001b[0;34m)\u001b[0m\u001b[0;34m,\u001b[0m\u001b[0mbatch_size\u001b[0m \u001b[0;34m=\u001b[0m \u001b[0;36m64\u001b[0m\u001b[0;34m,\u001b[0m\u001b[0mepochs\u001b[0m \u001b[0;34m=\u001b[0m \u001b[0;36m100\u001b[0m\u001b[0;34m)\u001b[0m\u001b[0;34m\u001b[0m\u001b[0;34m\u001b[0m\u001b[0m\n\u001b[0m",
            "\u001b[0;32m/usr/local/lib/python3.7/dist-packages/tensorflow/python/keras/engine/training.py\u001b[0m in \u001b[0;36mfit\u001b[0;34m(self, x, y, batch_size, epochs, verbose, callbacks, validation_split, validation_data, shuffle, class_weight, sample_weight, initial_epoch, steps_per_epoch, validation_steps, validation_batch_size, validation_freq, max_queue_size, workers, use_multiprocessing)\u001b[0m\n\u001b[1;32m   1181\u001b[0m                 _r=1):\n\u001b[1;32m   1182\u001b[0m               \u001b[0mcallbacks\u001b[0m\u001b[0;34m.\u001b[0m\u001b[0mon_train_batch_begin\u001b[0m\u001b[0;34m(\u001b[0m\u001b[0mstep\u001b[0m\u001b[0;34m)\u001b[0m\u001b[0;34m\u001b[0m\u001b[0;34m\u001b[0m\u001b[0m\n\u001b[0;32m-> 1183\u001b[0;31m               \u001b[0mtmp_logs\u001b[0m \u001b[0;34m=\u001b[0m \u001b[0mself\u001b[0m\u001b[0;34m.\u001b[0m\u001b[0mtrain_function\u001b[0m\u001b[0;34m(\u001b[0m\u001b[0miterator\u001b[0m\u001b[0;34m)\u001b[0m\u001b[0;34m\u001b[0m\u001b[0;34m\u001b[0m\u001b[0m\n\u001b[0m\u001b[1;32m   1184\u001b[0m               \u001b[0;32mif\u001b[0m \u001b[0mdata_handler\u001b[0m\u001b[0;34m.\u001b[0m\u001b[0mshould_sync\u001b[0m\u001b[0;34m:\u001b[0m\u001b[0;34m\u001b[0m\u001b[0;34m\u001b[0m\u001b[0m\n\u001b[1;32m   1185\u001b[0m                 \u001b[0mcontext\u001b[0m\u001b[0;34m.\u001b[0m\u001b[0masync_wait\u001b[0m\u001b[0;34m(\u001b[0m\u001b[0;34m)\u001b[0m\u001b[0;34m\u001b[0m\u001b[0;34m\u001b[0m\u001b[0m\n",
            "\u001b[0;32m/usr/local/lib/python3.7/dist-packages/tensorflow/python/eager/def_function.py\u001b[0m in \u001b[0;36m__call__\u001b[0;34m(self, *args, **kwds)\u001b[0m\n\u001b[1;32m    887\u001b[0m \u001b[0;34m\u001b[0m\u001b[0m\n\u001b[1;32m    888\u001b[0m       \u001b[0;32mwith\u001b[0m \u001b[0mOptionalXlaContext\u001b[0m\u001b[0;34m(\u001b[0m\u001b[0mself\u001b[0m\u001b[0;34m.\u001b[0m\u001b[0m_jit_compile\u001b[0m\u001b[0;34m)\u001b[0m\u001b[0;34m:\u001b[0m\u001b[0;34m\u001b[0m\u001b[0;34m\u001b[0m\u001b[0m\n\u001b[0;32m--> 889\u001b[0;31m         \u001b[0mresult\u001b[0m \u001b[0;34m=\u001b[0m \u001b[0mself\u001b[0m\u001b[0;34m.\u001b[0m\u001b[0m_call\u001b[0m\u001b[0;34m(\u001b[0m\u001b[0;34m*\u001b[0m\u001b[0margs\u001b[0m\u001b[0;34m,\u001b[0m \u001b[0;34m**\u001b[0m\u001b[0mkwds\u001b[0m\u001b[0;34m)\u001b[0m\u001b[0;34m\u001b[0m\u001b[0;34m\u001b[0m\u001b[0m\n\u001b[0m\u001b[1;32m    890\u001b[0m \u001b[0;34m\u001b[0m\u001b[0m\n\u001b[1;32m    891\u001b[0m       \u001b[0mnew_tracing_count\u001b[0m \u001b[0;34m=\u001b[0m \u001b[0mself\u001b[0m\u001b[0;34m.\u001b[0m\u001b[0mexperimental_get_tracing_count\u001b[0m\u001b[0;34m(\u001b[0m\u001b[0;34m)\u001b[0m\u001b[0;34m\u001b[0m\u001b[0;34m\u001b[0m\u001b[0m\n",
            "\u001b[0;32m/usr/local/lib/python3.7/dist-packages/tensorflow/python/eager/def_function.py\u001b[0m in \u001b[0;36m_call\u001b[0;34m(self, *args, **kwds)\u001b[0m\n\u001b[1;32m    915\u001b[0m       \u001b[0;31m# In this case we have created variables on the first call, so we run the\u001b[0m\u001b[0;34m\u001b[0m\u001b[0;34m\u001b[0m\u001b[0;34m\u001b[0m\u001b[0m\n\u001b[1;32m    916\u001b[0m       \u001b[0;31m# defunned version which is guaranteed to never create variables.\u001b[0m\u001b[0;34m\u001b[0m\u001b[0;34m\u001b[0m\u001b[0;34m\u001b[0m\u001b[0m\n\u001b[0;32m--> 917\u001b[0;31m       \u001b[0;32mreturn\u001b[0m \u001b[0mself\u001b[0m\u001b[0;34m.\u001b[0m\u001b[0m_stateless_fn\u001b[0m\u001b[0;34m(\u001b[0m\u001b[0;34m*\u001b[0m\u001b[0margs\u001b[0m\u001b[0;34m,\u001b[0m \u001b[0;34m**\u001b[0m\u001b[0mkwds\u001b[0m\u001b[0;34m)\u001b[0m  \u001b[0;31m# pylint: disable=not-callable\u001b[0m\u001b[0;34m\u001b[0m\u001b[0;34m\u001b[0m\u001b[0m\n\u001b[0m\u001b[1;32m    918\u001b[0m     \u001b[0;32melif\u001b[0m \u001b[0mself\u001b[0m\u001b[0;34m.\u001b[0m\u001b[0m_stateful_fn\u001b[0m \u001b[0;32mis\u001b[0m \u001b[0;32mnot\u001b[0m \u001b[0;32mNone\u001b[0m\u001b[0;34m:\u001b[0m\u001b[0;34m\u001b[0m\u001b[0;34m\u001b[0m\u001b[0m\n\u001b[1;32m    919\u001b[0m       \u001b[0;31m# Release the lock early so that multiple threads can perform the call\u001b[0m\u001b[0;34m\u001b[0m\u001b[0;34m\u001b[0m\u001b[0;34m\u001b[0m\u001b[0m\n",
            "\u001b[0;32m/usr/local/lib/python3.7/dist-packages/tensorflow/python/eager/function.py\u001b[0m in \u001b[0;36m__call__\u001b[0;34m(self, *args, **kwargs)\u001b[0m\n\u001b[1;32m   3022\u001b[0m        filtered_flat_args) = self._maybe_define_function(args, kwargs)\n\u001b[1;32m   3023\u001b[0m     return graph_function._call_flat(\n\u001b[0;32m-> 3024\u001b[0;31m         filtered_flat_args, captured_inputs=graph_function.captured_inputs)  # pylint: disable=protected-access\n\u001b[0m\u001b[1;32m   3025\u001b[0m \u001b[0;34m\u001b[0m\u001b[0m\n\u001b[1;32m   3026\u001b[0m   \u001b[0;34m@\u001b[0m\u001b[0mproperty\u001b[0m\u001b[0;34m\u001b[0m\u001b[0;34m\u001b[0m\u001b[0m\n",
            "\u001b[0;32m/usr/local/lib/python3.7/dist-packages/tensorflow/python/eager/function.py\u001b[0m in \u001b[0;36m_call_flat\u001b[0;34m(self, args, captured_inputs, cancellation_manager)\u001b[0m\n\u001b[1;32m   1959\u001b[0m       \u001b[0;31m# No tape is watching; skip to running the function.\u001b[0m\u001b[0;34m\u001b[0m\u001b[0;34m\u001b[0m\u001b[0;34m\u001b[0m\u001b[0m\n\u001b[1;32m   1960\u001b[0m       return self._build_call_outputs(self._inference_function.call(\n\u001b[0;32m-> 1961\u001b[0;31m           ctx, args, cancellation_manager=cancellation_manager))\n\u001b[0m\u001b[1;32m   1962\u001b[0m     forward_backward = self._select_forward_and_backward_functions(\n\u001b[1;32m   1963\u001b[0m         \u001b[0margs\u001b[0m\u001b[0;34m,\u001b[0m\u001b[0;34m\u001b[0m\u001b[0;34m\u001b[0m\u001b[0m\n",
            "\u001b[0;32m/usr/local/lib/python3.7/dist-packages/tensorflow/python/eager/function.py\u001b[0m in \u001b[0;36mcall\u001b[0;34m(self, ctx, args, cancellation_manager)\u001b[0m\n\u001b[1;32m    594\u001b[0m               \u001b[0minputs\u001b[0m\u001b[0;34m=\u001b[0m\u001b[0margs\u001b[0m\u001b[0;34m,\u001b[0m\u001b[0;34m\u001b[0m\u001b[0;34m\u001b[0m\u001b[0m\n\u001b[1;32m    595\u001b[0m               \u001b[0mattrs\u001b[0m\u001b[0;34m=\u001b[0m\u001b[0mattrs\u001b[0m\u001b[0;34m,\u001b[0m\u001b[0;34m\u001b[0m\u001b[0;34m\u001b[0m\u001b[0m\n\u001b[0;32m--> 596\u001b[0;31m               ctx=ctx)\n\u001b[0m\u001b[1;32m    597\u001b[0m         \u001b[0;32melse\u001b[0m\u001b[0;34m:\u001b[0m\u001b[0;34m\u001b[0m\u001b[0;34m\u001b[0m\u001b[0m\n\u001b[1;32m    598\u001b[0m           outputs = execute.execute_with_cancellation(\n",
            "\u001b[0;32m/usr/local/lib/python3.7/dist-packages/tensorflow/python/eager/execute.py\u001b[0m in \u001b[0;36mquick_execute\u001b[0;34m(op_name, num_outputs, inputs, attrs, ctx, name)\u001b[0m\n\u001b[1;32m     58\u001b[0m     \u001b[0mctx\u001b[0m\u001b[0;34m.\u001b[0m\u001b[0mensure_initialized\u001b[0m\u001b[0;34m(\u001b[0m\u001b[0;34m)\u001b[0m\u001b[0;34m\u001b[0m\u001b[0;34m\u001b[0m\u001b[0m\n\u001b[1;32m     59\u001b[0m     tensors = pywrap_tfe.TFE_Py_Execute(ctx._handle, device_name, op_name,\n\u001b[0;32m---> 60\u001b[0;31m                                         inputs, attrs, num_outputs)\n\u001b[0m\u001b[1;32m     61\u001b[0m   \u001b[0;32mexcept\u001b[0m \u001b[0mcore\u001b[0m\u001b[0;34m.\u001b[0m\u001b[0m_NotOkStatusException\u001b[0m \u001b[0;32mas\u001b[0m \u001b[0me\u001b[0m\u001b[0;34m:\u001b[0m\u001b[0;34m\u001b[0m\u001b[0;34m\u001b[0m\u001b[0m\n\u001b[1;32m     62\u001b[0m     \u001b[0;32mif\u001b[0m \u001b[0mname\u001b[0m \u001b[0;32mis\u001b[0m \u001b[0;32mnot\u001b[0m \u001b[0;32mNone\u001b[0m\u001b[0;34m:\u001b[0m\u001b[0;34m\u001b[0m\u001b[0;34m\u001b[0m\u001b[0m\n",
            "\u001b[0;31mKeyboardInterrupt\u001b[0m: "
          ]
        }
      ]
    },
    {
      "cell_type": "code",
      "metadata": {
        "colab": {
          "base_uri": "https://localhost:8080/"
        },
        "id": "v7TrCUblVdJM",
        "outputId": "d20192b3-aa52-42ba-9bf8-2c6c952c8f01"
      },
      "source": [
        "X_train.mean()"
      ],
      "execution_count": null,
      "outputs": [
        {
          "output_type": "execute_result",
          "data": {
            "text/plain": [
              "-3.5162725e-06"
            ]
          },
          "metadata": {
            "tags": []
          },
          "execution_count": 62
        }
      ]
    },
    {
      "cell_type": "code",
      "metadata": {
        "id": "fLZFAya6ILkG"
      },
      "source": [
        "model.fit()"
      ],
      "execution_count": null,
      "outputs": []
    },
    {
      "cell_type": "code",
      "metadata": {
        "id": "Q82Cmr9B4a3V"
      },
      "source": [
        "model.evaluate(X_test,y_test,verbose=2)"
      ],
      "execution_count": null,
      "outputs": []
    },
    {
      "cell_type": "code",
      "metadata": {
        "id": "DR4p3tgy3ZKz"
      },
      "source": [
        "#model.save(\"/content/drive/MyDrive/Genre Data/model_h5_conv1d.h5\")"
      ],
      "execution_count": null,
      "outputs": []
    },
    {
      "cell_type": "code",
      "metadata": {
        "colab": {
          "base_uri": "https://localhost:8080/"
        },
        "id": "LwEn8hDz5aLp",
        "outputId": "0ad130c0-5a34-4f38-c0c1-c67f8b581584"
      },
      "source": [
        "#model.predict(X_train)[0]"
      ],
      "execution_count": null,
      "outputs": [
        {
          "output_type": "execute_result",
          "data": {
            "text/plain": [
              "array([2.0142358e-11, 3.8968664e-02, 2.4016083e-05, 9.5911556e-01,\n",
              "       1.8917950e-03, 1.7479967e-11, 1.9667205e-11, 2.3937716e-11,\n",
              "       2.3298967e-11, 2.5884420e-11], dtype=float32)"
            ]
          },
          "metadata": {
            "tags": []
          },
          "execution_count": 29
        }
      ]
    },
    {
      "cell_type": "markdown",
      "metadata": {
        "id": "1iHb6kPYY3_D"
      },
      "source": [
        "## MODEL 8"
      ]
    },
    {
      "cell_type": "code",
      "metadata": {
        "id": "jQnMU4tBdphv"
      },
      "source": [
        ""
      ],
      "execution_count": null,
      "outputs": []
    },
    {
      "cell_type": "code",
      "metadata": {
        "id": "niMIqhgMyHNj"
      },
      "source": [
        "model8 = tf.keras.Sequential(\n",
        "      [\n",
        "        layers.Conv1D(1,256,256),layers.BatchNormalization(),layers.LeakyReLU(),\n",
        "        layers.Conv1D(32,8,2),layers.BatchNormalization(),layers.LeakyReLU(),\n",
        "        layers.Conv1D(32,8,1),layers.BatchNormalization(),layers.LeakyReLU(),\n",
        "        layers.MaxPool1D(4,4),\n",
        "        layers.Conv1D(32,8,1),layers.BatchNormalization(),layers.LeakyReLU(),\n",
        "        layers.MaxPool1D(4,4),\n",
        "        layers.Conv1D(32,8,1),layers.BatchNormalization(),layers.LeakyReLU(),\n",
        "        layers.MaxPool1D(4,4),\n",
        "        layers.LSTM(units=64),\n",
        "        layers.Flatten(),\n",
        "        Dropout(0.5),\n",
        "        layers.Dense(4, activation='softmax')\n",
        "      ]\n",
        ")"
      ],
      "execution_count": null,
      "outputs": []
    },
    {
      "cell_type": "code",
      "metadata": {
        "id": "D5zye8xWZLhX"
      },
      "source": [
        "optimizer = keras.optimizers.Adam(learning_rate=0.0001)\n",
        "model8.compile(optimizer=optimizer,\n",
        "              loss='categorical_crossentropy',\n",
        "              metrics=['accuracy']\n",
        "              )"
      ],
      "execution_count": null,
      "outputs": []
    },
    {
      "cell_type": "code",
      "metadata": {
        "id": "E-9rtYODaAVW"
      },
      "source": [
        "model8.build(input_shape=(None,110250,1))"
      ],
      "execution_count": null,
      "outputs": []
    },
    {
      "cell_type": "code",
      "metadata": {
        "colab": {
          "base_uri": "https://localhost:8080/"
        },
        "id": "rHa9dhunaF2O",
        "outputId": "48117080-1687-4e3c-d782-1c6491d1a519"
      },
      "source": [
        "model8.summary()"
      ],
      "execution_count": null,
      "outputs": [
        {
          "output_type": "stream",
          "text": [
            "Model: \"sequential_5\"\n",
            "_________________________________________________________________\n",
            "Layer (type)                 Output Shape              Param #   \n",
            "=================================================================\n",
            "conv1d_38 (Conv1D)           (None, 430, 1)            257       \n",
            "_________________________________________________________________\n",
            "batch_normalization_38 (Batc (None, 430, 1)            4         \n",
            "_________________________________________________________________\n",
            "leaky_re_lu_38 (LeakyReLU)   (None, 430, 1)            0         \n",
            "_________________________________________________________________\n",
            "conv1d_39 (Conv1D)           (None, 212, 32)           288       \n",
            "_________________________________________________________________\n",
            "batch_normalization_39 (Batc (None, 212, 32)           128       \n",
            "_________________________________________________________________\n",
            "leaky_re_lu_39 (LeakyReLU)   (None, 212, 32)           0         \n",
            "_________________________________________________________________\n",
            "conv1d_40 (Conv1D)           (None, 205, 32)           8224      \n",
            "_________________________________________________________________\n",
            "batch_normalization_40 (Batc (None, 205, 32)           128       \n",
            "_________________________________________________________________\n",
            "leaky_re_lu_40 (LeakyReLU)   (None, 205, 32)           0         \n",
            "_________________________________________________________________\n",
            "max_pooling1d_30 (MaxPooling (None, 51, 32)            0         \n",
            "_________________________________________________________________\n",
            "conv1d_41 (Conv1D)           (None, 44, 32)            8224      \n",
            "_________________________________________________________________\n",
            "batch_normalization_41 (Batc (None, 44, 32)            128       \n",
            "_________________________________________________________________\n",
            "leaky_re_lu_41 (LeakyReLU)   (None, 44, 32)            0         \n",
            "_________________________________________________________________\n",
            "max_pooling1d_31 (MaxPooling (None, 11, 32)            0         \n",
            "_________________________________________________________________\n",
            "conv1d_42 (Conv1D)           (None, 4, 32)             8224      \n",
            "_________________________________________________________________\n",
            "batch_normalization_42 (Batc (None, 4, 32)             128       \n",
            "_________________________________________________________________\n",
            "leaky_re_lu_42 (LeakyReLU)   (None, 4, 32)             0         \n",
            "_________________________________________________________________\n",
            "max_pooling1d_32 (MaxPooling (None, 1, 32)             0         \n",
            "_________________________________________________________________\n",
            "lstm_2 (LSTM)                (None, 64)                24832     \n",
            "_________________________________________________________________\n",
            "flatten_6 (Flatten)          (None, 64)                0         \n",
            "_________________________________________________________________\n",
            "dropout_4 (Dropout)          (None, 64)                0         \n",
            "_________________________________________________________________\n",
            "dense_5 (Dense)              (None, 4)                 260       \n",
            "=================================================================\n",
            "Total params: 50,825\n",
            "Trainable params: 50,567\n",
            "Non-trainable params: 258\n",
            "_________________________________________________________________\n"
          ],
          "name": "stdout"
        }
      ]
    },
    {
      "cell_type": "code",
      "metadata": {
        "colab": {
          "base_uri": "https://localhost:8080/"
        },
        "id": "r8yPRIvtfy7w",
        "outputId": "40525b46-2765-44ef-8e96-4450a434cfaf"
      },
      "source": [
        "model8.fit(X_train,y_train_1hot,validation_data=(X_valid, y_valid_1hot),batch_size = 64,epochs = 100)"
      ],
      "execution_count": null,
      "outputs": [
        {
          "output_type": "stream",
          "text": [
            "Epoch 1/100\n",
            "42/42 [==============================] - 5s 115ms/step - loss: 0.6194 - accuracy: 0.7693 - val_loss: 1.2495 - val_accuracy: 0.4771\n",
            "Epoch 2/100\n",
            "42/42 [==============================] - 5s 114ms/step - loss: 0.6200 - accuracy: 0.7670 - val_loss: 1.2508 - val_accuracy: 0.4749\n",
            "Epoch 3/100\n",
            "42/42 [==============================] - 5s 113ms/step - loss: 0.6079 - accuracy: 0.7782 - val_loss: 1.2541 - val_accuracy: 0.4745\n",
            "Epoch 4/100\n",
            "42/42 [==============================] - 5s 115ms/step - loss: 0.6059 - accuracy: 0.7830 - val_loss: 1.2533 - val_accuracy: 0.4760\n",
            "Epoch 5/100\n",
            "42/42 [==============================] - 5s 115ms/step - loss: 0.6117 - accuracy: 0.7644 - val_loss: 1.2626 - val_accuracy: 0.4723\n",
            "Epoch 6/100\n",
            "42/42 [==============================] - 5s 116ms/step - loss: 0.6050 - accuracy: 0.7789 - val_loss: 1.2674 - val_accuracy: 0.4715\n",
            "Epoch 7/100\n",
            "42/42 [==============================] - 5s 114ms/step - loss: 0.6082 - accuracy: 0.7793 - val_loss: 1.2567 - val_accuracy: 0.4756\n",
            "Epoch 8/100\n",
            "42/42 [==============================] - 5s 114ms/step - loss: 0.6005 - accuracy: 0.7771 - val_loss: 1.2585 - val_accuracy: 0.4753\n",
            "Epoch 9/100\n",
            "42/42 [==============================] - 5s 114ms/step - loss: 0.6038 - accuracy: 0.7715 - val_loss: 1.2579 - val_accuracy: 0.4760\n",
            "Epoch 10/100\n",
            "42/42 [==============================] - 5s 115ms/step - loss: 0.6113 - accuracy: 0.7767 - val_loss: 1.2605 - val_accuracy: 0.4760\n",
            "Epoch 11/100\n",
            "42/42 [==============================] - 5s 116ms/step - loss: 0.5954 - accuracy: 0.7853 - val_loss: 1.2603 - val_accuracy: 0.4767\n",
            "Epoch 12/100\n",
            "42/42 [==============================] - 5s 114ms/step - loss: 0.6024 - accuracy: 0.7845 - val_loss: 1.2627 - val_accuracy: 0.4749\n",
            "Epoch 13/100\n",
            "42/42 [==============================] - 5s 116ms/step - loss: 0.5922 - accuracy: 0.7905 - val_loss: 1.2677 - val_accuracy: 0.4730\n",
            "Epoch 14/100\n",
            "42/42 [==============================] - 5s 114ms/step - loss: 0.5978 - accuracy: 0.7827 - val_loss: 1.2649 - val_accuracy: 0.4749\n",
            "Epoch 15/100\n",
            "42/42 [==============================] - 5s 114ms/step - loss: 0.5910 - accuracy: 0.7879 - val_loss: 1.2668 - val_accuracy: 0.4738\n",
            "Epoch 16/100\n",
            "42/42 [==============================] - 5s 114ms/step - loss: 0.5944 - accuracy: 0.7849 - val_loss: 1.2706 - val_accuracy: 0.4723\n",
            "Epoch 17/100\n",
            "42/42 [==============================] - 5s 116ms/step - loss: 0.5887 - accuracy: 0.7897 - val_loss: 1.2716 - val_accuracy: 0.4726\n",
            "Epoch 18/100\n",
            "42/42 [==============================] - 5s 115ms/step - loss: 0.5885 - accuracy: 0.7860 - val_loss: 1.2702 - val_accuracy: 0.4753\n",
            "Epoch 19/100\n",
            "42/42 [==============================] - 5s 115ms/step - loss: 0.5947 - accuracy: 0.7823 - val_loss: 1.2695 - val_accuracy: 0.4730\n",
            "Epoch 20/100\n",
            "42/42 [==============================] - 5s 115ms/step - loss: 0.5918 - accuracy: 0.7923 - val_loss: 1.2703 - val_accuracy: 0.4730\n",
            "Epoch 21/100\n",
            "42/42 [==============================] - 5s 115ms/step - loss: 0.5891 - accuracy: 0.7767 - val_loss: 1.2748 - val_accuracy: 0.4734\n",
            "Epoch 22/100\n",
            "42/42 [==============================] - 5s 116ms/step - loss: 0.5851 - accuracy: 0.7849 - val_loss: 1.2738 - val_accuracy: 0.4723\n",
            "Epoch 23/100\n",
            "42/42 [==============================] - 5s 116ms/step - loss: 0.5839 - accuracy: 0.7882 - val_loss: 1.2781 - val_accuracy: 0.4704\n",
            "Epoch 24/100\n",
            "42/42 [==============================] - 5s 114ms/step - loss: 0.5848 - accuracy: 0.7815 - val_loss: 1.2759 - val_accuracy: 0.4738\n",
            "Epoch 25/100\n",
            "42/42 [==============================] - 5s 114ms/step - loss: 0.5751 - accuracy: 0.7946 - val_loss: 1.2768 - val_accuracy: 0.4745\n",
            "Epoch 26/100\n",
            "42/42 [==============================] - 5s 113ms/step - loss: 0.5785 - accuracy: 0.7916 - val_loss: 1.2793 - val_accuracy: 0.4782\n",
            "Epoch 27/100\n",
            "42/42 [==============================] - 5s 115ms/step - loss: 0.5751 - accuracy: 0.7905 - val_loss: 1.2797 - val_accuracy: 0.4745\n",
            "Epoch 28/100\n",
            "42/42 [==============================] - 5s 115ms/step - loss: 0.5690 - accuracy: 0.7927 - val_loss: 1.2839 - val_accuracy: 0.4719\n",
            "Epoch 29/100\n",
            "42/42 [==============================] - 5s 115ms/step - loss: 0.5784 - accuracy: 0.7856 - val_loss: 1.2808 - val_accuracy: 0.4745\n",
            "Epoch 30/100\n",
            "42/42 [==============================] - 5s 113ms/step - loss: 0.5716 - accuracy: 0.7923 - val_loss: 1.2855 - val_accuracy: 0.4723\n",
            "Epoch 31/100\n",
            "42/42 [==============================] - 5s 114ms/step - loss: 0.5763 - accuracy: 0.7905 - val_loss: 1.2835 - val_accuracy: 0.4756\n",
            "Epoch 32/100\n",
            "42/42 [==============================] - 5s 114ms/step - loss: 0.5761 - accuracy: 0.7916 - val_loss: 1.2851 - val_accuracy: 0.4715\n",
            "Epoch 33/100\n",
            "42/42 [==============================] - 5s 114ms/step - loss: 0.5652 - accuracy: 0.7994 - val_loss: 1.2851 - val_accuracy: 0.4753\n",
            "Epoch 34/100\n",
            "42/42 [==============================] - 5s 115ms/step - loss: 0.5696 - accuracy: 0.7990 - val_loss: 1.2871 - val_accuracy: 0.4764\n",
            "Epoch 35/100\n",
            "42/42 [==============================] - 5s 114ms/step - loss: 0.5655 - accuracy: 0.7957 - val_loss: 1.2933 - val_accuracy: 0.4741\n",
            "Epoch 36/100\n",
            "42/42 [==============================] - 5s 115ms/step - loss: 0.5686 - accuracy: 0.7841 - val_loss: 1.2894 - val_accuracy: 0.4760\n",
            "Epoch 37/100\n",
            "42/42 [==============================] - 5s 114ms/step - loss: 0.5668 - accuracy: 0.7897 - val_loss: 1.2908 - val_accuracy: 0.4726\n",
            "Epoch 38/100\n",
            "42/42 [==============================] - 5s 115ms/step - loss: 0.5662 - accuracy: 0.8057 - val_loss: 1.2942 - val_accuracy: 0.4719\n",
            "Epoch 39/100\n",
            "42/42 [==============================] - 5s 115ms/step - loss: 0.5646 - accuracy: 0.8039 - val_loss: 1.2966 - val_accuracy: 0.4715\n",
            "Epoch 40/100\n",
            "42/42 [==============================] - 5s 115ms/step - loss: 0.5603 - accuracy: 0.8028 - val_loss: 1.2941 - val_accuracy: 0.4749\n",
            "Epoch 41/100\n",
            "42/42 [==============================] - 5s 116ms/step - loss: 0.5659 - accuracy: 0.8042 - val_loss: 1.2959 - val_accuracy: 0.4734\n",
            "Epoch 42/100\n",
            "42/42 [==============================] - 5s 115ms/step - loss: 0.5654 - accuracy: 0.7894 - val_loss: 1.3001 - val_accuracy: 0.4749\n",
            "Epoch 43/100\n",
            "42/42 [==============================] - 5s 114ms/step - loss: 0.5568 - accuracy: 0.7916 - val_loss: 1.2977 - val_accuracy: 0.4730\n",
            "Epoch 44/100\n",
            "42/42 [==============================] - 5s 113ms/step - loss: 0.5504 - accuracy: 0.8031 - val_loss: 1.3006 - val_accuracy: 0.4719\n",
            "Epoch 45/100\n",
            "42/42 [==============================] - 5s 114ms/step - loss: 0.5449 - accuracy: 0.8098 - val_loss: 1.3014 - val_accuracy: 0.4738\n",
            "Epoch 46/100\n",
            "42/42 [==============================] - 5s 115ms/step - loss: 0.5625 - accuracy: 0.7979 - val_loss: 1.3031 - val_accuracy: 0.4730\n",
            "Epoch 47/100\n",
            "42/42 [==============================] - 5s 115ms/step - loss: 0.5524 - accuracy: 0.8031 - val_loss: 1.3028 - val_accuracy: 0.4753\n",
            "Epoch 48/100\n",
            "42/42 [==============================] - 5s 115ms/step - loss: 0.5490 - accuracy: 0.8005 - val_loss: 1.3051 - val_accuracy: 0.4734\n",
            "Epoch 49/100\n",
            "42/42 [==============================] - 5s 115ms/step - loss: 0.5463 - accuracy: 0.8020 - val_loss: 1.3063 - val_accuracy: 0.4708\n",
            "Epoch 50/100\n",
            "42/42 [==============================] - 5s 113ms/step - loss: 0.5569 - accuracy: 0.7987 - val_loss: 1.3171 - val_accuracy: 0.4719\n",
            "Epoch 51/100\n",
            "42/42 [==============================] - 5s 114ms/step - loss: 0.5452 - accuracy: 0.8042 - val_loss: 1.3109 - val_accuracy: 0.4726\n",
            "Epoch 52/100\n",
            "42/42 [==============================] - 5s 114ms/step - loss: 0.5404 - accuracy: 0.8072 - val_loss: 1.3111 - val_accuracy: 0.4730\n",
            "Epoch 53/100\n",
            "42/42 [==============================] - 5s 115ms/step - loss: 0.5360 - accuracy: 0.8117 - val_loss: 1.3150 - val_accuracy: 0.4723\n",
            "Epoch 54/100\n",
            "42/42 [==============================] - 5s 115ms/step - loss: 0.5445 - accuracy: 0.8046 - val_loss: 1.3174 - val_accuracy: 0.4719\n",
            "Epoch 55/100\n",
            "42/42 [==============================] - 5s 117ms/step - loss: 0.5389 - accuracy: 0.8139 - val_loss: 1.3141 - val_accuracy: 0.4708\n",
            "Epoch 56/100\n",
            "42/42 [==============================] - 5s 117ms/step - loss: 0.5413 - accuracy: 0.8061 - val_loss: 1.3203 - val_accuracy: 0.4697\n",
            "Epoch 57/100\n",
            "42/42 [==============================] - 5s 116ms/step - loss: 0.5460 - accuracy: 0.8042 - val_loss: 1.3153 - val_accuracy: 0.4712\n",
            "Epoch 58/100\n",
            "42/42 [==============================] - 5s 115ms/step - loss: 0.5401 - accuracy: 0.8098 - val_loss: 1.3172 - val_accuracy: 0.4712\n",
            "Epoch 59/100\n",
            "42/42 [==============================] - 5s 115ms/step - loss: 0.5446 - accuracy: 0.8009 - val_loss: 1.3308 - val_accuracy: 0.4734\n",
            "Epoch 60/100\n",
            "42/42 [==============================] - 5s 115ms/step - loss: 0.5313 - accuracy: 0.8121 - val_loss: 1.3205 - val_accuracy: 0.4712\n",
            "Epoch 61/100\n",
            "42/42 [==============================] - 5s 116ms/step - loss: 0.5343 - accuracy: 0.8098 - val_loss: 1.3206 - val_accuracy: 0.4708\n",
            "Epoch 62/100\n",
            "42/42 [==============================] - 5s 114ms/step - loss: 0.5333 - accuracy: 0.8139 - val_loss: 1.3330 - val_accuracy: 0.4700\n",
            "Epoch 63/100\n",
            "42/42 [==============================] - 5s 114ms/step - loss: 0.5379 - accuracy: 0.8065 - val_loss: 1.3219 - val_accuracy: 0.4723\n",
            "Epoch 64/100\n",
            "42/42 [==============================] - 5s 113ms/step - loss: 0.5319 - accuracy: 0.8121 - val_loss: 1.3234 - val_accuracy: 0.4708\n",
            "Epoch 65/100\n",
            "42/42 [==============================] - 5s 113ms/step - loss: 0.5286 - accuracy: 0.8158 - val_loss: 1.3250 - val_accuracy: 0.4715\n",
            "Epoch 66/100\n",
            "42/42 [==============================] - 5s 114ms/step - loss: 0.5322 - accuracy: 0.8206 - val_loss: 1.3297 - val_accuracy: 0.4708\n",
            "Epoch 67/100\n",
            "42/42 [==============================] - 5s 113ms/step - loss: 0.5244 - accuracy: 0.8154 - val_loss: 1.3298 - val_accuracy: 0.4715\n",
            "Epoch 68/100\n",
            "42/42 [==============================] - 5s 115ms/step - loss: 0.5250 - accuracy: 0.8106 - val_loss: 1.3306 - val_accuracy: 0.4693\n",
            "Epoch 69/100\n",
            "42/42 [==============================] - 5s 114ms/step - loss: 0.5205 - accuracy: 0.8232 - val_loss: 1.3314 - val_accuracy: 0.4704\n",
            "Epoch 70/100\n",
            "42/42 [==============================] - 5s 116ms/step - loss: 0.5194 - accuracy: 0.8102 - val_loss: 1.3339 - val_accuracy: 0.4689\n",
            "Epoch 71/100\n",
            "42/42 [==============================] - 5s 114ms/step - loss: 0.5217 - accuracy: 0.8184 - val_loss: 1.3353 - val_accuracy: 0.4682\n",
            "Epoch 72/100\n",
            "42/42 [==============================] - 5s 116ms/step - loss: 0.5177 - accuracy: 0.8303 - val_loss: 1.3388 - val_accuracy: 0.4693\n",
            "Epoch 73/100\n",
            "42/42 [==============================] - 5s 115ms/step - loss: 0.5159 - accuracy: 0.8184 - val_loss: 1.3364 - val_accuracy: 0.4700\n",
            "Epoch 74/100\n",
            "42/42 [==============================] - 5s 116ms/step - loss: 0.5216 - accuracy: 0.8176 - val_loss: 1.3407 - val_accuracy: 0.4704\n",
            "Epoch 75/100\n",
            "42/42 [==============================] - 5s 117ms/step - loss: 0.5142 - accuracy: 0.8180 - val_loss: 1.3385 - val_accuracy: 0.4708\n",
            "Epoch 76/100\n",
            "42/42 [==============================] - 5s 115ms/step - loss: 0.5200 - accuracy: 0.8150 - val_loss: 1.3398 - val_accuracy: 0.4678\n",
            "Epoch 77/100\n",
            "42/42 [==============================] - 5s 114ms/step - loss: 0.5145 - accuracy: 0.8128 - val_loss: 1.3417 - val_accuracy: 0.4753\n",
            "Epoch 78/100\n",
            "42/42 [==============================] - 5s 115ms/step - loss: 0.5133 - accuracy: 0.8162 - val_loss: 1.3442 - val_accuracy: 0.4697\n",
            "Epoch 79/100\n",
            "42/42 [==============================] - 5s 113ms/step - loss: 0.5102 - accuracy: 0.8117 - val_loss: 1.3439 - val_accuracy: 0.4730\n",
            "Epoch 80/100\n",
            "42/42 [==============================] - 5s 115ms/step - loss: 0.5136 - accuracy: 0.8176 - val_loss: 1.3455 - val_accuracy: 0.4760\n",
            "Epoch 81/100\n",
            "42/42 [==============================] - 5s 115ms/step - loss: 0.5073 - accuracy: 0.8225 - val_loss: 1.3479 - val_accuracy: 0.4693\n",
            "Epoch 82/100\n",
            "42/42 [==============================] - 5s 115ms/step - loss: 0.5047 - accuracy: 0.8243 - val_loss: 1.3509 - val_accuracy: 0.4697\n",
            "Epoch 83/100\n",
            "42/42 [==============================] - 5s 114ms/step - loss: 0.5051 - accuracy: 0.8232 - val_loss: 1.3499 - val_accuracy: 0.4726\n",
            "Epoch 84/100\n",
            "42/42 [==============================] - 5s 115ms/step - loss: 0.5077 - accuracy: 0.8214 - val_loss: 1.3522 - val_accuracy: 0.4704\n",
            "Epoch 85/100\n",
            "42/42 [==============================] - 5s 114ms/step - loss: 0.5020 - accuracy: 0.8281 - val_loss: 1.3541 - val_accuracy: 0.4749\n",
            "Epoch 86/100\n",
            "42/42 [==============================] - 5s 116ms/step - loss: 0.5070 - accuracy: 0.8225 - val_loss: 1.3516 - val_accuracy: 0.4704\n",
            "Epoch 87/100\n",
            "42/42 [==============================] - 5s 114ms/step - loss: 0.5048 - accuracy: 0.8184 - val_loss: 1.3555 - val_accuracy: 0.4738\n",
            "Epoch 88/100\n",
            "42/42 [==============================] - 5s 114ms/step - loss: 0.4886 - accuracy: 0.8318 - val_loss: 1.3564 - val_accuracy: 0.4704\n",
            "Epoch 89/100\n",
            "42/42 [==============================] - 5s 116ms/step - loss: 0.4970 - accuracy: 0.8217 - val_loss: 1.3566 - val_accuracy: 0.4730\n",
            "Epoch 90/100\n",
            "42/42 [==============================] - 5s 116ms/step - loss: 0.4978 - accuracy: 0.8262 - val_loss: 1.3582 - val_accuracy: 0.4753\n",
            "Epoch 91/100\n",
            "42/42 [==============================] - 5s 115ms/step - loss: 0.4963 - accuracy: 0.8255 - val_loss: 1.3605 - val_accuracy: 0.4704\n",
            "Epoch 92/100\n",
            "42/42 [==============================] - 5s 115ms/step - loss: 0.4940 - accuracy: 0.8318 - val_loss: 1.3632 - val_accuracy: 0.4726\n",
            "Epoch 93/100\n",
            "42/42 [==============================] - 5s 115ms/step - loss: 0.4852 - accuracy: 0.8288 - val_loss: 1.3623 - val_accuracy: 0.4734\n",
            "Epoch 94/100\n",
            "42/42 [==============================] - 5s 115ms/step - loss: 0.4944 - accuracy: 0.8281 - val_loss: 1.3689 - val_accuracy: 0.4682\n",
            "Epoch 95/100\n",
            "42/42 [==============================] - 5s 113ms/step - loss: 0.4891 - accuracy: 0.8336 - val_loss: 1.3635 - val_accuracy: 0.4726\n",
            "Epoch 96/100\n",
            "42/42 [==============================] - 5s 116ms/step - loss: 0.4819 - accuracy: 0.8292 - val_loss: 1.3670 - val_accuracy: 0.4738\n",
            "Epoch 97/100\n",
            "42/42 [==============================] - 5s 114ms/step - loss: 0.4898 - accuracy: 0.8314 - val_loss: 1.3680 - val_accuracy: 0.4712\n",
            "Epoch 98/100\n",
            "42/42 [==============================] - 5s 114ms/step - loss: 0.4901 - accuracy: 0.8273 - val_loss: 1.3692 - val_accuracy: 0.4723\n",
            "Epoch 99/100\n",
            "42/42 [==============================] - 5s 114ms/step - loss: 0.4788 - accuracy: 0.8362 - val_loss: 1.3715 - val_accuracy: 0.4704\n",
            "Epoch 100/100\n",
            "42/42 [==============================] - 5s 114ms/step - loss: 0.4919 - accuracy: 0.8292 - val_loss: 1.3722 - val_accuracy: 0.4726\n"
          ],
          "name": "stdout"
        },
        {
          "output_type": "execute_result",
          "data": {
            "text/plain": [
              "<tensorflow.python.keras.callbacks.History at 0x7f1532e47ed0>"
            ]
          },
          "metadata": {
            "tags": []
          },
          "execution_count": 65
        }
      ]
    },
    {
      "cell_type": "code",
      "metadata": {
        "id": "jojRTtsof2Ok"
      },
      "source": [
        "model8.save('model_h5_conv1d_8.h5')"
      ],
      "execution_count": null,
      "outputs": []
    },
    {
      "cell_type": "markdown",
      "metadata": {
        "id": "I109mlTdf2x0"
      },
      "source": [
        "## RESNET\n"
      ]
    },
    {
      "cell_type": "code",
      "metadata": {
        "id": "xBGi4O2kUfD5",
        "colab": {
          "base_uri": "https://localhost:8080/"
        },
        "outputId": "2e36dacb-69ef-41ba-ebaf-9eeaebb7b528"
      },
      "source": [
        "import tensorflow as tf\n",
        "from tensorflow.keras import layers\n",
        "import numpy as np\n",
        "import keras\n",
        "tf.config.experimental_run_functions_eagerly(True)"
      ],
      "execution_count": null,
      "outputs": [
        {
          "output_type": "stream",
          "text": [
            "WARNING:tensorflow:From <ipython-input-23-b4da9f549264>:5: experimental_run_functions_eagerly (from tensorflow.python.eager.def_function) is deprecated and will be removed in a future version.\n",
            "Instructions for updating:\n",
            "Use `tf.config.run_functions_eagerly` instead of the experimental version.\n"
          ],
          "name": "stdout"
        }
      ]
    },
    {
      "cell_type": "code",
      "metadata": {
        "id": "cG7hEeLhf5rF"
      },
      "source": [
        "def residual_block_(filters, size, stride):\n",
        "  def f(x):\n",
        "    y = keras.layers.ZeroPadding1D(2)(x)\n",
        "    y = keras.layers.Conv1D(filters, size, stride)(y)\n",
        "    y = keras.layers.BatchNormalization()(y)\n",
        "    y = keras.layers.LeakyReLU()(y)\n",
        "    y = keras.layers.Conv1D(filters, size, stride)(y)\n",
        "    y = keras.layers.BatchNormalization()(y)\n",
        "\n",
        "    x = keras.layers.Conv1D(filters, 1, stride)(x)\n",
        "    print(x.shape)\n",
        "    print(y.shape)\n",
        "    y = keras.layers.Add()([x,y])\n",
        "\n",
        "  return f"
      ],
      "execution_count": null,
      "outputs": []
    },
    {
      "cell_type": "code",
      "metadata": {
        "id": "Nl21B_YHf5tz"
      },
      "source": [
        "x = np.random.rand(2,110250,1)\n",
        "y = np.random.rand(20,100,128)"
      ],
      "execution_count": null,
      "outputs": []
    },
    {
      "cell_type": "code",
      "metadata": {
        "colab": {
          "base_uri": "https://localhost:8080/"
        },
        "id": "2bNkRdk4jif7",
        "outputId": "9c8713f0-6946-4ad7-ff8a-8567839e6e37"
      },
      "source": [
        "residual_block_(128,3,1)(x)"
      ],
      "execution_count": null,
      "outputs": [
        {
          "output_type": "stream",
          "text": [
            "(2, 110250, 128)\n",
            "(2, 110250, 128)\n"
          ],
          "name": "stdout"
        }
      ]
    },
    {
      "cell_type": "code",
      "metadata": {
        "id": "nTPz4oPTb_Gq"
      },
      "source": [
        "class ResidualBlock(keras.layers.Layer):\n",
        "  def __init__(self, filters, kernel, stride):\n",
        "    super(ResidualBlock, self).__init__()\n",
        "    \n",
        "    \"\"\"self.body = keras.models.Sequential(\n",
        "        [\n",
        "          keras.layers.Conv1D(filters, kernel, stride),\n",
        "          keras.layers.BatchNormalization(),\n",
        "          keras.layers.LeakyReLU(),\n",
        "          keras.layers.Conv1D(filters, kernel, stride),\n",
        "          keras.layers.BatchNormalization()\n",
        "        ]\n",
        "    )\"\"\"\n",
        "\n",
        "    self.filters = filters\n",
        "    self.kernel = kernel\n",
        "    self.stride = stride\n",
        "  \n",
        "  def build(self, input_shape):\n",
        "    self.body = keras.models.Sequential(\n",
        "        [\n",
        "          keras.layers.Conv1D(self.filters, self.kernel, self.stride),\n",
        "          keras.layers.BatchNormalization(),\n",
        "          keras.layers.LeakyReLU(),\n",
        "          keras.layers.Conv1D(self.filters, self.kernel, self.stride),\n",
        "          keras.layers.BatchNormalization()\n",
        "        ]\n",
        "      )   \n",
        "    super(ResidualBlock, self).build(input_shape) \n",
        "    \n",
        "  def call(self, inputs):\n",
        "    x = keras.layers.Conv1D(self.filters, 1, self.stride)(inputs)\n",
        "    y = keras.layers.ZeroPadding1D(2)(inputs)\n",
        "    y = self.body(y)\n",
        "    y = keras.layers.Add()([x,y])\n",
        "    y = keras.layers.LeakyReLU()(y)\n",
        "    return y\n",
        "\n",
        "  def get_config(self):\n",
        "\n",
        "        config = super().get_config().copy()\n",
        "        config.update({\n",
        "            'filters': self.filters,\n",
        "            'kernel': self.kernel,\n",
        "            'stride': self.stride\n",
        "        })\n",
        "        return config"
      ],
      "execution_count": null,
      "outputs": []
    },
    {
      "cell_type": "code",
      "metadata": {
        "id": "d_O3hRSQYCpz"
      },
      "source": [
        "model_res_conv1d = keras.models.Sequential(\n",
        "    [\n",
        "     keras.layers.Conv1D(128,3,3),\n",
        "     ResidualBlock(128,3,1),\n",
        "     keras.layers.MaxPooling1D(3,3),\n",
        "     ResidualBlock(128,3,1),\n",
        "     keras.layers.MaxPooling1D(3,3),\n",
        "     ResidualBlock(256,3,1),\n",
        "     keras.layers.MaxPooling1D(3,3),\n",
        "     ResidualBlock(256,3,1),\n",
        "     keras.layers.MaxPooling1D(3,3),\n",
        "     ResidualBlock(256,3,1),\n",
        "     keras.layers.MaxPooling1D(3,3),\n",
        "     ResidualBlock(256,3,1),\n",
        "     keras.layers.MaxPooling1D(3,3),\n",
        "     ResidualBlock(256,3,1),\n",
        "     keras.layers.MaxPooling1D(3,3),\n",
        "     ResidualBlock(256,3,1),\n",
        "     keras.layers.MaxPooling1D(3,3),\n",
        "     ResidualBlock(512,3,1),\n",
        "     keras.layers.MaxPooling1D(3,3),\n",
        "     keras.layers.Conv1D(512,1,1),\n",
        "     keras.layers.Flatten(),\n",
        "     keras.layers.Dense(4, activation=\"softmax\")\n",
        "    ]\n",
        ")"
      ],
      "execution_count": null,
      "outputs": []
    },
    {
      "cell_type": "code",
      "metadata": {
        "id": "EphzCR35nsjD"
      },
      "source": [
        "optimizer = keras.optimizers.Adam(learning_rate=0.0001)\n",
        "model_res_conv1d.compile(optimizer=optimizer,\n",
        "              loss='categorical_crossentropy',\n",
        "              metrics=['accuracy']\n",
        "              )"
      ],
      "execution_count": null,
      "outputs": []
    },
    {
      "cell_type": "code",
      "metadata": {
        "id": "nr-23_2Rc94U"
      },
      "source": [
        "model_res_conv1d.build(input_shape=(None, 110250,1))"
      ],
      "execution_count": null,
      "outputs": []
    },
    {
      "cell_type": "code",
      "metadata": {
        "id": "y6hOMhspdiH4",
        "colab": {
          "base_uri": "https://localhost:8080/"
        },
        "outputId": "ee907746-72d2-4a68-a99b-f493b7bb9c25"
      },
      "source": [
        "model_res_conv1d.summary()"
      ],
      "execution_count": null,
      "outputs": [
        {
          "output_type": "stream",
          "text": [
            "Model: \"sequential\"\n",
            "_________________________________________________________________\n",
            "Layer (type)                 Output Shape              Param #   \n",
            "=================================================================\n",
            "conv1d (Conv1D)              (None, 36750, 128)        512       \n",
            "_________________________________________________________________\n",
            "residual_block (ResidualBloc (None, 36750, 128)        99584     \n",
            "_________________________________________________________________\n",
            "max_pooling1d (MaxPooling1D) (None, 12250, 128)        0         \n",
            "_________________________________________________________________\n",
            "residual_block_1 (ResidualBl (None, 12250, 128)        99584     \n",
            "_________________________________________________________________\n",
            "max_pooling1d_1 (MaxPooling1 (None, 4083, 128)         0         \n",
            "_________________________________________________________________\n",
            "residual_block_2 (ResidualBl (None, 4083, 256)         297472    \n",
            "_________________________________________________________________\n",
            "max_pooling1d_2 (MaxPooling1 (None, 1361, 256)         0         \n",
            "_________________________________________________________________\n",
            "residual_block_3 (ResidualBl (None, 1361, 256)         395776    \n",
            "_________________________________________________________________\n",
            "max_pooling1d_3 (MaxPooling1 (None, 453, 256)          0         \n",
            "_________________________________________________________________\n",
            "residual_block_4 (ResidualBl (None, 453, 256)          395776    \n",
            "_________________________________________________________________\n",
            "max_pooling1d_4 (MaxPooling1 (None, 151, 256)          0         \n",
            "_________________________________________________________________\n",
            "residual_block_5 (ResidualBl (None, 151, 256)          395776    \n",
            "_________________________________________________________________\n",
            "max_pooling1d_5 (MaxPooling1 (None, 50, 256)           0         \n",
            "_________________________________________________________________\n",
            "residual_block_6 (ResidualBl (None, 50, 256)           395776    \n",
            "_________________________________________________________________\n",
            "max_pooling1d_6 (MaxPooling1 (None, 16, 256)           0         \n",
            "_________________________________________________________________\n",
            "residual_block_7 (ResidualBl (None, 16, 256)           395776    \n",
            "_________________________________________________________________\n",
            "max_pooling1d_7 (MaxPooling1 (None, 5, 256)            0         \n",
            "_________________________________________________________________\n",
            "residual_block_8 (ResidualBl (None, 5, 512)            1184768   \n",
            "_________________________________________________________________\n",
            "max_pooling1d_8 (MaxPooling1 (None, 1, 512)            0         \n",
            "_________________________________________________________________\n",
            "conv1d_1 (Conv1D)            (None, 1, 512)            262656    \n",
            "_________________________________________________________________\n",
            "flatten (Flatten)            (None, 512)               0         \n",
            "_________________________________________________________________\n",
            "dense (Dense)                (None, 4)                 2052      \n",
            "=================================================================\n",
            "Total params: 3,925,508\n",
            "Trainable params: 3,916,292\n",
            "Non-trainable params: 9,216\n",
            "_________________________________________________________________\n"
          ],
          "name": "stdout"
        }
      ]
    },
    {
      "cell_type": "code",
      "metadata": {
        "colab": {
          "base_uri": "https://localhost:8080/"
        },
        "id": "nDC_mlFYn0nw",
        "outputId": "f0189495-26fd-423b-8328-3a7c335d3ab4"
      },
      "source": [
        "model_res_conv1d.fit(X_train,y_train_1hot,validation_data=(X_valid, y_valid_1hot),batch_size = 10,epochs = 100)"
      ],
      "execution_count": null,
      "outputs": [
        {
          "output_type": "stream",
          "text": [
            "/usr/local/lib/python3.7/dist-packages/tensorflow/python/data/ops/dataset_ops.py:3704: UserWarning: Even though the `tf.config.experimental_run_functions_eagerly` option is set, this option does not apply to tf.data functions. To force eager execution of tf.data functions, please use `tf.data.experimental.enable.debug_mode()`.\n",
            "  \"Even though the `tf.config.experimental_run_functions_eagerly` \"\n"
          ],
          "name": "stderr"
        },
        {
          "output_type": "stream",
          "text": [
            "Epoch 1/100\n",
            "269/269 [==============================] - 331s 1s/step - loss: 2.5291 - accuracy: 0.2806 - val_loss: 1.7234 - val_accuracy: 0.2639\n",
            "Epoch 2/100\n",
            "269/269 [==============================] - 295s 1s/step - loss: 1.8648 - accuracy: 0.3658 - val_loss: 1.8420 - val_accuracy: 0.2933\n",
            "Epoch 3/100\n",
            "269/269 [==============================] - 295s 1s/step - loss: 1.6471 - accuracy: 0.3905 - val_loss: 1.8550 - val_accuracy: 0.3405\n",
            "Epoch 4/100\n",
            "269/269 [==============================] - 295s 1s/step - loss: 1.4814 - accuracy: 0.4163 - val_loss: 1.7172 - val_accuracy: 0.3662\n",
            "Epoch 5/100\n",
            "269/269 [==============================] - 295s 1s/step - loss: 1.3082 - accuracy: 0.4336 - val_loss: 1.7204 - val_accuracy: 0.3710\n",
            "Epoch 6/100\n",
            "269/269 [==============================] - 295s 1s/step - loss: 1.2657 - accuracy: 0.4524 - val_loss: 1.4273 - val_accuracy: 0.3982\n",
            "Epoch 7/100\n",
            "269/269 [==============================] - 308s 1s/step - loss: 1.1955 - accuracy: 0.4828 - val_loss: 1.6304 - val_accuracy: 0.3740\n",
            "Epoch 8/100\n",
            "269/269 [==============================] - 307s 1s/step - loss: 1.1614 - accuracy: 0.4990 - val_loss: 1.4990 - val_accuracy: 0.4332\n",
            "Epoch 9/100\n",
            "269/269 [==============================] - 307s 1s/step - loss: 1.1073 - accuracy: 0.5134 - val_loss: 1.3898 - val_accuracy: 0.4287\n",
            "Epoch 10/100\n",
            "269/269 [==============================] - 307s 1s/step - loss: 1.0298 - accuracy: 0.5761 - val_loss: 1.5458 - val_accuracy: 0.4287\n",
            "Epoch 11/100\n",
            "269/269 [==============================] - 307s 1s/step - loss: 1.0396 - accuracy: 0.5796 - val_loss: 1.5130 - val_accuracy: 0.4284\n",
            "Epoch 12/100\n",
            "269/269 [==============================] - 307s 1s/step - loss: 1.0162 - accuracy: 0.5782 - val_loss: 1.4433 - val_accuracy: 0.4522\n",
            "Epoch 13/100\n",
            "269/269 [==============================] - 307s 1s/step - loss: 0.9982 - accuracy: 0.6020 - val_loss: 1.4000 - val_accuracy: 0.4827\n",
            "Epoch 14/100\n",
            "269/269 [==============================] - 293s 1s/step - loss: 0.9380 - accuracy: 0.6329 - val_loss: 1.5369 - val_accuracy: 0.4511\n",
            "Epoch 15/100\n",
            "269/269 [==============================] - 307s 1s/step - loss: 0.9050 - accuracy: 0.6432 - val_loss: 1.5730 - val_accuracy: 0.4544\n",
            "Epoch 16/100\n",
            "269/269 [==============================] - 307s 1s/step - loss: 0.9033 - accuracy: 0.6479 - val_loss: 1.4224 - val_accuracy: 0.5106\n",
            "Epoch 17/100\n",
            "269/269 [==============================] - 307s 1s/step - loss: 0.9253 - accuracy: 0.6281 - val_loss: 1.3936 - val_accuracy: 0.4931\n",
            "Epoch 18/100\n",
            "269/269 [==============================] - 307s 1s/step - loss: 0.8540 - accuracy: 0.6605 - val_loss: 1.5744 - val_accuracy: 0.4756\n",
            "Epoch 19/100\n",
            "269/269 [==============================] - 308s 1s/step - loss: 0.8158 - accuracy: 0.6887 - val_loss: 1.4382 - val_accuracy: 0.5121\n",
            "Epoch 20/100\n",
            "269/269 [==============================] - 308s 1s/step - loss: 0.8351 - accuracy: 0.6799 - val_loss: 1.3899 - val_accuracy: 0.5166\n",
            "Epoch 21/100\n",
            "269/269 [==============================] - 308s 1s/step - loss: 0.7562 - accuracy: 0.7140 - val_loss: 1.4641 - val_accuracy: 0.4976\n",
            "Epoch 22/100\n",
            "269/269 [==============================] - 308s 1s/step - loss: 0.7910 - accuracy: 0.7054 - val_loss: 1.6054 - val_accuracy: 0.4619\n",
            "Epoch 23/100\n",
            "269/269 [==============================] - 293s 1s/step - loss: 0.7907 - accuracy: 0.7113 - val_loss: 1.4414 - val_accuracy: 0.4901\n",
            "Epoch 24/100\n",
            "269/269 [==============================] - 293s 1s/step - loss: 0.8334 - accuracy: 0.6971 - val_loss: 1.4517 - val_accuracy: 0.5136\n",
            "Epoch 25/100\n",
            "183/269 [===================>..........] - ETA: 1:12 - loss: 0.7267 - accuracy: 0.7326"
          ],
          "name": "stdout"
        }
      ]
    },
    {
      "cell_type": "code",
      "metadata": {
        "id": "hQtghwsF3jQN"
      },
      "source": [
        "#for heavy model architectures, .h5 file is unsupported.\n",
        "#Save model\n",
        "weigh= model_res_conv1d.get_weights();    pklfile= \"/content/drive/MyDrive/model_resnet_pickle\"\n",
        "try:\n",
        "    fpkl= open(pklfile, 'wb')    #Python 3     \n",
        "    pickle5.dump(weigh, fpkl, protocol= pickle5.HIGHEST_PROTOCOL)\n",
        "    fpkl.close()\n",
        "except:\n",
        "    fpkl= open(pklfile, 'w')    #Python 2      \n",
        "    pickle5.dump(weigh, fpkl, protocol= pickle5.HIGHEST_PROTOCOL)\n",
        "    fpkl.close()"
      ],
      "execution_count": null,
      "outputs": []
    },
    {
      "cell_type": "code",
      "metadata": {
        "id": "ye9m8RJN30ok"
      },
      "source": [
        "#load model\n",
        "with open(r'/content/drive/MyDrive/model_resnet_pickle','rb') as f:\n",
        "  df = pickle5.load(f)\n",
        "model_res_conv1d.set_weights(df)"
      ],
      "execution_count": null,
      "outputs": []
    },
    {
      "cell_type": "code",
      "metadata": {
        "id": "Y93RaRan39JY"
      },
      "source": [
        ""
      ],
      "execution_count": null,
      "outputs": []
    },
    {
      "cell_type": "markdown",
      "metadata": {
        "id": "ZvcRtPak_IDd"
      },
      "source": [
        "##TEST\n"
      ]
    },
    {
      "cell_type": "code",
      "metadata": {
        "id": "ri9GU2WO_Fn5"
      },
      "source": [
        "def sliding_window(y,sr,size = 5,stride = 3):\n",
        "    sr_size = sr*size\n",
        "    step = sr*stride\n",
        "    \n",
        "    start = 0\n",
        "    re = []\n",
        "    n = len(y)\n",
        "    tmp = np.zeros(((n - (size - stride))//(sr*stride),1,22050*5),dtype = 'float32')\n",
        "    i = 0\n",
        "    while start + sr_size < n:\n",
        "        tmp[i,:,:] = y[start:start + sr_size]\n",
        "        start += step\n",
        "        i += 1\n",
        "    return tmp"
      ],
      "execution_count": null,
      "outputs": []
    },
    {
      "cell_type": "code",
      "metadata": {
        "id": "JCYyegHt_M5s"
      },
      "source": [
        "import librosa"
      ],
      "execution_count": null,
      "outputs": []
    },
    {
      "cell_type": "code",
      "metadata": {
        "colab": {
          "base_uri": "https://localhost:8080/"
        },
        "id": "agW4Rhyk_OW8",
        "outputId": "3c238b9f-9455-4034-b0fe-d431d174466c"
      },
      "source": [
        "path = '/content/HatXam-XuanHinh_arka.mp3'\n",
        "y ,sr = librosa.load(path)"
      ],
      "execution_count": null,
      "outputs": [
        {
          "output_type": "stream",
          "text": [
            "/usr/local/lib/python3.7/dist-packages/librosa/core/audio.py:162: UserWarning: PySoundFile failed. Trying audioread instead.\n",
            "  warnings.warn(\"PySoundFile failed. Trying audioread instead.\")\n"
          ],
          "name": "stderr"
        }
      ]
    },
    {
      "cell_type": "code",
      "metadata": {
        "id": "iuc1LZZm_Uc_"
      },
      "source": [
        "t = sliding_window(y ,sr)\n",
        "t = t.reshape([t.shape[0],t.shape[2],t.shape[1]])"
      ],
      "execution_count": null,
      "outputs": []
    },
    {
      "cell_type": "code",
      "metadata": {
        "colab": {
          "base_uri": "https://localhost:8080/"
        },
        "id": "auxLJOqPfYrp",
        "outputId": "ec4e0807-95f6-48c7-9687-aa1046b37a2d"
      },
      "source": [
        ""
      ],
      "execution_count": null,
      "outputs": [
        {
          "output_type": "stream",
          "text": [
            "WARNING:tensorflow:From <ipython-input-21-bdb3352f611a>:1: experimental_run_functions_eagerly (from tensorflow.python.eager.def_function) is deprecated and will be removed in a future version.\n",
            "Instructions for updating:\n",
            "Use `tf.config.run_functions_eagerly` instead of the experimental version.\n"
          ],
          "name": "stdout"
        }
      ]
    },
    {
      "cell_type": "code",
      "metadata": {
        "colab": {
          "base_uri": "https://localhost:8080/"
        },
        "id": "vM5Rs_QuMtCS",
        "outputId": "578b6f47-166c-4b52-c145-07a5bd8f65c8"
      },
      "source": [
        "np.sum(model_res_conv1d.predict(t),axis = 0)"
      ],
      "execution_count": null,
      "outputs": [
        {
          "output_type": "stream",
          "text": [
            "/usr/local/lib/python3.7/dist-packages/tensorflow/python/data/ops/dataset_ops.py:3704: UserWarning: Even though the `tf.config.experimental_run_functions_eagerly` option is set, this option does not apply to tf.data functions. To force eager execution of tf.data functions, please use `tf.data.experimental.enable.debug_mode()`.\n",
            "  \"Even though the `tf.config.experimental_run_functions_eagerly` \"\n"
          ],
          "name": "stderr"
        },
        {
          "output_type": "execute_result",
          "data": {
            "text/plain": [
              "array([ 3.3643072, 37.249153 , 36.404358 , 10.982186 ], dtype=float32)"
            ]
          },
          "metadata": {
            "tags": []
          },
          "execution_count": 22
        }
      ]
    },
    {
      "cell_type": "code",
      "metadata": {
        "id": "OO-RqblF_lSx"
      },
      "source": [
        "t = t.reshape([t.shape[0],t.shape[2],t.shape[1]])"
      ],
      "execution_count": null,
      "outputs": []
    },
    {
      "cell_type": "code",
      "metadata": {
        "id": "XEuN0-kaVJv_"
      },
      "source": [
        "t.shape"
      ],
      "execution_count": null,
      "outputs": []
    },
    {
      "cell_type": "code",
      "metadata": {
        "id": "lMAo3RLwAPS8"
      },
      "source": [
        "import torch\n"
      ],
      "execution_count": null,
      "outputs": []
    },
    {
      "cell_type": "code",
      "metadata": {
        "id": "tscji3b1VESN"
      },
      "source": [
        "s = torch.nn.Conv1d(1,64,3,3)(torch.Tensor(t))"
      ],
      "execution_count": null,
      "outputs": []
    },
    {
      "cell_type": "code",
      "metadata": {
        "id": "KzcLRNlRVzqs"
      },
      "source": [
        "s.shape"
      ],
      "execution_count": null,
      "outputs": []
    },
    {
      "cell_type": "code",
      "metadata": {
        "id": "HQa98zaqVe4k"
      },
      "source": [
        "X_valid.std()"
      ],
      "execution_count": null,
      "outputs": []
    },
    {
      "cell_type": "code",
      "metadata": {
        "id": "UIJ4tswVb2fF"
      },
      "source": [
        "X_valid.mean()"
      ],
      "execution_count": null,
      "outputs": []
    },
    {
      "cell_type": "code",
      "metadata": {
        "id": "RBGrRpgWb50-"
      },
      "source": [
        "X_valid.mean()"
      ],
      "execution_count": null,
      "outputs": []
    },
    {
      "cell_type": "code",
      "metadata": {
        "id": "KoJwX3meb-F1"
      },
      "source": [
        "y.mean()"
      ],
      "execution_count": null,
      "outputs": []
    },
    {
      "cell_type": "code",
      "metadata": {
        "id": "0eCdmD_AcGb9"
      },
      "source": [
        "y.shape"
      ],
      "execution_count": null,
      "outputs": []
    },
    {
      "cell_type": "code",
      "metadata": {
        "id": "5dJwigztcIeH"
      },
      "source": [
        "from sklearn.preprocessing import RobustScaler,Normalizer"
      ],
      "execution_count": null,
      "outputs": []
    },
    {
      "cell_type": "code",
      "metadata": {
        "id": "xA8mHhZBcQrZ"
      },
      "source": [
        "l = Normalizer().fit_transform(y.reshape(y.shape[0],1))"
      ],
      "execution_count": null,
      "outputs": []
    },
    {
      "cell_type": "code",
      "metadata": {
        "id": "U_0FaIHgd362"
      },
      "source": [
        ""
      ],
      "execution_count": null,
      "outputs": []
    },
    {
      "cell_type": "code",
      "metadata": {
        "id": "79Xrcpu8cYNP"
      },
      "source": [
        "import matplotlib.pyplot as plt\n",
        "\n",
        "plt.hist(l, bins = 100)\n",
        "plt.show()"
      ],
      "execution_count": null,
      "outputs": []
    },
    {
      "cell_type": "code",
      "metadata": {
        "id": "h9QBAkm0d-2b"
      },
      "source": [
        "l.max()"
      ],
      "execution_count": null,
      "outputs": []
    },
    {
      "cell_type": "code",
      "metadata": {
        "id": "JmSZNOVleEiJ"
      },
      "source": [
        "l.std()/l.mean()"
      ],
      "execution_count": null,
      "outputs": []
    },
    {
      "cell_type": "code",
      "metadata": {
        "id": "C8WgmY8yeA1i"
      },
      "source": [
        "y.std()"
      ],
      "execution_count": null,
      "outputs": []
    },
    {
      "cell_type": "code",
      "metadata": {
        "id": "VoA0ffhweCnt"
      },
      "source": [
        "y.std()/y.mean()"
      ],
      "execution_count": null,
      "outputs": []
    },
    {
      "cell_type": "code",
      "metadata": {
        "id": "0V9EQsMGc4sn"
      },
      "source": [
        "plt.hist(y, bins = 100)\n",
        "plt.show()"
      ],
      "execution_count": null,
      "outputs": []
    },
    {
      "cell_type": "code",
      "metadata": {
        "id": "HMGJJzyoczdH"
      },
      "source": [
        "plt.plot(y)"
      ],
      "execution_count": null,
      "outputs": []
    },
    {
      "cell_type": "code",
      "metadata": {
        "id": "xqNCcj-mhtJC"
      },
      "source": [
        "tmp = torch.nn.Conv1d(1,1,256,256)(torch.Tensor(y.reshape(1,1,y.shape[0])))"
      ],
      "execution_count": null,
      "outputs": []
    },
    {
      "cell_type": "code",
      "metadata": {
        "id": "pyGXsSVRifMY"
      },
      "source": [
        "tmp.mean()"
      ],
      "execution_count": null,
      "outputs": []
    },
    {
      "cell_type": "code",
      "metadata": {
        "colab": {
          "base_uri": "https://localhost:8080/",
          "height": 307
        },
        "id": "sltl-7xaWI19",
        "outputId": "550dc07c-d004-4bfd-d672-c654b0624a18"
      },
      "source": [
        "tmp = keras.models.load_model(r'./model_1hot.h5')"
      ],
      "execution_count": null,
      "outputs": [
        {
          "output_type": "error",
          "ename": "ValueError",
          "evalue": "ignored",
          "traceback": [
            "\u001b[0;31m---------------------------------------------------------------------------\u001b[0m",
            "\u001b[0;31mValueError\u001b[0m                                Traceback (most recent call last)",
            "\u001b[0;32m<ipython-input-28-5852564e2362>\u001b[0m in \u001b[0;36m<module>\u001b[0;34m()\u001b[0m\n\u001b[0;32m----> 1\u001b[0;31m \u001b[0mtmp\u001b[0m \u001b[0;34m=\u001b[0m \u001b[0mkeras\u001b[0m\u001b[0;34m.\u001b[0m\u001b[0mmodels\u001b[0m\u001b[0;34m.\u001b[0m\u001b[0mload_model\u001b[0m\u001b[0;34m(\u001b[0m\u001b[0;34mr'./model_1hot.h5'\u001b[0m\u001b[0;34m)\u001b[0m\u001b[0;34m\u001b[0m\u001b[0;34m\u001b[0m\u001b[0m\n\u001b[0m",
            "\u001b[0;32m/usr/local/lib/python3.7/dist-packages/keras/saving/save.py\u001b[0m in \u001b[0;36mload_model\u001b[0;34m(filepath, custom_objects, compile, options)\u001b[0m\n\u001b[1;32m    200\u001b[0m             (isinstance(filepath, h5py.File) or h5py.is_hdf5(filepath))):\n\u001b[1;32m    201\u001b[0m           return hdf5_format.load_model_from_hdf5(filepath, custom_objects,\n\u001b[0;32m--> 202\u001b[0;31m                                                   compile)\n\u001b[0m\u001b[1;32m    203\u001b[0m \u001b[0;34m\u001b[0m\u001b[0m\n\u001b[1;32m    204\u001b[0m         \u001b[0mfilepath\u001b[0m \u001b[0;34m=\u001b[0m \u001b[0mpath_to_string\u001b[0m\u001b[0;34m(\u001b[0m\u001b[0mfilepath\u001b[0m\u001b[0;34m)\u001b[0m\u001b[0;34m\u001b[0m\u001b[0;34m\u001b[0m\u001b[0m\n",
            "\u001b[0;32m/usr/local/lib/python3.7/dist-packages/keras/saving/hdf5_format.py\u001b[0m in \u001b[0;36mload_model_from_hdf5\u001b[0;34m(filepath, custom_objects, compile)\u001b[0m\n\u001b[1;32m    174\u001b[0m     \u001b[0mmodel_config\u001b[0m \u001b[0;34m=\u001b[0m \u001b[0mf\u001b[0m\u001b[0;34m.\u001b[0m\u001b[0mattrs\u001b[0m\u001b[0;34m.\u001b[0m\u001b[0mget\u001b[0m\u001b[0;34m(\u001b[0m\u001b[0;34m'model_config'\u001b[0m\u001b[0;34m)\u001b[0m\u001b[0;34m\u001b[0m\u001b[0;34m\u001b[0m\u001b[0m\n\u001b[1;32m    175\u001b[0m     \u001b[0;32mif\u001b[0m \u001b[0mmodel_config\u001b[0m \u001b[0;32mis\u001b[0m \u001b[0;32mNone\u001b[0m\u001b[0;34m:\u001b[0m\u001b[0;34m\u001b[0m\u001b[0;34m\u001b[0m\u001b[0m\n\u001b[0;32m--> 176\u001b[0;31m       \u001b[0;32mraise\u001b[0m \u001b[0mValueError\u001b[0m\u001b[0;34m(\u001b[0m\u001b[0;34m'No model found in config file.'\u001b[0m\u001b[0;34m)\u001b[0m\u001b[0;34m\u001b[0m\u001b[0;34m\u001b[0m\u001b[0m\n\u001b[0m\u001b[1;32m    177\u001b[0m     \u001b[0;32mif\u001b[0m \u001b[0mhasattr\u001b[0m\u001b[0;34m(\u001b[0m\u001b[0mmodel_config\u001b[0m\u001b[0;34m,\u001b[0m \u001b[0;34m'decode'\u001b[0m\u001b[0;34m)\u001b[0m\u001b[0;34m:\u001b[0m\u001b[0;34m\u001b[0m\u001b[0;34m\u001b[0m\u001b[0m\n\u001b[1;32m    178\u001b[0m       \u001b[0mmodel_config\u001b[0m \u001b[0;34m=\u001b[0m \u001b[0mmodel_config\u001b[0m\u001b[0;34m.\u001b[0m\u001b[0mdecode\u001b[0m\u001b[0;34m(\u001b[0m\u001b[0;34m'utf-8'\u001b[0m\u001b[0;34m)\u001b[0m\u001b[0;34m\u001b[0m\u001b[0;34m\u001b[0m\u001b[0m\n",
            "\u001b[0;31mValueError\u001b[0m: No model found in config file."
          ]
        }
      ]
    },
    {
      "cell_type": "code",
      "metadata": {
        "id": "5KlYjc4mcM3h"
      },
      "source": [
        ""
      ],
      "execution_count": null,
      "outputs": []
    },
    {
      "cell_type": "code",
      "metadata": {
        "colab": {
          "base_uri": "https://localhost:8080/"
        },
        "id": "b97UySE9eX66",
        "outputId": "25c0a992-7994-4804-8ea2-7e31cd26e551"
      },
      "source": [
        "model_res_conv1d"
      ],
      "execution_count": null,
      "outputs": [
        {
          "output_type": "execute_result",
          "data": {
            "text/plain": [
              "<keras.engine.sequential.Sequential at 0x7fa8eb45df90>"
            ]
          },
          "metadata": {
            "tags": []
          },
          "execution_count": 15
        }
      ]
    }
  ]
}