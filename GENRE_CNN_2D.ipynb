{
  "nbformat": 4,
  "nbformat_minor": 0,
  "metadata": {
    "colab": {
      "name": "GENRE_CNN_2D.ipynb",
      "provenance": [],
      "mount_file_id": "14h2KlW4vESxzkmHeUHm3moOcX9EMisFq",
      "authorship_tag": "ABX9TyO450jmw4TPIC3/J+N3Oln/",
      "include_colab_link": true
    },
    "kernelspec": {
      "name": "python3",
      "display_name": "Python 3"
    },
    "language_info": {
      "name": "python"
    },
    "accelerator": "GPU"
  },
  "cells": [
    {
      "cell_type": "markdown",
      "metadata": {
        "id": "view-in-github",
        "colab_type": "text"
      },
      "source": [
        "<a href=\"https://colab.research.google.com/github/nduc4nh/CNNResnet_Music_Classification/blob/main/GENRE_CNN_2D.ipynb\" target=\"_parent\"><img src=\"https://colab.research.google.com/assets/colab-badge.svg\" alt=\"Open In Colab\"/></a>"
      ]
    },
    {
      "cell_type": "code",
      "metadata": {
        "id": "Bemo2RfluKSa"
      },
      "source": [
        "import pandas as pd\n",
        "import numpy as np"
      ],
      "execution_count": null,
      "outputs": []
    },
    {
      "cell_type": "code",
      "metadata": {
        "id": "awrzHnJjzda8"
      },
      "source": [
        "df = pd.read_csv(r'/content/drive/MyDrive/Genre Data/data10_32.csv')\n"
      ],
      "execution_count": null,
      "outputs": []
    },
    {
      "cell_type": "code",
      "metadata": {
        "id": "17pEnpNrz5xT"
      },
      "source": [
        "from sklearn import preprocessing\n",
        "from sklearn.model_selection import train_test_split"
      ],
      "execution_count": null,
      "outputs": []
    },
    {
      "cell_type": "code",
      "metadata": {
        "id": "Muhrhbcm8O3w"
      },
      "source": [
        "le = preprocessing.LabelEncoder()\n",
        "genre_encoded = le.fit_transform(df.label)\n",
        "df['label'] = genre_encoded\n"
      ],
      "execution_count": null,
      "outputs": []
    },
    {
      "cell_type": "code",
      "metadata": {
        "colab": {
          "base_uri": "https://localhost:8080/"
        },
        "id": "4cOPrJf68Vq0",
        "outputId": "2caabf56-942f-49ba-beeb-071fffd9da9b"
      },
      "source": [
        "le.inverse_transform(genre_encoded)"
      ],
      "execution_count": null,
      "outputs": [
        {
          "output_type": "execute_result",
          "data": {
            "text/plain": [
              "array(['catru', 'catru', 'catru', ..., 'rock', 'rock', 'rock'],\n",
              "      dtype=object)"
            ]
          },
          "metadata": {
            "tags": []
          },
          "execution_count": 5
        }
      ]
    },
    {
      "cell_type": "code",
      "metadata": {
        "id": "QzNLsxHs6nwZ"
      },
      "source": [
        "import pickle\n",
        "with open('/content/drive/MyDrive/label_encode','wb') as f:\n",
        "  pickle.dump(le,f)"
      ],
      "execution_count": null,
      "outputs": []
    },
    {
      "cell_type": "code",
      "metadata": {
        "id": "4HovZ6RT8X7s"
      },
      "source": [
        "y = df.iloc[:, -1]\n",
        "df = df.iloc[:, :-1]\n"
      ],
      "execution_count": null,
      "outputs": []
    },
    {
      "cell_type": "code",
      "metadata": {
        "id": "zN51nRkV3YbV"
      },
      "source": [
        "df = df.iloc[:,2:]\n",
        "df = df.to_numpy()"
      ],
      "execution_count": null,
      "outputs": []
    },
    {
      "cell_type": "code",
      "metadata": {
        "colab": {
          "base_uri": "https://localhost:8080/"
        },
        "id": "ZBFWMJuHjbU3",
        "outputId": "e097a7d3-7e36-40a8-bd79-9b99f71734e4"
      },
      "source": [
        "df.shape"
      ],
      "execution_count": null,
      "outputs": [
        {
          "output_type": "execute_result",
          "data": {
            "text/plain": [
              "(37419, 16796)"
            ]
          },
          "metadata": {
            "tags": []
          },
          "execution_count": 8
        }
      ]
    },
    {
      "cell_type": "code",
      "metadata": {
        "id": "8VE84iOOnNds"
      },
      "source": [
        "X_train, X_test, y_train, y_test = train_test_split(df, y, test_size=0.25)"
      ],
      "execution_count": null,
      "outputs": []
    },
    {
      "cell_type": "code",
      "metadata": {
        "id": "1e2u9Nlb0Dwo"
      },
      "source": [
        "del df"
      ],
      "execution_count": null,
      "outputs": []
    },
    {
      "cell_type": "code",
      "metadata": {
        "id": "QYRn6PMl0nOI"
      },
      "source": [
        "l_valid  = X_train.shape[0]//4\n",
        "X_valid = X_train[:l_valid,:]\n",
        "y_valid = y_train[:l_valid]\n",
        "X_train = X_train[l_valid:,:]\n",
        "y_train = y_train[l_valid:]"
      ],
      "execution_count": null,
      "outputs": []
    },
    {
      "cell_type": "code",
      "metadata": {
        "id": "NRjaDAYx3CG9"
      },
      "source": [
        "X_train = X_train.reshape([X_train.shape[0],13,1292])"
      ],
      "execution_count": null,
      "outputs": []
    },
    {
      "cell_type": "code",
      "metadata": {
        "id": "_SZ6FEfjqb-o"
      },
      "source": [
        "X_test = X_test.reshape([X_test.shape[0],13,1292])"
      ],
      "execution_count": null,
      "outputs": []
    },
    {
      "cell_type": "code",
      "metadata": {
        "id": "rkdjIYNL1cLc"
      },
      "source": [
        "X_valid = X_valid.reshape([X_valid.shape[0],13,1292])"
      ],
      "execution_count": null,
      "outputs": []
    },
    {
      "cell_type": "code",
      "metadata": {
        "id": "705Vino-hVMu"
      },
      "source": [
        "X_train = X_train[..., np.newaxis]\n",
        "X_test = X_test[..., np.newaxis]\n",
        "X_valid = X_valid[..., np.newaxis]"
      ],
      "execution_count": null,
      "outputs": []
    },
    {
      "cell_type": "code",
      "metadata": {
        "id": "wEfOjumhrA1n"
      },
      "source": [
        "import tensorflow.keras as keras"
      ],
      "execution_count": null,
      "outputs": []
    },
    {
      "cell_type": "code",
      "metadata": {
        "id": "Qkszp2UVhfxr"
      },
      "source": [
        "# model\n",
        "model = keras.Sequential()\n",
        "\n",
        "# 1st conv layer\n",
        "input_shape = (X_train.shape[1], X_train.shape[2], 1)\n",
        "model.add(keras.layers.Conv2D(32, (3,3), activation = 'relu', input_shape = input_shape))\n",
        "model.add(keras.layers.MaxPooling2D((3,3), strides=(2,2), padding = 'same'))\n",
        "model.add(keras.layers.BatchNormalization())\n",
        "\n",
        "# 2nd conv layer\n",
        "\n",
        "model.add(keras.layers.Conv2D(128, (3,3), activation = 'relu'))\n",
        "model.add(keras.layers.MaxPooling2D((3,3), strides=(2,2), padding = 'same'))\n",
        "model.add(keras.layers.BatchNormalization())\n",
        "          \n",
        "# 3rd conv layer\n",
        "\n",
        "model.add(keras.layers.Conv2D(128, (2,2), activation = 'relu'))\n",
        "model.add(keras.layers.MaxPooling2D((2,2), strides=(2,2), padding = 'same'))\n",
        "model.add(keras.layers.BatchNormalization())\n",
        "\n",
        "# flatten output and feed it into dense layer\n",
        "model.add(keras.layers.Flatten())\n",
        "model.add(keras.layers.Dense(64, activation='relu'))\n",
        "model.add(keras.layers.Dropout(0.3))\n",
        "          \n",
        "# output layer\n",
        "model.add(keras.layers.Dense(10, activation='softmax'))"
      ],
      "execution_count": null,
      "outputs": []
    },
    {
      "cell_type": "code",
      "metadata": {
        "colab": {
          "base_uri": "https://localhost:8080/"
        },
        "id": "arOlcXAZrFsz",
        "outputId": "e879f6ad-b388-42e7-9a91-1eb3c928cb8b"
      },
      "source": [
        "# compile model\n",
        "optimiser = keras.optimizers.Adam(learning_rate=0.00001)\n",
        "model.compile(optimizer=optimiser,\n",
        "              loss='sparse_categorical_crossentropy',\n",
        "              metrics=['accuracy'])\n",
        "\n",
        "model.summary()"
      ],
      "execution_count": null,
      "outputs": [
        {
          "output_type": "stream",
          "text": [
            "Model: \"sequential\"\n",
            "_________________________________________________________________\n",
            "Layer (type)                 Output Shape              Param #   \n",
            "=================================================================\n",
            "conv2d (Conv2D)              (None, 11, 1290, 32)      320       \n",
            "_________________________________________________________________\n",
            "max_pooling2d (MaxPooling2D) (None, 6, 645, 32)        0         \n",
            "_________________________________________________________________\n",
            "batch_normalization (BatchNo (None, 6, 645, 32)        128       \n",
            "_________________________________________________________________\n",
            "conv2d_1 (Conv2D)            (None, 4, 643, 128)       36992     \n",
            "_________________________________________________________________\n",
            "max_pooling2d_1 (MaxPooling2 (None, 2, 322, 128)       0         \n",
            "_________________________________________________________________\n",
            "batch_normalization_1 (Batch (None, 2, 322, 128)       512       \n",
            "_________________________________________________________________\n",
            "conv2d_2 (Conv2D)            (None, 1, 321, 128)       65664     \n",
            "_________________________________________________________________\n",
            "max_pooling2d_2 (MaxPooling2 (None, 1, 161, 128)       0         \n",
            "_________________________________________________________________\n",
            "batch_normalization_2 (Batch (None, 1, 161, 128)       512       \n",
            "_________________________________________________________________\n",
            "flatten (Flatten)            (None, 20608)             0         \n",
            "_________________________________________________________________\n",
            "dense (Dense)                (None, 64)                1318976   \n",
            "_________________________________________________________________\n",
            "dropout (Dropout)            (None, 64)                0         \n",
            "_________________________________________________________________\n",
            "dense_1 (Dense)              (None, 10)                650       \n",
            "=================================================================\n",
            "Total params: 1,423,754\n",
            "Trainable params: 1,423,178\n",
            "Non-trainable params: 576\n",
            "_________________________________________________________________\n"
          ],
          "name": "stdout"
        }
      ]
    },
    {
      "cell_type": "code",
      "metadata": {
        "id": "k-w0qFN_rG-_",
        "colab": {
          "base_uri": "https://localhost:8080/"
        },
        "outputId": "302314a4-5986-4961-d843-1a6629cc2321"
      },
      "source": [
        "history = model.fit(X_train, y_train,validation_data=(X_valid,y_valid), batch_size=32, epochs=30)"
      ],
      "execution_count": null,
      "outputs": [
        {
          "output_type": "stream",
          "text": [
            "Epoch 1/30\n",
            "658/658 [==============================] - 47s 23ms/step - loss: 1.8357 - accuracy: 0.4369 - val_loss: 1.3021 - val_accuracy: 0.5780\n",
            "Epoch 2/30\n",
            "658/658 [==============================] - 14s 22ms/step - loss: 1.3663 - accuracy: 0.5619 - val_loss: 1.1266 - val_accuracy: 0.6375\n",
            "Epoch 3/30\n",
            "658/658 [==============================] - 14s 22ms/step - loss: 1.1834 - accuracy: 0.6124 - val_loss: 1.0401 - val_accuracy: 0.6646\n",
            "Epoch 4/30\n",
            "658/658 [==============================] - 14s 22ms/step - loss: 1.0492 - accuracy: 0.6515 - val_loss: 0.9784 - val_accuracy: 0.6813\n",
            "Epoch 5/30\n",
            "658/658 [==============================] - 14s 22ms/step - loss: 0.9631 - accuracy: 0.6792 - val_loss: 0.9135 - val_accuracy: 0.6948\n",
            "Epoch 6/30\n",
            "658/658 [==============================] - 14s 22ms/step - loss: 0.8688 - accuracy: 0.7085 - val_loss: 0.8813 - val_accuracy: 0.7078\n",
            "Epoch 7/30\n",
            "658/658 [==============================] - 15s 22ms/step - loss: 0.7934 - accuracy: 0.7332 - val_loss: 0.8385 - val_accuracy: 0.7184\n",
            "Epoch 8/30\n",
            "658/658 [==============================] - 15s 22ms/step - loss: 0.7334 - accuracy: 0.7525 - val_loss: 0.8164 - val_accuracy: 0.7242\n",
            "Epoch 9/30\n",
            "658/658 [==============================] - 14s 22ms/step - loss: 0.6710 - accuracy: 0.7730 - val_loss: 0.7928 - val_accuracy: 0.7289\n",
            "Epoch 10/30\n",
            "658/658 [==============================] - 14s 22ms/step - loss: 0.6197 - accuracy: 0.7920 - val_loss: 0.7785 - val_accuracy: 0.7386\n",
            "Epoch 11/30\n",
            "658/658 [==============================] - 14s 22ms/step - loss: 0.5778 - accuracy: 0.8020 - val_loss: 0.7635 - val_accuracy: 0.7395\n",
            "Epoch 12/30\n",
            "658/658 [==============================] - 14s 22ms/step - loss: 0.5400 - accuracy: 0.8191 - val_loss: 0.7488 - val_accuracy: 0.7429\n",
            "Epoch 13/30\n",
            "658/658 [==============================] - 14s 22ms/step - loss: 0.5008 - accuracy: 0.8313 - val_loss: 0.7248 - val_accuracy: 0.7503\n",
            "Epoch 14/30\n",
            "658/658 [==============================] - 14s 22ms/step - loss: 0.4693 - accuracy: 0.8440 - val_loss: 0.7253 - val_accuracy: 0.7510\n",
            "Epoch 15/30\n",
            "658/658 [==============================] - 14s 22ms/step - loss: 0.4354 - accuracy: 0.8547 - val_loss: 0.7353 - val_accuracy: 0.7489\n",
            "Epoch 16/30\n",
            "658/658 [==============================] - 15s 22ms/step - loss: 0.4066 - accuracy: 0.8664 - val_loss: 0.7091 - val_accuracy: 0.7527\n",
            "Epoch 17/30\n",
            "658/658 [==============================] - 15s 22ms/step - loss: 0.3818 - accuracy: 0.8762 - val_loss: 0.7235 - val_accuracy: 0.7540\n",
            "Epoch 18/30\n",
            "658/658 [==============================] - 15s 22ms/step - loss: 0.3540 - accuracy: 0.8853 - val_loss: 0.7134 - val_accuracy: 0.7571\n",
            "Epoch 19/30\n",
            "658/658 [==============================] - 15s 22ms/step - loss: 0.3358 - accuracy: 0.8907 - val_loss: 0.6958 - val_accuracy: 0.7604\n",
            "Epoch 20/30\n",
            "658/658 [==============================] - 14s 22ms/step - loss: 0.3083 - accuracy: 0.9040 - val_loss: 0.7042 - val_accuracy: 0.7627\n",
            "Epoch 21/30\n",
            "658/658 [==============================] - 14s 22ms/step - loss: 0.2949 - accuracy: 0.9082 - val_loss: 0.7000 - val_accuracy: 0.7634\n",
            "Epoch 22/30\n",
            "658/658 [==============================] - 15s 22ms/step - loss: 0.2726 - accuracy: 0.9146 - val_loss: 0.7122 - val_accuracy: 0.7637\n",
            "Epoch 23/30\n",
            "658/658 [==============================] - 14s 22ms/step - loss: 0.2568 - accuracy: 0.9211 - val_loss: 0.7156 - val_accuracy: 0.7640\n",
            "Epoch 24/30\n",
            "658/658 [==============================] - 14s 22ms/step - loss: 0.2414 - accuracy: 0.9297 - val_loss: 0.7065 - val_accuracy: 0.7645\n",
            "Epoch 25/30\n",
            "658/658 [==============================] - 14s 22ms/step - loss: 0.2237 - accuracy: 0.9350 - val_loss: 0.6967 - val_accuracy: 0.7691\n",
            "Epoch 26/30\n",
            "658/658 [==============================] - 14s 22ms/step - loss: 0.2130 - accuracy: 0.9381 - val_loss: 0.6997 - val_accuracy: 0.7690\n",
            "Epoch 27/30\n",
            "658/658 [==============================] - 15s 23ms/step - loss: 0.2028 - accuracy: 0.9420 - val_loss: 0.7007 - val_accuracy: 0.7692\n",
            "Epoch 28/30\n",
            "658/658 [==============================] - 15s 23ms/step - loss: 0.1895 - accuracy: 0.9465 - val_loss: 0.7051 - val_accuracy: 0.7667\n",
            "Epoch 29/30\n",
            "658/658 [==============================] - 14s 22ms/step - loss: 0.1810 - accuracy: 0.9495 - val_loss: 0.7155 - val_accuracy: 0.7654\n",
            "Epoch 30/30\n",
            "658/658 [==============================] - 14s 22ms/step - loss: 0.1697 - accuracy: 0.9534 - val_loss: 0.7131 - val_accuracy: 0.7702\n"
          ],
          "name": "stdout"
        }
      ]
    },
    {
      "cell_type": "code",
      "metadata": {
        "id": "d9L2vT3H4aGp"
      },
      "source": [
        "del X_train, X_valid"
      ],
      "execution_count": null,
      "outputs": []
    },
    {
      "cell_type": "code",
      "metadata": {
        "id": "q9L0HEl8hir_",
        "colab": {
          "base_uri": "https://localhost:8080/"
        },
        "outputId": "8f82bb11-1d9a-4807-dbc3-16138900b5d7"
      },
      "source": [
        "test_loss, test_acc = model.evaluate(X_test, y_test, verbose=2)\n",
        "print('\\nTest accuracy:', test_acc)"
      ],
      "execution_count": null,
      "outputs": [
        {
          "output_type": "stream",
          "text": [
            "293/293 - 6s - loss: 0.6994 - accuracy: 0.7804\n",
            "\n",
            "Test accuracy: 0.780438244342804\n"
          ],
          "name": "stdout"
        }
      ]
    },
    {
      "cell_type": "code",
      "metadata": {
        "id": "sIhHb8xWtbne"
      },
      "source": [
        "model.save(\"/content/drive/MyDrive/Genre Data/model_h5_2.h5\")"
      ],
      "execution_count": null,
      "outputs": []
    },
    {
      "cell_type": "code",
      "metadata": {
        "id": "VWEC3JLct0vb"
      },
      "source": [
        "del X_train,X_test,y_train, y_test"
      ],
      "execution_count": null,
      "outputs": []
    },
    {
      "cell_type": "code",
      "metadata": {
        "colab": {
          "base_uri": "https://localhost:8080/"
        },
        "id": "zli5NEp9lG-3",
        "outputId": "57687b76-0bf1-437a-e02b-7c0786ce7e7f"
      },
      "source": [
        "df.iloc[:,0].astype('float64')"
      ],
      "execution_count": null,
      "outputs": [
        {
          "output_type": "execute_result",
          "data": {
            "text/plain": [
              "0       -549.261047\n",
              "1       -243.961197\n",
              "2       -392.869965\n",
              "3       -429.180481\n",
              "4       -262.171844\n",
              "            ...    \n",
              "29807   -571.208679\n",
              "29808   -572.879028\n",
              "29809   -594.335327\n",
              "29810   -559.491516\n",
              "29811   -481.592010\n",
              "Name: 0, Length: 29812, dtype: float64"
            ]
          },
          "metadata": {
            "tags": []
          },
          "execution_count": 11
        }
      ]
    },
    {
      "cell_type": "code",
      "metadata": {
        "id": "q6AkSOrcEKQq"
      },
      "source": [
        "df = df.iloc[:,2:]"
      ],
      "execution_count": null,
      "outputs": []
    },
    {
      "cell_type": "code",
      "metadata": {
        "id": "U6nzp67d8yIV"
      },
      "source": [
        "def reshape(x,a,b):\n",
        "    n = x.shape[0]\n",
        "    re = np.ndarray([0,a,b],buffer = np.array([]))\n",
        "    while n != 0: \n",
        "        idx = x.index\n",
        "        tmp = x.iloc[0,:].to_numpy().reshape((1,a,b))\n",
        "        re = np.append(re,tmp,axis = 0)\n",
        "        x.drop(idx[0],inplace = True)\n",
        "        n -= 1\n",
        "    return re"
      ],
      "execution_count": null,
      "outputs": []
    },
    {
      "cell_type": "code",
      "metadata": {
        "id": "n2fN9eqgISwy"
      },
      "source": [
        "n = df.shape[0]\n",
        "p = n//3"
      ],
      "execution_count": null,
      "outputs": []
    },
    {
      "cell_type": "code",
      "metadata": {
        "id": "YugRumPlIpsH"
      },
      "source": [
        "re = np.ndarray([0,13,1292],buffer = np.array([]))\n"
      ],
      "execution_count": null,
      "outputs": []
    },
    {
      "cell_type": "code",
      "metadata": {
        "id": "R-pl8PtzI7_W"
      },
      "source": [
        "count = 0"
      ],
      "execution_count": null,
      "outputs": []
    },
    {
      "cell_type": "code",
      "metadata": {
        "id": "iCcYV6trQPuJ"
      },
      "source": [
        "idx = df.index"
      ],
      "execution_count": null,
      "outputs": []
    },
    {
      "cell_type": "code",
      "metadata": {
        "id": "l57dxyLcQQ2m"
      },
      "source": [
        "tmp = df.iloc[0,:].to_numpy().reshape((1,13,1292))"
      ],
      "execution_count": null,
      "outputs": []
    },
    {
      "cell_type": "code",
      "metadata": {
        "colab": {
          "base_uri": "https://localhost:8080/"
        },
        "id": "xl-bg1RgaV4i",
        "outputId": "b9ba2fc7-d107-4613-f267-59ad531f806e"
      },
      "source": [
        "re.shape"
      ],
      "execution_count": null,
      "outputs": [
        {
          "output_type": "execute_result",
          "data": {
            "text/plain": [
              "(8485, 13, 1292)"
            ]
          },
          "metadata": {
            "tags": []
          },
          "execution_count": 16
        }
      ]
    },
    {
      "cell_type": "code",
      "metadata": {
        "colab": {
          "base_uri": "https://localhost:8080/"
        },
        "id": "oIXbq5hPajCZ",
        "outputId": "0e4107ab-7c27-49d7-9215-fc3f6bc4618f"
      },
      "source": [
        "count"
      ],
      "execution_count": null,
      "outputs": [
        {
          "output_type": "execute_result",
          "data": {
            "text/plain": [
              "9665"
            ]
          },
          "metadata": {
            "tags": []
          },
          "execution_count": 20
        }
      ]
    },
    {
      "cell_type": "code",
      "metadata": {
        "colab": {
          "base_uri": "https://localhost:8080/"
        },
        "id": "6_PaJA1CacFw",
        "outputId": "b0062e44-46e6-465c-a622-0a2e70c97ef4"
      },
      "source": [
        "p"
      ],
      "execution_count": null,
      "outputs": [
        {
          "output_type": "execute_result",
          "data": {
            "text/plain": [
              "9937"
            ]
          },
          "metadata": {
            "tags": []
          },
          "execution_count": 21
        }
      ]
    },
    {
      "cell_type": "code",
      "metadata": {
        "id": "brO7ipebeMqf"
      },
      "source": [
        "df = df.astype('float32')"
      ],
      "execution_count": null,
      "outputs": []
    },
    {
      "cell_type": "code",
      "metadata": {
        "colab": {
          "base_uri": "https://localhost:8080/",
          "height": 419
        },
        "id": "0Ua6oZe6Iyjv",
        "outputId": "362adf31-51c0-4701-cdba-44fc34a9df98"
      },
      "source": [
        "while n != 0: \n",
        "  if count == p:\n",
        "    break\n",
        "  idx = df.index\n",
        "  tmp = df.iloc[0,:].to_numpy().reshape((1,13,1292))\n",
        "  re = np.append(re,tmp,axis = 0)\n",
        "  n -= 1\n",
        "  count += 1"
      ],
      "execution_count": null,
      "outputs": [
        {
          "output_type": "error",
          "ename": "KeyboardInterrupt",
          "evalue": "ignored",
          "traceback": [
            "\u001b[0;31m---------------------------------------------------------------------------\u001b[0m",
            "\u001b[0;31mKeyboardInterrupt\u001b[0m                         Traceback (most recent call last)",
            "\u001b[0;32m<ipython-input-19-050dba446fcc>\u001b[0m in \u001b[0;36m<module>\u001b[0;34m()\u001b[0m\n\u001b[1;32m      4\u001b[0m   \u001b[0midx\u001b[0m \u001b[0;34m=\u001b[0m \u001b[0mdf\u001b[0m\u001b[0;34m.\u001b[0m\u001b[0mindex\u001b[0m\u001b[0;34m\u001b[0m\u001b[0;34m\u001b[0m\u001b[0m\n\u001b[1;32m      5\u001b[0m   \u001b[0mtmp\u001b[0m \u001b[0;34m=\u001b[0m \u001b[0mdf\u001b[0m\u001b[0;34m.\u001b[0m\u001b[0miloc\u001b[0m\u001b[0;34m[\u001b[0m\u001b[0;36m0\u001b[0m\u001b[0;34m,\u001b[0m\u001b[0;34m:\u001b[0m\u001b[0;34m]\u001b[0m\u001b[0;34m.\u001b[0m\u001b[0mto_numpy\u001b[0m\u001b[0;34m(\u001b[0m\u001b[0;34m)\u001b[0m\u001b[0;34m.\u001b[0m\u001b[0mreshape\u001b[0m\u001b[0;34m(\u001b[0m\u001b[0;34m(\u001b[0m\u001b[0;36m1\u001b[0m\u001b[0;34m,\u001b[0m\u001b[0;36m13\u001b[0m\u001b[0;34m,\u001b[0m\u001b[0;36m1292\u001b[0m\u001b[0;34m)\u001b[0m\u001b[0;34m)\u001b[0m\u001b[0;34m\u001b[0m\u001b[0;34m\u001b[0m\u001b[0m\n\u001b[0;32m----> 6\u001b[0;31m   \u001b[0mre\u001b[0m \u001b[0;34m=\u001b[0m \u001b[0mnp\u001b[0m\u001b[0;34m.\u001b[0m\u001b[0mappend\u001b[0m\u001b[0;34m(\u001b[0m\u001b[0mre\u001b[0m\u001b[0;34m,\u001b[0m\u001b[0mtmp\u001b[0m\u001b[0;34m,\u001b[0m\u001b[0maxis\u001b[0m \u001b[0;34m=\u001b[0m \u001b[0;36m0\u001b[0m\u001b[0;34m)\u001b[0m\u001b[0;34m\u001b[0m\u001b[0;34m\u001b[0m\u001b[0m\n\u001b[0m\u001b[1;32m      7\u001b[0m   \u001b[0mn\u001b[0m \u001b[0;34m-=\u001b[0m \u001b[0;36m1\u001b[0m\u001b[0;34m\u001b[0m\u001b[0;34m\u001b[0m\u001b[0m\n\u001b[1;32m      8\u001b[0m   \u001b[0mcount\u001b[0m \u001b[0;34m+=\u001b[0m \u001b[0;36m1\u001b[0m\u001b[0;34m\u001b[0m\u001b[0;34m\u001b[0m\u001b[0m\n",
            "\u001b[0;32m<__array_function__ internals>\u001b[0m in \u001b[0;36mappend\u001b[0;34m(*args, **kwargs)\u001b[0m\n",
            "\u001b[0;32m/usr/local/lib/python3.7/dist-packages/numpy/lib/function_base.py\u001b[0m in \u001b[0;36mappend\u001b[0;34m(arr, values, axis)\u001b[0m\n\u001b[1;32m   4669\u001b[0m         \u001b[0mvalues\u001b[0m \u001b[0;34m=\u001b[0m \u001b[0mravel\u001b[0m\u001b[0;34m(\u001b[0m\u001b[0mvalues\u001b[0m\u001b[0;34m)\u001b[0m\u001b[0;34m\u001b[0m\u001b[0;34m\u001b[0m\u001b[0m\n\u001b[1;32m   4670\u001b[0m         \u001b[0maxis\u001b[0m \u001b[0;34m=\u001b[0m \u001b[0marr\u001b[0m\u001b[0;34m.\u001b[0m\u001b[0mndim\u001b[0m\u001b[0;34m-\u001b[0m\u001b[0;36m1\u001b[0m\u001b[0;34m\u001b[0m\u001b[0;34m\u001b[0m\u001b[0m\n\u001b[0;32m-> 4671\u001b[0;31m     \u001b[0;32mreturn\u001b[0m \u001b[0mconcatenate\u001b[0m\u001b[0;34m(\u001b[0m\u001b[0;34m(\u001b[0m\u001b[0marr\u001b[0m\u001b[0;34m,\u001b[0m \u001b[0mvalues\u001b[0m\u001b[0;34m)\u001b[0m\u001b[0;34m,\u001b[0m \u001b[0maxis\u001b[0m\u001b[0;34m=\u001b[0m\u001b[0maxis\u001b[0m\u001b[0;34m)\u001b[0m\u001b[0;34m\u001b[0m\u001b[0;34m\u001b[0m\u001b[0m\n\u001b[0m\u001b[1;32m   4672\u001b[0m \u001b[0;34m\u001b[0m\u001b[0m\n\u001b[1;32m   4673\u001b[0m \u001b[0;34m\u001b[0m\u001b[0m\n",
            "\u001b[0;32m<__array_function__ internals>\u001b[0m in \u001b[0;36mconcatenate\u001b[0;34m(*args, **kwargs)\u001b[0m\n",
            "\u001b[0;31mKeyboardInterrupt\u001b[0m: "
          ]
        }
      ]
    },
    {
      "cell_type": "code",
      "metadata": {
        "colab": {
          "base_uri": "https://localhost:8080/"
        },
        "id": "TQqK9Fy8D39m",
        "outputId": "d4c86a18-f470-4fd8-ecbe-f1a8782a8d21"
      },
      "source": [
        "df.iloc[0,:].to_numpy().reshape((1,13,1292))"
      ],
      "execution_count": null,
      "outputs": [
        {
          "output_type": "execute_result",
          "data": {
            "text/plain": [
              "array([[[-243.9611969 , -258.21350098, -295.59088135, ...,\n",
              "         -403.86517334, -396.85910034, -406.62399292],\n",
              "        [ 136.55322266,  138.01483154,  130.82504272, ...,\n",
              "          167.65782166,  168.28622437,  157.23406982],\n",
              "        [  57.84633636,   41.29589844,   22.48103333, ...,\n",
              "           77.99763489,   66.44941711,   60.35290527],\n",
              "        ...,\n",
              "        [  -8.4535141 ,   -0.97962987,   10.82798767, ...,\n",
              "          -25.08483887,  -31.11982346,  -35.54663849],\n",
              "        [   8.57917786,    5.71994162,    2.95274925, ...,\n",
              "          -34.7728653 ,  -38.51311493,  -38.10894775],\n",
              "        [  -7.33879852,   -9.66025066,   -9.87447548, ...,\n",
              "          -13.65322113,  -12.78897667,  -12.4564724 ]]])"
            ]
          },
          "metadata": {
            "tags": []
          },
          "execution_count": 23
        }
      ]
    },
    {
      "cell_type": "code",
      "metadata": {
        "id": "MrEAdPx-8rfS"
      },
      "source": [
        "X_train, X_test, y_train, y_test = train_test_split(X, y, test_size=0.25)"
      ],
      "execution_count": null,
      "outputs": []
    },
    {
      "cell_type": "code",
      "metadata": {
        "id": "dnJF9SDG9Sgs"
      },
      "source": [
        "del re"
      ],
      "execution_count": null,
      "outputs": []
    },
    {
      "cell_type": "code",
      "metadata": {
        "id": "zy6zH4TiQqR2"
      },
      "source": [
        "model = keras.models.load_model(r'/content/drive/MyDrive/model_h5_conv1d_8.h5')"
      ],
      "execution_count": null,
      "outputs": []
    },
    {
      "cell_type": "code",
      "metadata": {
        "colab": {
          "base_uri": "https://localhost:8080/"
        },
        "id": "jCXvWkMzRLzb",
        "outputId": "db048342-ee21-4832-8278-7847b8e260e2"
      },
      "source": [
        "model.summary()"
      ],
      "execution_count": null,
      "outputs": [
        {
          "output_type": "stream",
          "text": [
            "Model: \"sequential\"\n",
            "_________________________________________________________________\n",
            "Layer (type)                 Output Shape              Param #   \n",
            "=================================================================\n",
            "conv1d (Conv1D)              (None, 36750, 64)         256       \n",
            "_________________________________________________________________\n",
            "conv1d_1 (Conv1D)            (None, 36748, 64)         12352     \n",
            "_________________________________________________________________\n",
            "max_pooling1d (MaxPooling1D) (None, 12249, 64)         0         \n",
            "_________________________________________________________________\n",
            "conv1d_2 (Conv1D)            (None, 12247, 64)         12352     \n",
            "_________________________________________________________________\n",
            "max_pooling1d_1 (MaxPooling1 (None, 4082, 64)          0         \n",
            "_________________________________________________________________\n",
            "conv1d_3 (Conv1D)            (None, 4080, 128)         24704     \n",
            "_________________________________________________________________\n",
            "max_pooling1d_2 (MaxPooling1 (None, 1360, 128)         0         \n",
            "_________________________________________________________________\n",
            "conv1d_4 (Conv1D)            (None, 1358, 128)         49280     \n",
            "_________________________________________________________________\n",
            "max_pooling1d_3 (MaxPooling1 (None, 452, 128)          0         \n",
            "_________________________________________________________________\n",
            "conv1d_5 (Conv1D)            (None, 450, 128)          49280     \n",
            "_________________________________________________________________\n",
            "max_pooling1d_4 (MaxPooling1 (None, 150, 128)          0         \n",
            "_________________________________________________________________\n",
            "conv1d_6 (Conv1D)            (None, 148, 256)          98560     \n",
            "_________________________________________________________________\n",
            "max_pooling1d_5 (MaxPooling1 (None, 49, 256)           0         \n",
            "_________________________________________________________________\n",
            "flatten (Flatten)            (None, 12544)             0         \n",
            "_________________________________________________________________\n",
            "dense (Dense)                (None, 10)                125450    \n",
            "=================================================================\n",
            "Total params: 372,234\n",
            "Trainable params: 372,234\n",
            "Non-trainable params: 0\n",
            "_________________________________________________________________\n"
          ],
          "name": "stdout"
        }
      ]
    }
  ]
}